{
 "cells": [
  {
   "cell_type": "code",
   "execution_count": 1,
   "metadata": {
    "collapsed": true
   },
   "outputs": [],
   "source": [
    "import pandas as pd\n",
    "import numpy as np\n",
    "from scipy import stats\n",
    "import matplotlib.pyplot as plt\n",
    "import datetime"
   ]
  },
  {
   "cell_type": "code",
   "execution_count": 11,
   "metadata": {
    "collapsed": true
   },
   "outputs": [],
   "source": [
    "# переделал на подсчет зон окончания поездки dropoff_longitude,dropoff_latitude\n",
    "# функция по подготовке файла к нужному формату\n",
    "def F_total(file_name):\n",
    "    data = pd.read_csv(file_name, sep=',', header=0)\n",
    "    data.columns = [k.strip() for k in data.columns] # убираем пробелы из заголовков столбцов   \n",
    "\n",
    "    # в 2016 году 'tpep_pickup_datetime' и 'tpep_dropoff_datetime' в 2014 без tpep_\n",
    "    #Фильтруем от поездок с: нулевой'tpep_pickup_datetime' длительностью\n",
    "    \n",
    "    data = data[(data['tpep_pickup_datetime'] != data['tpep_dropoff_datetime'])] # !!!поменять для 2016 года tpep_\n",
    "    #нулевым количеством пассажиров\n",
    "    data = data[data['passenger_count'] != 0]\n",
    "    #нулевым расстоянием поездки по счётчику\n",
    "    data = data[data['trip_distance'] != 0]\n",
    "    # Нью-Йорк вписан в прямоугольник от -74.25559 до -73.70001 градусов долготы и от 40.49612 до 40.91553 широты.\n",
    "    data = data[(data['dropoff_longitude'] >= -74.25559) & (data['dropoff_longitude'] <= -73.70001)]\n",
    "    data = data[(data['dropoff_latitude'] >= 40.49612) & (data['dropoff_latitude'] <= 40.91553)]\n",
    "    # Агрегируйте данные за май 2016 года по часам и областям\n",
    "    # добавим столбец только с датой и часами    \n",
    "    data['hours'] = data.tpep_pickup_datetime.str[:13]    # !!!поменять для 2016 года tpep_\n",
    "    \n",
    "    # делим нью-йорк на 2500 квадратов\n",
    "    # Нью-Йорк вписан в прямоугольник от -74.25559 до -73.70001 градусов долготы и от 40.49612 до 40.91553 широты.\n",
    "    dolg = np.linspace(-74.25559,-73.70001,51)\n",
    "    shir = np.linspace(40.49612,40.91553,51)  \n",
    "    \n",
    "    # считаем количество вызовов по ячейкам\n",
    "#    NY_cub = stats.binned_statistic_2d(data.pickup_longitude.values, data.pickup_latitude.values,  \n",
    "#                                       None, 'count', range=[[-74.25559,-73.70001],[40.49612,40.91553]], \n",
    "#                                       bins=[dolg,shir])\n",
    "    # считаем количество высадок по ячейкам\n",
    "\n",
    "    NY_cub = stats.binned_statistic_2d(data.dropoff_longitude.values, data.dropoff_latitude.values,  \n",
    "                                       None, 'count', range=[[-74.25559,-73.70001],[40.49612,40.91553]], \n",
    "                                       bins=[dolg,shir])\n",
    "    \n",
    "    # массив с регионами\n",
    "    reg_arr = np.zeros(len(NY_cub.binnumber), dtype=int)\n",
    "    data['regions'] = 0\n",
    "    \n",
    "    #переводим регионы к нашим, т.к. функция делает квадрат 52х52, x-(x/52*2+50)\n",
    "    #ппц на это убил день чтобы понять =(\n",
    "\n",
    "    for i in range(len(NY_cub.binnumber)):\n",
    "        reg_arr[i] = NY_cub.binnumber[i] - (NY_cub.binnumber[i]/52*2+50)    \n",
    "    \n",
    "    data.regions = reg_arr\n",
    "    \n",
    "    # добавим поле со счетчиком регионов, так удобнее вызывать pivot_table\n",
    "    data['count_r'] = 1\n",
    "    \n",
    "    # делаем группировку  по часам и регионам\n",
    "    dt_gr = data.pivot_table(values=['count_r'],index=['hours','regions'], aggfunc='count', fill_value = 0)    \n",
    "\n",
    "    # делаем группировку по Total_amount, Passenger_count, Trip_distance, Fare_amount\n",
    "    dt_feature = data.pivot_table(values=['total_amount', 'passenger_count', 'trip_distance', 'fare_amount']\n",
    "                                  ,index=['hours','regions'], aggfunc='sum', fill_value = 0) \n",
    "    \n",
    "    # выведем часы из индекса в обычный столбец\n",
    "    dt_gr.reset_index(inplace=True) \n",
    "    \n",
    "    # дополнительно сделаем группировку только по часам - всего в мае 31*24 = 744 часа \n",
    "    dt_hours = data.pivot_table(values=['regions'],index=['hours'], aggfunc='count', fill_value = 0)  \n",
    "    # выведем часы из индекса в обычный столбец \n",
    "    dt_hours.reset_index(inplace=True)   \n",
    "\n",
    "    # добавляем 0 в регионы без заказов, получается массив для мая 744*2500 = 1 860 000 \n",
    "    arr_dt_gr = dt_gr.values  # массив по ненулевым заказам\n",
    "    arr_dt_hours = dt_hours.values # массив с группировкой по всем часам\n",
    "\n",
    "    arr_null = [] # массив квадратов с 0 заказами\n",
    "    k = 0 # счетчик в массиве arr_dt_gr\n",
    "    for i in range(len(arr_dt_hours)): #len(arr_dt_hours)\n",
    "        for j in range(2500):\n",
    "            if (arr_dt_gr[k][0] == arr_dt_hours[i][0]): #часы совпадают\n",
    "                if (int(arr_dt_gr[k][1]) == j+1):              #квадрат не пустой\n",
    "                    arr_null.append([arr_dt_gr[k][0], int(arr_dt_gr[k][1]), int(arr_dt_gr[k][2])])\n",
    "                    if (k < len(arr_dt_gr)-1): k+=1\n",
    "                else:                                   #квадрат пустой\n",
    "                    arr_null.append([arr_dt_gr[k][0], j+1, 0])\n",
    "            else:                                       # часы не совпадают\n",
    "                arr_null.append([arr_dt_hours[i][0], j+1, 0])\n",
    "\n",
    "    # датафрейм с развернутый по часам и ячейкам\n",
    "    dt_itog = pd.DataFrame(arr_null) \n",
    "    dt_itog.columns=['data','region','count']\n",
    "    \n",
    "    # сгруппируем часам и регионам 744х2500\n",
    "    dt_itog_kvadrat = dt_itog.pivot_table(values=['count'],index=['data'], columns=['region'], \n",
    "                                          aggfunc='sum', fill_value = 0)\n",
    "    \n",
    "    dt_itog_kvadrat.reset_index(inplace=True) # выведем часы из индекса в обычный столбец\n",
    "    dt_itog_kvadrat.columns = [k for j,k in dt_itog_kvadrat.columns] # переименовываем столбцы    \n",
    "    dt_itog_kvadrat.rename(columns={'': 'date_hour'}, inplace=True)\n",
    "\n",
    "    dt_123 = dt_itog_kvadrat.drop([dt_itog_kvadrat.columns[0]], axis=1)\n",
    "    dt_123 = dt_123*1.0\n",
    "    dt_123.insert(loc=0, column='date_hour', value=dt_itog_kvadrat.date_hour.values)\n",
    "    \n",
    "#    dt_123.to_csv('kv_'+file_name,sep=';') # пишем в файл труды нашей группировки\n",
    "#    dt_feature.to_csv('feat_'+file_name,sep=';') # пишем в файл для новых фич\n",
    "    dt_gr.to_csv('droff_'+file_name,sep=';') # пишем в файл для зон высадки\n",
    "    return dt_gr"
   ]
  },
  {
   "cell_type": "code",
   "execution_count": 17,
   "metadata": {},
   "outputs": [
    {
     "name": "stdout",
     "output_type": "stream",
     "text": [
      "Wall time: 1min 4s\n"
     ]
    }
   ],
   "source": [
    "%%time\n",
    "file_m = 'yellow_tripdata_2016-06.csv'\n",
    "c = F_total(file_m)"
   ]
  },
  {
   "cell_type": "code",
   "execution_count": 10,
   "metadata": {},
   "outputs": [
    {
     "name": "stdout",
     "output_type": "stream",
     "text": [
      "(281327, 3)\n"
     ]
    },
    {
     "data": {
      "text/html": [
       "<div>\n",
       "<style>\n",
       "    .dataframe thead tr:only-child th {\n",
       "        text-align: right;\n",
       "    }\n",
       "\n",
       "    .dataframe thead th {\n",
       "        text-align: left;\n",
       "    }\n",
       "\n",
       "    .dataframe tbody tr th {\n",
       "        vertical-align: top;\n",
       "    }\n",
       "</style>\n",
       "<table border=\"1\" class=\"dataframe\">\n",
       "  <thead>\n",
       "    <tr style=\"text-align: right;\">\n",
       "      <th></th>\n",
       "      <th>hours</th>\n",
       "      <th>regions</th>\n",
       "      <th>count_r</th>\n",
       "    </tr>\n",
       "  </thead>\n",
       "  <tbody>\n",
       "    <tr>\n",
       "      <th>0</th>\n",
       "      <td>2016-01-01 00</td>\n",
       "      <td>-50</td>\n",
       "      <td>1</td>\n",
       "    </tr>\n",
       "    <tr>\n",
       "      <th>1</th>\n",
       "      <td>2016-01-01 00</td>\n",
       "      <td>-23</td>\n",
       "      <td>1</td>\n",
       "    </tr>\n",
       "  </tbody>\n",
       "</table>\n",
       "</div>"
      ],
      "text/plain": [
       "           hours  regions  count_r\n",
       "0  2016-01-01 00      -50        1\n",
       "1  2016-01-01 00      -23        1"
      ]
     },
     "execution_count": 10,
     "metadata": {},
     "output_type": "execute_result"
    }
   ],
   "source": [
    "print c.shape\n",
    "c.head(2)"
   ]
  }
 ],
 "metadata": {
  "kernelspec": {
   "display_name": "Python 2",
   "language": "python",
   "name": "python2"
  },
  "language_info": {
   "codemirror_mode": {
    "name": "ipython",
    "version": 2
   },
   "file_extension": ".py",
   "mimetype": "text/x-python",
   "name": "python",
   "nbconvert_exporter": "python",
   "pygments_lexer": "ipython2",
   "version": "2.7.14"
  }
 },
 "nbformat": 4,
 "nbformat_minor": 2
}
