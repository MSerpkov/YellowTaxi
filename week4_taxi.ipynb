{
 "cells": [
  {
   "cell_type": "markdown",
   "metadata": {},
   "source": [
    "### Неделя 4. Прогнозирование большого количества рядов"
   ]
  },
  {
   "cell_type": "code",
   "execution_count": 1,
   "metadata": {},
   "outputs": [
    {
     "name": "stdout",
     "output_type": "stream",
     "text": [
      "Populating the interactive namespace from numpy and matplotlib\n"
     ]
    },
    {
     "name": "stderr",
     "output_type": "stream",
     "text": [
      "C:\\Users\\JB\\Anaconda2\\lib\\site-packages\\statsmodels\\compat\\pandas.py:56: FutureWarning: The pandas.core.datetools module is deprecated and will be removed in a future version. Please use the pandas.tseries module instead.\n",
      "  from pandas.core import datetools\n",
      "C:\\Users\\JB\\Anaconda2\\lib\\site-packages\\sklearn\\cross_validation.py:41: DeprecationWarning: This module was deprecated in version 0.18 in favor of the model_selection module into which all the refactored classes and functions are moved. Also note that the interface of the new CV iterators are different from that of this module. This module will be removed in 0.20.\n",
      "  \"This module will be removed in 0.20.\", DeprecationWarning)\n"
     ]
    }
   ],
   "source": [
    "%pylab inline\n",
    "import pandas as pd\n",
    "import numpy as np\n",
    "from scipy import stats\n",
    "import matplotlib.pyplot as plt\n",
    "import datetime\n",
    "import statsmodels.api as sm\n",
    "from itertools import product\n",
    "from sklearn import cross_validation, linear_model, metrics\n",
    "import scipy.cluster.hierarchy as sch"
   ]
  },
  {
   "cell_type": "markdown",
   "metadata": {},
   "source": [
    "##### 1. Составьте из данных о поездках прямоугольную таблицу так, чтобы по строкам было время, а по столбцам идентификатор ячейки (возьмите только те, которые были отобраны на второй неделе). Не используйте данные за последние имеющиеся месяцы — май и июнь 2016! "
   ]
  },
  {
   "cell_type": "code",
   "execution_count": 2,
   "metadata": {
    "collapsed": true,
    "scrolled": false
   },
   "outputs": [],
   "source": [
    "# подготовил предварительно данные по 102 ячейкам за январь - апрель 2016\n",
    "data = pd.read_csv('data2014-2016_m4_102cell.csv', sep=';', header=0, index_col=['date_hour'], \n",
    "                  parse_dates=['date_hour'], dayfirst=True)"
   ]
  },
  {
   "cell_type": "code",
   "execution_count": 3,
   "metadata": {},
   "outputs": [
    {
     "data": {
      "text/html": [
       "<div>\n",
       "<style>\n",
       "    .dataframe thead tr:only-child th {\n",
       "        text-align: right;\n",
       "    }\n",
       "\n",
       "    .dataframe thead th {\n",
       "        text-align: left;\n",
       "    }\n",
       "\n",
       "    .dataframe tbody tr th {\n",
       "        vertical-align: top;\n",
       "    }\n",
       "</style>\n",
       "<table border=\"1\" class=\"dataframe\">\n",
       "  <thead>\n",
       "    <tr style=\"text-align: right;\">\n",
       "      <th></th>\n",
       "      <th>1075</th>\n",
       "      <th>1076</th>\n",
       "      <th>1077</th>\n",
       "      <th>1125</th>\n",
       "      <th>1126</th>\n",
       "      <th>1127</th>\n",
       "      <th>1128</th>\n",
       "      <th>1129</th>\n",
       "      <th>1130</th>\n",
       "      <th>1131</th>\n",
       "      <th>...</th>\n",
       "      <th>1630</th>\n",
       "      <th>1684</th>\n",
       "      <th>1733</th>\n",
       "      <th>1734</th>\n",
       "      <th>1783</th>\n",
       "      <th>2068</th>\n",
       "      <th>2069</th>\n",
       "      <th>2118</th>\n",
       "      <th>2119</th>\n",
       "      <th>2168</th>\n",
       "    </tr>\n",
       "    <tr>\n",
       "      <th>date_hour</th>\n",
       "      <th></th>\n",
       "      <th></th>\n",
       "      <th></th>\n",
       "      <th></th>\n",
       "      <th></th>\n",
       "      <th></th>\n",
       "      <th></th>\n",
       "      <th></th>\n",
       "      <th></th>\n",
       "      <th></th>\n",
       "      <th></th>\n",
       "      <th></th>\n",
       "      <th></th>\n",
       "      <th></th>\n",
       "      <th></th>\n",
       "      <th></th>\n",
       "      <th></th>\n",
       "      <th></th>\n",
       "      <th></th>\n",
       "      <th></th>\n",
       "      <th></th>\n",
       "    </tr>\n",
       "  </thead>\n",
       "  <tbody>\n",
       "    <tr>\n",
       "      <th>2014-01-01 00:00:00</th>\n",
       "      <td>87</td>\n",
       "      <td>146</td>\n",
       "      <td>70</td>\n",
       "      <td>113</td>\n",
       "      <td>367</td>\n",
       "      <td>645</td>\n",
       "      <td>589</td>\n",
       "      <td>799</td>\n",
       "      <td>948</td>\n",
       "      <td>321</td>\n",
       "      <td>...</td>\n",
       "      <td>9</td>\n",
       "      <td>0</td>\n",
       "      <td>5</td>\n",
       "      <td>89</td>\n",
       "      <td>10</td>\n",
       "      <td>35</td>\n",
       "      <td>9</td>\n",
       "      <td>106</td>\n",
       "      <td>22</td>\n",
       "      <td>71</td>\n",
       "    </tr>\n",
       "    <tr>\n",
       "      <th>2014-01-01 01:00:00</th>\n",
       "      <td>92</td>\n",
       "      <td>184</td>\n",
       "      <td>93</td>\n",
       "      <td>153</td>\n",
       "      <td>539</td>\n",
       "      <td>604</td>\n",
       "      <td>490</td>\n",
       "      <td>635</td>\n",
       "      <td>667</td>\n",
       "      <td>225</td>\n",
       "      <td>...</td>\n",
       "      <td>24</td>\n",
       "      <td>0</td>\n",
       "      <td>3</td>\n",
       "      <td>22</td>\n",
       "      <td>2</td>\n",
       "      <td>5</td>\n",
       "      <td>0</td>\n",
       "      <td>87</td>\n",
       "      <td>0</td>\n",
       "      <td>44</td>\n",
       "    </tr>\n",
       "  </tbody>\n",
       "</table>\n",
       "<p>2 rows × 102 columns</p>\n",
       "</div>"
      ],
      "text/plain": [
       "                     1075  1076  1077  1125  1126  1127  1128  1129  1130  \\\n",
       "date_hour                                                                   \n",
       "2014-01-01 00:00:00    87   146    70   113   367   645   589   799   948   \n",
       "2014-01-01 01:00:00    92   184    93   153   539   604   490   635   667   \n",
       "\n",
       "                     1131  ...   1630  1684  1733  1734  1783  2068  2069  \\\n",
       "date_hour                  ...                                              \n",
       "2014-01-01 00:00:00   321  ...      9     0     5    89    10    35     9   \n",
       "2014-01-01 01:00:00   225  ...     24     0     3    22     2     5     0   \n",
       "\n",
       "                     2118  2119  2168  \n",
       "date_hour                              \n",
       "2014-01-01 00:00:00   106    22    71  \n",
       "2014-01-01 01:00:00    87     0    44  \n",
       "\n",
       "[2 rows x 102 columns]"
      ]
     },
     "execution_count": 3,
     "metadata": {},
     "output_type": "execute_result"
    }
   ],
   "source": [
    "data.head(2)"
   ]
  },
  {
   "cell_type": "code",
   "execution_count": 4,
   "metadata": {},
   "outputs": [
    {
     "data": {
      "text/plain": [
       "20423"
      ]
     },
     "execution_count": 4,
     "metadata": {},
     "output_type": "execute_result"
    }
   ],
   "source": [
    "len(data)"
   ]
  },
  {
   "cell_type": "markdown",
   "metadata": {},
   "source": [
    "##### 2. Перед проведением кластеризации стандартизуйте столбцы (вычтите выборочное среднее и поделите на выборочную дисперсию). Это необходимо, поскольку при выборе модели ARIMA имеет значение только форма ряда, но не его средний уровень и размах колебаний."
   ]
  },
  {
   "cell_type": "code",
   "execution_count": 4,
   "metadata": {
    "collapsed": true,
    "scrolled": true
   },
   "outputs": [],
   "source": [
    "data_norm = data.copy()\n",
    "for i in range(len(data.columns)):\n",
    "    data_norm[data.columns[i]] = (data[data.columns[i]] - data[data.columns[i]].mean())/data[data.columns[i]].std()"
   ]
  },
  {
   "cell_type": "code",
   "execution_count": 6,
   "metadata": {
    "scrolled": true
   },
   "outputs": [
    {
     "data": {
      "text/html": [
       "<div>\n",
       "<style>\n",
       "    .dataframe thead tr:only-child th {\n",
       "        text-align: right;\n",
       "    }\n",
       "\n",
       "    .dataframe thead th {\n",
       "        text-align: left;\n",
       "    }\n",
       "\n",
       "    .dataframe tbody tr th {\n",
       "        vertical-align: top;\n",
       "    }\n",
       "</style>\n",
       "<table border=\"1\" class=\"dataframe\">\n",
       "  <thead>\n",
       "    <tr style=\"text-align: right;\">\n",
       "      <th></th>\n",
       "      <th>1075</th>\n",
       "      <th>1076</th>\n",
       "      <th>1077</th>\n",
       "      <th>1125</th>\n",
       "      <th>1126</th>\n",
       "      <th>1127</th>\n",
       "      <th>1128</th>\n",
       "      <th>1129</th>\n",
       "      <th>1130</th>\n",
       "      <th>1131</th>\n",
       "      <th>...</th>\n",
       "      <th>1630</th>\n",
       "      <th>1684</th>\n",
       "      <th>1733</th>\n",
       "      <th>1734</th>\n",
       "      <th>1783</th>\n",
       "      <th>2068</th>\n",
       "      <th>2069</th>\n",
       "      <th>2118</th>\n",
       "      <th>2119</th>\n",
       "      <th>2168</th>\n",
       "    </tr>\n",
       "    <tr>\n",
       "      <th>date_hour</th>\n",
       "      <th></th>\n",
       "      <th></th>\n",
       "      <th></th>\n",
       "      <th></th>\n",
       "      <th></th>\n",
       "      <th></th>\n",
       "      <th></th>\n",
       "      <th></th>\n",
       "      <th></th>\n",
       "      <th></th>\n",
       "      <th></th>\n",
       "      <th></th>\n",
       "      <th></th>\n",
       "      <th></th>\n",
       "      <th></th>\n",
       "      <th></th>\n",
       "      <th></th>\n",
       "      <th></th>\n",
       "      <th></th>\n",
       "      <th></th>\n",
       "      <th></th>\n",
       "    </tr>\n",
       "  </thead>\n",
       "  <tbody>\n",
       "    <tr>\n",
       "      <th>2014-01-01 00:00:00</th>\n",
       "      <td>0.513983</td>\n",
       "      <td>0.095196</td>\n",
       "      <td>-0.353265</td>\n",
       "      <td>0.938354</td>\n",
       "      <td>1.535529</td>\n",
       "      <td>2.136306</td>\n",
       "      <td>1.288134</td>\n",
       "      <td>1.841018</td>\n",
       "      <td>1.781473</td>\n",
       "      <td>1.889992</td>\n",
       "      <td>...</td>\n",
       "      <td>0.684813</td>\n",
       "      <td>-0.872965</td>\n",
       "      <td>-0.408468</td>\n",
       "      <td>-0.756570</td>\n",
       "      <td>-1.209861</td>\n",
       "      <td>-0.860160</td>\n",
       "      <td>-0.031320</td>\n",
       "      <td>-0.346684</td>\n",
       "      <td>-0.578707</td>\n",
       "      <td>0.316548</td>\n",
       "    </tr>\n",
       "    <tr>\n",
       "      <th>2014-01-01 01:00:00</th>\n",
       "      <td>0.633956</td>\n",
       "      <td>0.554651</td>\n",
       "      <td>0.005961</td>\n",
       "      <td>1.873884</td>\n",
       "      <td>3.136857</td>\n",
       "      <td>1.880833</td>\n",
       "      <td>0.777699</td>\n",
       "      <td>1.107496</td>\n",
       "      <td>0.756177</td>\n",
       "      <td>0.790655</td>\n",
       "      <td>...</td>\n",
       "      <td>3.629677</td>\n",
       "      <td>-0.872965</td>\n",
       "      <td>-0.732165</td>\n",
       "      <td>-1.186321</td>\n",
       "      <td>-1.271174</td>\n",
       "      <td>-1.385054</td>\n",
       "      <td>-1.109988</td>\n",
       "      <td>-0.605104</td>\n",
       "      <td>-1.270152</td>\n",
       "      <td>-0.435323</td>\n",
       "    </tr>\n",
       "  </tbody>\n",
       "</table>\n",
       "<p>2 rows × 102 columns</p>\n",
       "</div>"
      ],
      "text/plain": [
       "                         1075      1076      1077      1125      1126  \\\n",
       "date_hour                                                               \n",
       "2014-01-01 00:00:00  0.513983  0.095196 -0.353265  0.938354  1.535529   \n",
       "2014-01-01 01:00:00  0.633956  0.554651  0.005961  1.873884  3.136857   \n",
       "\n",
       "                         1127      1128      1129      1130      1131  \\\n",
       "date_hour                                                               \n",
       "2014-01-01 00:00:00  2.136306  1.288134  1.841018  1.781473  1.889992   \n",
       "2014-01-01 01:00:00  1.880833  0.777699  1.107496  0.756177  0.790655   \n",
       "\n",
       "                       ...         1630      1684      1733      1734  \\\n",
       "date_hour              ...                                              \n",
       "2014-01-01 00:00:00    ...     0.684813 -0.872965 -0.408468 -0.756570   \n",
       "2014-01-01 01:00:00    ...     3.629677 -0.872965 -0.732165 -1.186321   \n",
       "\n",
       "                         1783      2068      2069      2118      2119  \\\n",
       "date_hour                                                               \n",
       "2014-01-01 00:00:00 -1.209861 -0.860160 -0.031320 -0.346684 -0.578707   \n",
       "2014-01-01 01:00:00 -1.271174 -1.385054 -1.109988 -0.605104 -1.270152   \n",
       "\n",
       "                         2168  \n",
       "date_hour                      \n",
       "2014-01-01 00:00:00  0.316548  \n",
       "2014-01-01 01:00:00 -0.435323  \n",
       "\n",
       "[2 rows x 102 columns]"
      ]
     },
     "execution_count": 6,
     "metadata": {},
     "output_type": "execute_result"
    }
   ],
   "source": [
    "data_norm.head(2)"
   ]
  },
  {
   "cell_type": "markdown",
   "metadata": {},
   "source": [
    "##### 3.Кластеризуйте географические зоны по значениям стандартизованных рядов. Подберите число кластеров так, чтобы оно было не слишком большим, но ряды внутри кластеров имели похожую форму. Постройте графики стандартизованных рядов каждого кластера, чтобы в этом убедиться."
   ]
  },
  {
   "cell_type": "code",
   "execution_count": 7,
   "metadata": {},
   "outputs": [
    {
     "name": "stdout",
     "output_type": "stream",
     "text": [
      "Wall time: 3.15 s\n"
     ]
    },
    {
     "data": {
      "image/png": "[encoded data removed]",
      "text/plain": [
       "<matplotlib.figure.Figure at 0xa8a4ef0>"
      ]
     },
     "metadata": {},
     "output_type": "display_data"
    }
   ],
   "source": [
    "%%time\n",
    "# построим дендрограмму чтобы понять сколько кластеров строить\n",
    "# Compute and plot first dendrogram.\n",
    "fig = pylab.figure(figsize=(8,8))\n",
    "Y = sch.linkage(data[17519:].values, method='centroid')\n",
    "Z1 = sch.dendrogram(Y, orientation='top')"
   ]
  },
  {
   "cell_type": "markdown",
   "metadata": {},
   "source": [
    "судя по дендрограмме надо брать или 3 или 9 кластеров, попробуем 9 для большей точности"
   ]
  },
  {
   "cell_type": "code",
   "execution_count": 8,
   "metadata": {},
   "outputs": [
    {
     "data": {
      "text/plain": [
       "(20423L, 102L)"
      ]
     },
     "execution_count": 8,
     "metadata": {},
     "output_type": "execute_result"
    }
   ],
   "source": [
    "data.values.shape"
   ]
  },
  {
   "cell_type": "code",
   "execution_count": 6,
   "metadata": {
    "collapsed": true
   },
   "outputs": [],
   "source": [
    "# возьмем для классификации метод k-means\n",
    "n_clust = 9 # количество кластеров\n",
    "from sklearn.cluster import KMeans\n",
    "KM_model = KMeans(n_clusters=n_clust, random_state=1)\n",
    "preds = KM_model.fit_predict(data_norm.values.transpose())  # транспонирую данные т.к. k-means работает по строкам"
   ]
  },
  {
   "cell_type": "code",
   "execution_count": 7,
   "metadata": {
    "collapsed": true
   },
   "outputs": [],
   "source": [
    "# для удобства сделаю датафрейм с ячейками и кластерами\n",
    "df_clust = pd.DataFrame(data.columns)\n",
    "df_clust['cluster'] = preds\n",
    "df_clust.columns = ['cell', 'cluster']\n",
    "df_clust['coef_d'] = 0 # столбец для коэф-тов детерминации"
   ]
  },
  {
   "cell_type": "code",
   "execution_count": 8,
   "metadata": {
    "scrolled": true
   },
   "outputs": [
    {
     "data": {
      "text/html": [
       "<div>\n",
       "<style>\n",
       "    .dataframe thead tr:only-child th {\n",
       "        text-align: right;\n",
       "    }\n",
       "\n",
       "    .dataframe thead th {\n",
       "        text-align: left;\n",
       "    }\n",
       "\n",
       "    .dataframe tbody tr th {\n",
       "        vertical-align: top;\n",
       "    }\n",
       "</style>\n",
       "<table border=\"1\" class=\"dataframe\">\n",
       "  <thead>\n",
       "    <tr style=\"text-align: right;\">\n",
       "      <th></th>\n",
       "      <th>cell</th>\n",
       "      <th>cluster</th>\n",
       "      <th>coef_d</th>\n",
       "    </tr>\n",
       "  </thead>\n",
       "  <tbody>\n",
       "    <tr>\n",
       "      <th>0</th>\n",
       "      <td>1075</td>\n",
       "      <td>5</td>\n",
       "      <td>0</td>\n",
       "    </tr>\n",
       "    <tr>\n",
       "      <th>1</th>\n",
       "      <td>1076</td>\n",
       "      <td>2</td>\n",
       "      <td>0</td>\n",
       "    </tr>\n",
       "    <tr>\n",
       "      <th>2</th>\n",
       "      <td>1077</td>\n",
       "      <td>2</td>\n",
       "      <td>0</td>\n",
       "    </tr>\n",
       "    <tr>\n",
       "      <th>3</th>\n",
       "      <td>1125</td>\n",
       "      <td>0</td>\n",
       "      <td>0</td>\n",
       "    </tr>\n",
       "    <tr>\n",
       "      <th>4</th>\n",
       "      <td>1126</td>\n",
       "      <td>0</td>\n",
       "      <td>0</td>\n",
       "    </tr>\n",
       "  </tbody>\n",
       "</table>\n",
       "</div>"
      ],
      "text/plain": [
       "   cell  cluster  coef_d\n",
       "0  1075        5       0\n",
       "1  1076        2       0\n",
       "2  1077        2       0\n",
       "3  1125        0       0\n",
       "4  1126        0       0"
      ]
     },
     "execution_count": 8,
     "metadata": {},
     "output_type": "execute_result"
    }
   ],
   "source": [
    "df_clust.iloc[0:5]"
   ]
  },
  {
   "cell_type": "code",
   "execution_count": 12,
   "metadata": {
    "scrolled": false
   },
   "outputs": [
    {
     "data": {
      "text/plain": [
       "array([5, 2, 2, 0, 0, 0, 0, 0, 6, 0, 5, 1, 1, 3, 3, 6, 6, 0, 0, 0, 2, 0, 2,\n",
       "       2, 1, 1, 1, 1, 1, 6, 6, 0, 0, 0, 0, 0, 2, 2, 1, 1, 1, 1, 2, 2, 0, 5,\n",
       "       5, 2, 2, 2, 2, 6, 6, 2, 2, 2, 2, 2, 2, 2, 5, 3, 6, 6, 6, 1, 5, 2, 2,\n",
       "       2, 2, 3, 3, 3, 3, 6, 3, 2, 3, 3, 3, 3, 3, 3, 3, 8, 4, 8, 8, 4, 4, 8,\n",
       "       4, 5, 5, 5, 5, 7, 7, 7, 7, 7])"
      ]
     },
     "execution_count": 12,
     "metadata": {},
     "output_type": "execute_result"
    }
   ],
   "source": [
    "# посмотрим на результаты кластеризации\n",
    "preds"
   ]
  },
  {
   "cell_type": "code",
   "execution_count": 13,
   "metadata": {
    "collapsed": true
   },
   "outputs": [],
   "source": [
    "# массив с центрами кластеров (взял из 4-го пункта) и цветами графиков\n",
    "arr_centr_cell = ['1230', '1272', '1333','1387','1533','1283','1326','2118','1530']\n",
    "arr_color = ['b.','r.','g.','m.','y.','c.','k.','b.','r.']"
   ]
  },
  {
   "cell_type": "code",
   "execution_count": 14,
   "metadata": {},
   "outputs": [
    {
     "data": {
      "image/png": "[encoded data removed]",
      "text/plain": [
       "<matplotlib.figure.Figure at 0x17409f98>"
      ]
     },
     "metadata": {},
     "output_type": "display_data"
    }
   ],
   "source": [
    "#нарисуем данные для визуального анализа, ближайшую к центру ячейку из кластера и его центральный ряд\n",
    "# при хорошей кластеризации график будет вытянут вдоль диагонали\n",
    "plt.figure(figsize(12,8))\n",
    "for i in range(len(arr_centr_cell)):\n",
    "    pyplot.subplot(3, 3, i+1)\n",
    "    plot(data_norm[arr_centr_cell[i]].values, KM_model.cluster_centers_[i], arr_color[i], label='klaster '+str(i))\n",
    "    plt.legend()"
   ]
  },
  {
   "cell_type": "code",
   "execution_count": 15,
   "metadata": {},
   "outputs": [
    {
     "data": {
      "image/png": "[encoded data removed]",
      "text/plain": [
       "<matplotlib.figure.Figure at 0x150d34a8>"
      ]
     },
     "metadata": {},
     "output_type": "display_data"
    }
   ],
   "source": [
    "# для сравнения сдвину центры кластеров на 1 и посмотрю так-же хорошо график выглядит или нет\n",
    "plt.figure(figsize(12,8))\n",
    "for i in range(len(arr_centr_cell)):\n",
    "    if i < 8: j=i+1\n",
    "    else: j=0\n",
    "    pyplot.subplot(3, 3, i+1)\n",
    "    plot(data_norm[arr_centr_cell[i]].values, KM_model.cluster_centers_[j], arr_color[i], label='klaster '+str(i))\n",
    "    plt.legend()"
   ]
  },
  {
   "cell_type": "markdown",
   "metadata": {},
   "source": [
    "Видно что графики расплылись от диагонали, появились разрывы, считаю что классификация проведена хорошо. \n",
    "Хотелось бы еще численно оценить итоги классификации"
   ]
  },
  {
   "cell_type": "markdown",
   "metadata": {},
   "source": [
    "##### 4.В каждом кластере выберите наиболее типичный ряд (например, это может быть ряд, соответствующий центру кластера). "
   ]
  },
  {
   "cell_type": "code",
   "execution_count": 16,
   "metadata": {
    "scrolled": true
   },
   "outputs": [
    {
     "name": "stdout",
     "output_type": "stream",
     "text": [
      "cluster: 0   cell: 1230 макс коэф-т детерминации: 0.950945702872\n",
      "cluster: 1   cell: 1272 макс коэф-т детерминации: 0.814482965658\n",
      "cluster: 2   cell: 1333 макс коэф-т детерминации: 0.946142300452\n",
      "cluster: 3   cell: 1387 макс коэф-т детерминации: 0.794952039379\n",
      "cluster: 4   cell: 1533 макс коэф-т детерминации: 0.841749728627\n",
      "cluster: 5   cell: 1283 макс коэф-т детерминации: 0.842872774467\n",
      "cluster: 6   cell: 1326 макс коэф-т детерминации: 0.928628107774\n",
      "cluster: 7   cell: 2118 макс коэф-т детерминации: 0.836975493962\n",
      "cluster: 8   cell: 1530 макс коэф-т детерминации: 0.879266391699\n"
     ]
    },
    {
     "name": "stderr",
     "output_type": "stream",
     "text": [
      "C:\\Users\\JB\\Anaconda2\\lib\\site-packages\\pandas\\core\\indexing.py:179: SettingWithCopyWarning: \n",
      "A value is trying to be set on a copy of a slice from a DataFrame\n",
      "\n",
      "See the caveats in the documentation: http://pandas.pydata.org/pandas-docs/stable/indexing.html#indexing-view-versus-copy\n",
      "  self._setitem_with_indexer(indexer, value)\n"
     ]
    }
   ],
   "source": [
    "# найдем ячейки которые ближе всего к центрам кластеров, считаю максимальный коэф-т детерминации\n",
    "int_s = 0\n",
    "cl_name = ''\n",
    "k=0\n",
    "for i in range(n_clust):\n",
    "    int_s = 0\n",
    "    for j in range(len(data_norm.columns)):\n",
    "        if i == df_clust.cluster.iloc[j]:  # если номер кластера соответсвует текущему центру\n",
    "            k = metrics.r2_score(data_norm[data_norm.columns[j]].values, KM_model.cluster_centers_[i])\n",
    "            df_clust['coef_d'].iloc[j] = k\n",
    "            if (int_s < k): \n",
    "                int_s = k\n",
    "                cl_name = data_norm.columns[j]\n",
    "    print 'cluster: ' + str(i) + '   cell: ' + cl_name + ' макс коэф-т детерминации: ' + str(int_s)"
   ]
  },
  {
   "cell_type": "code",
   "execution_count": 17,
   "metadata": {
    "scrolled": true
   },
   "outputs": [
    {
     "name": "stdout",
     "output_type": "stream",
     "text": [
      "cluster: 0   cell: 1129 мин коэф-т детерминации: 0.663926386248\n",
      "cluster: 1   cell: 1278 мин коэф-т детерминации: 0.442529341215\n",
      "cluster: 2   cell: 1183 мин коэф-т детерминации: 0.494544207311\n",
      "cluster: 3   cell: 1431 мин коэф-т детерминации: 0.162723140058\n",
      "cluster: 4   cell: 1630 мин коэф-т детерминации: 0.643152879008\n",
      "cluster: 5   cell: 1132 мин коэф-т детерминации: 0.378182498924\n",
      "cluster: 6   cell: 1176 мин коэф-т детерминации: 0.622954436088\n",
      "cluster: 7   cell: 2069 мин коэф-т детерминации: 0.593204469987\n",
      "cluster: 8   cell: 1480 мин коэф-т детерминации: 0.753364930964\n"
     ]
    }
   ],
   "source": [
    "# посмотрим на самые дальние ячейки от центров кластеров, считаю минимальный коэф-т детерминации\n",
    "int_s = 0\n",
    "cl_name = ''\n",
    "k=0\n",
    "for i in range(n_clust):\n",
    "    int_s = 1\n",
    "    for j in range(len(data_norm.columns)):\n",
    "        if i == df_clust.cluster.iloc[j]:  # если номер кластера соответсвует текущему центру\n",
    "            k = metrics.r2_score(data_norm[data_norm.columns[j]].values, KM_model.cluster_centers_[i])\n",
    "#            df_clust['coef_d'].iloc[j] = k\n",
    "            if (int_s > k): \n",
    "                int_s = k\n",
    "                cl_name = data_norm.columns[j]\n",
    "    print 'cluster: ' + str(i) + '   cell: ' + cl_name + ' мин коэф-т детерминации: ' + str(int_s)"
   ]
  },
  {
   "cell_type": "markdown",
   "metadata": {},
   "source": [
    "отрицательных коэфициентов нет, уже хорошо"
   ]
  },
  {
   "cell_type": "code",
   "execution_count": 18,
   "metadata": {},
   "outputs": [
    {
     "data": {
      "text/plain": [
       "0.7392515769395654"
      ]
     },
     "execution_count": 18,
     "metadata": {},
     "output_type": "execute_result"
    }
   ],
   "source": [
    "# посчитаю средний коэф-т деерминации, 0.74 очень даже неплохо \n",
    "df_clust['coef_d'].mean()"
   ]
  },
  {
   "cell_type": "markdown",
   "metadata": {},
   "source": [
    "##### строим модель для:\n",
    "1. cluster:  cell: 1230\n",
    "2. cluster:  cell: 1272\n",
    "3. cluster:  cell: 1333\n",
    "4. cluster:  cell: 1387\n",
    "5. cluster:  cell: 1533\n",
    "6. cluster:  cell: 1283\n",
    "7. cluster:  cell: 1326\n",
    "8. cluster:  cell: 2118\n",
    "9. cluster:  cell: 1530"
   ]
  },
  {
   "cell_type": "markdown",
   "metadata": {},
   "source": [
    "##### 5.Для выбранных географических зон подберите на исходных рядах оптимальную структуру моделей — набор регрессионных признаков и значения гиперпараметров p,d,q,P,D,Qp,d,q,P,D,Qp,d,q,P,D,Q — так, как это делалось на прошлой неделе. Не используйте данные за последний имеющийся месяц — май и июнь 2016! "
   ]
  },
  {
   "cell_type": "code",
   "execution_count": 19,
   "metadata": {},
   "outputs": [
    {
     "data": {
      "text/plain": [
       "20423"
      ]
     },
     "execution_count": 19,
     "metadata": {},
     "output_type": "execute_result"
    }
   ],
   "source": [
    "len(data)"
   ]
  },
  {
   "cell_type": "code",
   "execution_count": 20,
   "metadata": {
    "scrolled": true
   },
   "outputs": [
    {
     "data": {
      "text/html": [
       "<div>\n",
       "<style>\n",
       "    .dataframe thead tr:only-child th {\n",
       "        text-align: right;\n",
       "    }\n",
       "\n",
       "    .dataframe thead th {\n",
       "        text-align: left;\n",
       "    }\n",
       "\n",
       "    .dataframe tbody tr th {\n",
       "        vertical-align: top;\n",
       "    }\n",
       "</style>\n",
       "<table border=\"1\" class=\"dataframe\">\n",
       "  <thead>\n",
       "    <tr style=\"text-align: right;\">\n",
       "      <th></th>\n",
       "      <th>1075</th>\n",
       "      <th>1076</th>\n",
       "      <th>1077</th>\n",
       "      <th>1125</th>\n",
       "      <th>1126</th>\n",
       "      <th>1127</th>\n",
       "      <th>1128</th>\n",
       "      <th>1129</th>\n",
       "      <th>1130</th>\n",
       "      <th>1131</th>\n",
       "      <th>...</th>\n",
       "      <th>1630</th>\n",
       "      <th>1684</th>\n",
       "      <th>1733</th>\n",
       "      <th>1734</th>\n",
       "      <th>1783</th>\n",
       "      <th>2068</th>\n",
       "      <th>2069</th>\n",
       "      <th>2118</th>\n",
       "      <th>2119</th>\n",
       "      <th>2168</th>\n",
       "    </tr>\n",
       "    <tr>\n",
       "      <th>date_hour</th>\n",
       "      <th></th>\n",
       "      <th></th>\n",
       "      <th></th>\n",
       "      <th></th>\n",
       "      <th></th>\n",
       "      <th></th>\n",
       "      <th></th>\n",
       "      <th></th>\n",
       "      <th></th>\n",
       "      <th></th>\n",
       "      <th></th>\n",
       "      <th></th>\n",
       "      <th></th>\n",
       "      <th></th>\n",
       "      <th></th>\n",
       "      <th></th>\n",
       "      <th></th>\n",
       "      <th></th>\n",
       "      <th></th>\n",
       "      <th></th>\n",
       "      <th></th>\n",
       "    </tr>\n",
       "  </thead>\n",
       "  <tbody>\n",
       "    <tr>\n",
       "      <th>2015-12-31 23:00:00</th>\n",
       "      <td>48</td>\n",
       "      <td>103</td>\n",
       "      <td>40</td>\n",
       "      <td>54</td>\n",
       "      <td>186</td>\n",
       "      <td>334</td>\n",
       "      <td>347</td>\n",
       "      <td>446</td>\n",
       "      <td>505</td>\n",
       "      <td>133</td>\n",
       "      <td>...</td>\n",
       "      <td>10</td>\n",
       "      <td>0</td>\n",
       "      <td>3</td>\n",
       "      <td>131</td>\n",
       "      <td>50</td>\n",
       "      <td>75</td>\n",
       "      <td>1</td>\n",
       "      <td>162</td>\n",
       "      <td>52</td>\n",
       "      <td>97</td>\n",
       "    </tr>\n",
       "    <tr>\n",
       "      <th>2016-01-01 00:00:00</th>\n",
       "      <td>80</td>\n",
       "      <td>144</td>\n",
       "      <td>50</td>\n",
       "      <td>77</td>\n",
       "      <td>319</td>\n",
       "      <td>402</td>\n",
       "      <td>531</td>\n",
       "      <td>617</td>\n",
       "      <td>846</td>\n",
       "      <td>267</td>\n",
       "      <td>...</td>\n",
       "      <td>12</td>\n",
       "      <td>0</td>\n",
       "      <td>2</td>\n",
       "      <td>44</td>\n",
       "      <td>5</td>\n",
       "      <td>41</td>\n",
       "      <td>4</td>\n",
       "      <td>70</td>\n",
       "      <td>7</td>\n",
       "      <td>66</td>\n",
       "    </tr>\n",
       "  </tbody>\n",
       "</table>\n",
       "<p>2 rows × 102 columns</p>\n",
       "</div>"
      ],
      "text/plain": [
       "                     1075  1076  1077  1125  1126  1127  1128  1129  1130  \\\n",
       "date_hour                                                                   \n",
       "2015-12-31 23:00:00    48   103    40    54   186   334   347   446   505   \n",
       "2016-01-01 00:00:00    80   144    50    77   319   402   531   617   846   \n",
       "\n",
       "                     1131  ...   1630  1684  1733  1734  1783  2068  2069  \\\n",
       "date_hour                  ...                                              \n",
       "2015-12-31 23:00:00   133  ...     10     0     3   131    50    75     1   \n",
       "2016-01-01 00:00:00   267  ...     12     0     2    44     5    41     4   \n",
       "\n",
       "                     2118  2119  2168  \n",
       "date_hour                              \n",
       "2015-12-31 23:00:00   162    52    97  \n",
       "2016-01-01 00:00:00    70     7    66  \n",
       "\n",
       "[2 rows x 102 columns]"
      ]
     },
     "execution_count": 20,
     "metadata": {},
     "output_type": "execute_result"
    }
   ],
   "source": [
    "data.iloc[17518:17520]"
   ]
  },
  {
   "cell_type": "code",
   "execution_count": 161,
   "metadata": {},
   "outputs": [
    {
     "data": {
      "text/plain": [
       "2904"
      ]
     },
     "execution_count": 161,
     "metadata": {},
     "output_type": "execute_result"
    }
   ],
   "source": [
    "# в data_ostatki буду хранить остатки от регрессии\n",
    "data_ostatki = data.copy()\n",
    "data_ostatki.drop(data_ostatki[data_ostatki.index < '2016-01-01 00:00:00'].index, inplace=True)\n",
    "len(data_ostatki)"
   ]
  },
  {
   "cell_type": "markdown",
   "metadata": {},
   "source": [
    "настрою регрессию за 2 года 2014 и 2015, на 4 месяцах 2016 сделаю тест, АРИМУ буду обучать на остатки регрессии"
   ]
  },
  {
   "cell_type": "code",
   "execution_count": 162,
   "metadata": {
    "collapsed": true
   },
   "outputs": [],
   "source": [
    "# Создадим регрессионные признаки для учёта сезонностей и трендов.\n",
    "#Si=sin([1,…,T]∗2πi/168),Ci=cos([1,…,T]∗2πi/168),i=1,…,K.\n",
    "# для теста регрессии возьму январь-апрель 2016 , 2904 длина моделируемого ряда \n",
    "# К возьму 111\n",
    "itog_param = []\n",
    "temp_param = []\n",
    "K=111\n",
    "arr_param = np.zeros((20423,222), dtype=float)\n",
    "\n",
    "for j in range(K):\n",
    "    temp_param = []\n",
    "    for i in range(len(arr_param)):    \n",
    "        arr_param[i,j*2] = sin((i+1)*2*np.pi*(j+1)/168.)\n",
    "        arr_param[i,j*2+1] = cos((i+1)*2*np.pi*(j+1)/168.)"
   ]
  },
  {
   "cell_type": "code",
   "execution_count": 163,
   "metadata": {},
   "outputs": [
    {
     "name": "stdout",
     "output_type": "stream",
     "text": [
      "точность модели SGD регрессии 0.461247498054\n",
      "точность модели linear regression 0.480588967854\n",
      "Wall time: 203 ms\n"
     ]
    }
   ],
   "source": [
    "%%time\n",
    "# Чтобы примерно подобрать порядки дифференцирования ряда в модели ARIMA, \n",
    "#сделайте регрессию целевого признака — количества поездок — на построенные признаки. \n",
    "#Посмотрите на остатки регрессии.\n",
    "# Построю SGD регрессию по признакам и посмотрю на остатки \n",
    "# трейн сделаю за 2 года, а тест на январь-апрель 2016\n",
    "X_train = arr_param[:17519] # 17519\n",
    "y_train = data['1684'].iloc[:17519].values\n",
    "X_test = arr_param[17519:]\n",
    "y_test = data['1684'].iloc[17519:].values\n",
    "\n",
    "# SGD регрессия\n",
    "clf_SGD = linear_model.SGDRegressor()\n",
    "\n",
    "clf_SGD.fit(X_train, y_train)\n",
    "pred_SGD = clf_SGD.predict(X_test)\n",
    "score_SGD = clf_SGD.score(X_test, y_test)\n",
    "\n",
    "# Create linear regression object\n",
    "clf_LIN = linear_model.LinearRegression()\n",
    "clf_LIN.fit(X_train, y_train)\n",
    "pred_LIN = clf_LIN.predict(X_test)\n",
    "score_LIN = clf_LIN.score(X_test, y_test)\n",
    "\n",
    "ostatki = y_test-pred_LIN\n",
    "\n",
    "data_ostatki['1684_ost'] = ostatki\n",
    "\n",
    "print 'точность модели SGD регрессии ' + str(score_SGD)\n",
    "print 'точность модели linear regression ' + str(score_LIN)"
   ]
  },
  {
   "cell_type": "code",
   "execution_count": 307,
   "metadata": {
    "collapsed": true
   },
   "outputs": [],
   "source": [
    "# у линейной модели немного выше точность дальше буду использовать ее"
   ]
  },
  {
   "cell_type": "code",
   "execution_count": 164,
   "metadata": {
    "scrolled": true
   },
   "outputs": [
    {
     "data": {
      "text/plain": [
       "<matplotlib.legend.Legend at 0x1725fc18>"
      ]
     },
     "execution_count": 164,
     "metadata": {},
     "output_type": "execute_result"
    },
    {
     "data": {
      "image/png": "[encoded data removed]",
      "text/plain": [
       "<matplotlib.figure.Figure at 0x14330da0>"
      ]
     },
     "metadata": {},
     "output_type": "display_data"
    }
   ],
   "source": [
    "# посмотрим на остатки\n",
    "plt.figure(figsize(12,4))\n",
    "plot(ostatki[:300], 'b', label='ostatki')\n",
    "plot(y_test[:300], 'r', label='y_test')\n",
    "plot(pred_LIN[:300], 'g', label='pred_LIN')\n",
    "plt.legend()"
   ]
  },
  {
   "cell_type": "code",
   "execution_count": 26,
   "metadata": {
    "scrolled": true
   },
   "outputs": [
    {
     "name": "stdout",
     "output_type": "stream",
     "text": [
      "Критерий Дики-Фуллера: p=0.000000\n"
     ]
    },
    {
     "data": {
      "text/plain": [
       "<matplotlib.figure.Figure at 0x149173c8>"
      ]
     },
     "metadata": {},
     "output_type": "display_data"
    },
    {
     "data": {
      "image/png": "[encoded data removed]",
      "text/plain": [
       "<matplotlib.figure.Figure at 0x145a39e8>"
      ]
     },
     "metadata": {},
     "output_type": "display_data"
    }
   ],
   "source": [
    "# попробуем продифференцировать остатки\n",
    "# еще раз построим STL-декомпозицию ряда и посчитаем критерий Дики-Фуллера теперь по остаткам\n",
    "\n",
    "print(\"Критерий Дики-Фуллера: p=%f\" % sm.tsa.stattools.adfuller(data_ostatki['1530_ost'])[1])\n",
    "plt.figure(figsize=(20,8))\n",
    "sm.tsa.seasonal_decompose(data_ostatki['1530_ost']).plot()\n",
    "plt.show()"
   ]
  },
  {
   "cell_type": "markdown",
   "metadata": {},
   "source": [
    "остатки около 0, Дики-Фуллер 0 все хорошо переходим в АРИМА"
   ]
  },
  {
   "cell_type": "code",
   "execution_count": 165,
   "metadata": {
    "collapsed": true
   },
   "outputs": [],
   "source": [
    "# возьмем начальные параметры модели как и на прошлой неделе, модель строю на периоде 24 часа\n",
    "# exog модель не улучшал и замедлял обучение, поэтому не буду его использовать, обучаю на остатках регрессии\n",
    "ps = range(0, 4)\n",
    "d=0\n",
    "qs = range(0, 2)\n",
    "Ps = range(0, 2)\n",
    "D=0\n",
    "Qs = range(0, 2)"
   ]
  },
  {
   "cell_type": "code",
   "execution_count": 166,
   "metadata": {},
   "outputs": [
    {
     "data": {
      "text/plain": [
       "32"
      ]
     },
     "execution_count": 166,
     "metadata": {},
     "output_type": "execute_result"
    }
   ],
   "source": [
    "parameters = product(ps, qs, Ps, Qs)\n",
    "parameters_list = list(parameters)\n",
    "len(parameters_list)\n",
    "#parameters_list"
   ]
  },
  {
   "cell_type": "code",
   "execution_count": 167,
   "metadata": {
    "scrolled": true
   },
   "outputs": [
    {
     "name": "stdout",
     "output_type": "stream",
     "text": [
      "('wrong parameters:', (0, 0, 0, 0))\n",
      "('wrong parameters:', (1, 1, 0, 0))\n",
      "('wrong parameters:', (1, 1, 0, 1))\n",
      "('wrong parameters:', (1, 1, 1, 0))\n",
      "('wrong parameters:', (1, 1, 1, 1))\n",
      "Wall time: 1min 5s\n"
     ]
    }
   ],
   "source": [
    "%%time\n",
    "results = []\n",
    "best_aic = float(\"inf\")\n",
    "warnings.filterwarnings('ignore')\n",
    "\n",
    "for param in parameters_list:\n",
    "    #try except нужен, потому что на некоторых наборах параметров модель не обучается\n",
    "    try:\n",
    "        model=sm.tsa.statespace.SARIMAX(data_ostatki['1684_ost'], order=(param[0], d, param[1]), \n",
    "                                        seasonal_order=(param[2], D, param[3], 24)).fit(disp=False) #, exog=exog_\n",
    "    #выводим параметры, на которых модель не обучается и переходим к следующему набору\n",
    "    except ValueError:\n",
    "        print('wrong parameters:', param)\n",
    "        continue\n",
    "    except LinAlgError: \n",
    "        print('Singular matrix, wrong parameters:', param)\n",
    "        continue\n",
    "        \n",
    "    aic = model.aic\n",
    "    #сохраняем лучшую модель, aic, параметры\n",
    "    if aic < best_aic:\n",
    "        best_model = model\n",
    "        best_aic = aic\n",
    "        best_param = param\n",
    "    results.append([param, model.aic])\n",
    "    \n",
    "warnings.filterwarnings('default')"
   ]
  },
  {
   "cell_type": "code",
   "execution_count": 30,
   "metadata": {},
   "outputs": [
    {
     "data": {
      "text/plain": [
       "ar.L1        1.302220\n",
       "ar.L2       -0.271707\n",
       "ar.L3       -0.056832\n",
       "ma.L1       -0.897172\n",
       "ar.S.L24     0.992394\n",
       "ma.S.L24    -0.958868\n",
       "sigma2      23.817649\n",
       "dtype: float64"
      ]
     },
     "execution_count": 30,
     "metadata": {},
     "output_type": "execute_result"
    }
   ],
   "source": [
    "model.params"
   ]
  },
  {
   "cell_type": "code",
   "execution_count": 168,
   "metadata": {
    "scrolled": true
   },
   "outputs": [
    {
     "name": "stdout",
     "output_type": "stream",
     "text": [
      "      parameters           aic\n",
      "18  (2, 1, 1, 1)  20399.997941\n",
      "26  (3, 1, 1, 1)  20401.367905\n",
      "22  (3, 0, 1, 1)  20421.129605\n",
      "14  (2, 0, 1, 1)  20444.407873\n",
      "10  (1, 0, 1, 1)  20479.364202\n"
     ]
    }
   ],
   "source": [
    "result_table = pd.DataFrame(results)\n",
    "result_table.columns = ['parameters', 'aic']\n",
    "print(result_table.sort_values(by = 'aic', ascending=True).head())"
   ]
  },
  {
   "cell_type": "markdown",
   "metadata": {},
   "source": [
    "##### после отбора параметров для SARIMA строим модель на d=0 D=0 и p,q,P,Q:\n",
    "0. cluster 0:  cell: 1230   гип-параметры 3 1 1 1\n",
    "1. cluster 1:  cell: 1272   гип-параметры 1 1 1 1\n",
    "2. cluster 2:  cell: 1333   гип-параметры 3 0 1 1\n",
    "3. cluster 3:  cell: 1387   гип-параметры 3 1 1 1\n",
    "4. cluster 4:  cell: 1533   гип-параметры 2 0 1 1\n",
    "5. cluster 5:  cell: 1283   гип-параметры 1 1 1 1\n",
    "6. cluster 6:  cell: 1326   гип-параметры 2 0 1 1\n",
    "7. cluster 7:  cell: 2118   гип-параметры 3 1 1 1\n",
    "8. cluster 8:  cell: 1530   гип-параметры 3 1 1 1"
   ]
  },
  {
   "cell_type": "code",
   "execution_count": 9,
   "metadata": {
    "collapsed": true
   },
   "outputs": [],
   "source": [
    "# сделаю массив с гипер-параметрами\n",
    "arr_gip = [[3,1,1,1],[1,1,1,1],[3,0,1,1],[3,1,1,1],[2,0,1,1],[2,1,1,1],[2,0,1,1],[3,1,1,1],[3,1,1,1]]"
   ]
  },
  {
   "cell_type": "markdown",
   "metadata": {},
   "source": [
    "6.Для каждой из R географических зон настройте на данных до апреля 2016 включительно модель ARIMA с гиперпараметрами, соответствующими кластеру этой зоны. Для каждого конца истории от 2016.04.30 23:00 до 2016.05.31 17:00 постройте прогноз на 6 часов вперёд и посчитайте в ноутбуке ошибку прогноза по следующему функционалу: Qmay=R∗739∗6∑r=1R∑T=2016.04.3023:002016.05.3117......."
   ]
  },
  {
   "cell_type": "code",
   "execution_count": 10,
   "metadata": {
    "collapsed": true
   },
   "outputs": [],
   "source": [
    "# загрузим данные за январь - июнь 2016 года\n",
    "# подготовил предварительно данные по 102 ячейкам за январь - апрель 2016\n",
    "data_06 = pd.read_csv('data2016_m1_m6_102cell.txt', sep=';', header=0, index_col=['date_hour'], \n",
    "                  parse_dates=['date_hour'], dayfirst=True)"
   ]
  },
  {
   "cell_type": "code",
   "execution_count": 11,
   "metadata": {
    "scrolled": true
   },
   "outputs": [
    {
     "data": {
      "text/html": [
       "<div>\n",
       "<style>\n",
       "    .dataframe thead tr:only-child th {\n",
       "        text-align: right;\n",
       "    }\n",
       "\n",
       "    .dataframe thead th {\n",
       "        text-align: left;\n",
       "    }\n",
       "\n",
       "    .dataframe tbody tr th {\n",
       "        vertical-align: top;\n",
       "    }\n",
       "</style>\n",
       "<table border=\"1\" class=\"dataframe\">\n",
       "  <thead>\n",
       "    <tr style=\"text-align: right;\">\n",
       "      <th></th>\n",
       "      <th>1075</th>\n",
       "      <th>1076</th>\n",
       "      <th>1077</th>\n",
       "      <th>1125</th>\n",
       "      <th>1126</th>\n",
       "      <th>1127</th>\n",
       "      <th>1128</th>\n",
       "      <th>1129</th>\n",
       "      <th>1130</th>\n",
       "      <th>1131</th>\n",
       "      <th>...</th>\n",
       "      <th>1630</th>\n",
       "      <th>1684</th>\n",
       "      <th>1733</th>\n",
       "      <th>1734</th>\n",
       "      <th>1783</th>\n",
       "      <th>2068</th>\n",
       "      <th>2069</th>\n",
       "      <th>2118</th>\n",
       "      <th>2119</th>\n",
       "      <th>2168</th>\n",
       "    </tr>\n",
       "    <tr>\n",
       "      <th>date_hour</th>\n",
       "      <th></th>\n",
       "      <th></th>\n",
       "      <th></th>\n",
       "      <th></th>\n",
       "      <th></th>\n",
       "      <th></th>\n",
       "      <th></th>\n",
       "      <th></th>\n",
       "      <th></th>\n",
       "      <th></th>\n",
       "      <th></th>\n",
       "      <th></th>\n",
       "      <th></th>\n",
       "      <th></th>\n",
       "      <th></th>\n",
       "      <th></th>\n",
       "      <th></th>\n",
       "      <th></th>\n",
       "      <th></th>\n",
       "      <th></th>\n",
       "      <th></th>\n",
       "    </tr>\n",
       "  </thead>\n",
       "  <tbody>\n",
       "    <tr>\n",
       "      <th>2016-04-30 23:00:00</th>\n",
       "      <td>92</td>\n",
       "      <td>118</td>\n",
       "      <td>63</td>\n",
       "      <td>86</td>\n",
       "      <td>284</td>\n",
       "      <td>529</td>\n",
       "      <td>733</td>\n",
       "      <td>838</td>\n",
       "      <td>918</td>\n",
       "      <td>185</td>\n",
       "      <td>...</td>\n",
       "      <td>4</td>\n",
       "      <td>0</td>\n",
       "      <td>0</td>\n",
       "      <td>195</td>\n",
       "      <td>54</td>\n",
       "      <td>134</td>\n",
       "      <td>10</td>\n",
       "      <td>181</td>\n",
       "      <td>74</td>\n",
       "      <td>39</td>\n",
       "    </tr>\n",
       "    <tr>\n",
       "      <th>2016-05-01 00:00:00</th>\n",
       "      <td>71</td>\n",
       "      <td>64</td>\n",
       "      <td>52</td>\n",
       "      <td>81</td>\n",
       "      <td>259</td>\n",
       "      <td>535</td>\n",
       "      <td>691</td>\n",
       "      <td>994</td>\n",
       "      <td>1100</td>\n",
       "      <td>193</td>\n",
       "      <td>...</td>\n",
       "      <td>7</td>\n",
       "      <td>0</td>\n",
       "      <td>3</td>\n",
       "      <td>60</td>\n",
       "      <td>94</td>\n",
       "      <td>42</td>\n",
       "      <td>7</td>\n",
       "      <td>146</td>\n",
       "      <td>4</td>\n",
       "      <td>85</td>\n",
       "    </tr>\n",
       "  </tbody>\n",
       "</table>\n",
       "<p>2 rows × 102 columns</p>\n",
       "</div>"
      ],
      "text/plain": [
       "                     1075  1076  1077  1125  1126  1127  1128  1129  1130  \\\n",
       "date_hour                                                                   \n",
       "2016-04-30 23:00:00    92   118    63    86   284   529   733   838   918   \n",
       "2016-05-01 00:00:00    71    64    52    81   259   535   691   994  1100   \n",
       "\n",
       "                     1131  ...   1630  1684  1733  1734  1783  2068  2069  \\\n",
       "date_hour                  ...                                              \n",
       "2016-04-30 23:00:00   185  ...      4     0     0   195    54   134    10   \n",
       "2016-05-01 00:00:00   193  ...      7     0     3    60    94    42     7   \n",
       "\n",
       "                     2118  2119  2168  \n",
       "date_hour                              \n",
       "2016-04-30 23:00:00   181    74    39  \n",
       "2016-05-01 00:00:00   146     4    85  \n",
       "\n",
       "[2 rows x 102 columns]"
      ]
     },
     "execution_count": 11,
     "metadata": {},
     "output_type": "execute_result"
    }
   ],
   "source": [
    "data_06.iloc[2903:2905] # 2904 2016-05-01 00:00:00 may  .. june 3648 2016-06-01 00:00:00"
   ]
  },
  {
   "cell_type": "code",
   "execution_count": 12,
   "metadata": {},
   "outputs": [
    {
     "data": {
      "text/plain": [
       "(4368, 102)"
      ]
     },
     "execution_count": 12,
     "metadata": {},
     "output_type": "execute_result"
    }
   ],
   "source": [
    "data_06.shape"
   ]
  },
  {
   "cell_type": "code",
   "execution_count": 42,
   "metadata": {
    "scrolled": false
   },
   "outputs": [
    {
     "data": {
      "text/html": [
       "<div>\n",
       "<style>\n",
       "    .dataframe thead tr:only-child th {\n",
       "        text-align: right;\n",
       "    }\n",
       "\n",
       "    .dataframe thead th {\n",
       "        text-align: left;\n",
       "    }\n",
       "\n",
       "    .dataframe tbody tr th {\n",
       "        vertical-align: top;\n",
       "    }\n",
       "</style>\n",
       "<table border=\"1\" class=\"dataframe\">\n",
       "  <thead>\n",
       "    <tr style=\"text-align: right;\">\n",
       "      <th></th>\n",
       "      <th>1075</th>\n",
       "      <th>1076</th>\n",
       "      <th>1077</th>\n",
       "      <th>1125</th>\n",
       "      <th>1126</th>\n",
       "      <th>1127</th>\n",
       "      <th>1128</th>\n",
       "      <th>1129</th>\n",
       "      <th>1130</th>\n",
       "      <th>1131</th>\n",
       "      <th>...</th>\n",
       "      <th>1630</th>\n",
       "      <th>1684</th>\n",
       "      <th>1733</th>\n",
       "      <th>1734</th>\n",
       "      <th>1783</th>\n",
       "      <th>2068</th>\n",
       "      <th>2069</th>\n",
       "      <th>2118</th>\n",
       "      <th>2119</th>\n",
       "      <th>2168</th>\n",
       "    </tr>\n",
       "    <tr>\n",
       "      <th>date_hour</th>\n",
       "      <th></th>\n",
       "      <th></th>\n",
       "      <th></th>\n",
       "      <th></th>\n",
       "      <th></th>\n",
       "      <th></th>\n",
       "      <th></th>\n",
       "      <th></th>\n",
       "      <th></th>\n",
       "      <th></th>\n",
       "      <th></th>\n",
       "      <th></th>\n",
       "      <th></th>\n",
       "      <th></th>\n",
       "      <th></th>\n",
       "      <th></th>\n",
       "      <th></th>\n",
       "      <th></th>\n",
       "      <th></th>\n",
       "      <th></th>\n",
       "      <th></th>\n",
       "    </tr>\n",
       "  </thead>\n",
       "  <tbody>\n",
       "    <tr>\n",
       "      <th>2016-04-30 22:00:00</th>\n",
       "      <td>100</td>\n",
       "      <td>97</td>\n",
       "      <td>85</td>\n",
       "      <td>100</td>\n",
       "      <td>217</td>\n",
       "      <td>421</td>\n",
       "      <td>697</td>\n",
       "      <td>955</td>\n",
       "      <td>909</td>\n",
       "      <td>203</td>\n",
       "      <td>...</td>\n",
       "      <td>1</td>\n",
       "      <td>0</td>\n",
       "      <td>2</td>\n",
       "      <td>230</td>\n",
       "      <td>80</td>\n",
       "      <td>132</td>\n",
       "      <td>21</td>\n",
       "      <td>198</td>\n",
       "      <td>23</td>\n",
       "      <td>93</td>\n",
       "    </tr>\n",
       "    <tr>\n",
       "      <th>2016-04-30 23:00:00</th>\n",
       "      <td>92</td>\n",
       "      <td>118</td>\n",
       "      <td>63</td>\n",
       "      <td>86</td>\n",
       "      <td>284</td>\n",
       "      <td>529</td>\n",
       "      <td>733</td>\n",
       "      <td>838</td>\n",
       "      <td>918</td>\n",
       "      <td>185</td>\n",
       "      <td>...</td>\n",
       "      <td>4</td>\n",
       "      <td>0</td>\n",
       "      <td>0</td>\n",
       "      <td>195</td>\n",
       "      <td>54</td>\n",
       "      <td>134</td>\n",
       "      <td>10</td>\n",
       "      <td>181</td>\n",
       "      <td>74</td>\n",
       "      <td>39</td>\n",
       "    </tr>\n",
       "  </tbody>\n",
       "</table>\n",
       "<p>2 rows × 102 columns</p>\n",
       "</div>"
      ],
      "text/plain": [
       "                     1075  1076  1077  1125  1126  1127  1128  1129  1130  \\\n",
       "date_hour                                                                   \n",
       "2016-04-30 22:00:00   100    97    85   100   217   421   697   955   909   \n",
       "2016-04-30 23:00:00    92   118    63    86   284   529   733   838   918   \n",
       "\n",
       "                     1131  ...   1630  1684  1733  1734  1783  2068  2069  \\\n",
       "date_hour                  ...                                              \n",
       "2016-04-30 22:00:00   203  ...      1     0     2   230    80   132    21   \n",
       "2016-04-30 23:00:00   185  ...      4     0     0   195    54   134    10   \n",
       "\n",
       "                     2118  2119  2168  \n",
       "date_hour                              \n",
       "2016-04-30 22:00:00   198    23    93  \n",
       "2016-04-30 23:00:00   181    74    39  \n",
       "\n",
       "[2 rows x 102 columns]"
      ]
     },
     "execution_count": 42,
     "metadata": {},
     "output_type": "execute_result"
    }
   ],
   "source": [
    "# датафрейм для обучения регрессии\n",
    "data.iloc[20421:20423]"
   ]
  },
  {
   "cell_type": "code",
   "execution_count": 43,
   "metadata": {},
   "outputs": [
    {
     "data": {
      "text/plain": [
       "(20423, 102)"
      ]
     },
     "execution_count": 43,
     "metadata": {},
     "output_type": "execute_result"
    }
   ],
   "source": [
    "data.shape"
   ]
  },
  {
   "cell_type": "code",
   "execution_count": 37,
   "metadata": {
    "scrolled": false
   },
   "outputs": [
    {
     "data": {
      "text/html": [
       "<div>\n",
       "<style>\n",
       "    .dataframe thead tr:only-child th {\n",
       "        text-align: right;\n",
       "    }\n",
       "\n",
       "    .dataframe thead th {\n",
       "        text-align: left;\n",
       "    }\n",
       "\n",
       "    .dataframe tbody tr th {\n",
       "        vertical-align: top;\n",
       "    }\n",
       "</style>\n",
       "<table border=\"1\" class=\"dataframe\">\n",
       "  <thead>\n",
       "    <tr style=\"text-align: right;\">\n",
       "      <th></th>\n",
       "      <th>cell</th>\n",
       "      <th>cluster</th>\n",
       "      <th>coef_d</th>\n",
       "    </tr>\n",
       "  </thead>\n",
       "  <tbody>\n",
       "    <tr>\n",
       "      <th>0</th>\n",
       "      <td>1075</td>\n",
       "      <td>5</td>\n",
       "      <td>0.754951</td>\n",
       "    </tr>\n",
       "    <tr>\n",
       "      <th>1</th>\n",
       "      <td>1076</td>\n",
       "      <td>2</td>\n",
       "      <td>0.802455</td>\n",
       "    </tr>\n",
       "    <tr>\n",
       "      <th>2</th>\n",
       "      <td>1077</td>\n",
       "      <td>2</td>\n",
       "      <td>0.808401</td>\n",
       "    </tr>\n",
       "    <tr>\n",
       "      <th>3</th>\n",
       "      <td>1125</td>\n",
       "      <td>0</td>\n",
       "      <td>0.789695</td>\n",
       "    </tr>\n",
       "  </tbody>\n",
       "</table>\n",
       "</div>"
      ],
      "text/plain": [
       "   cell  cluster    coef_d\n",
       "0  1075        5  0.754951\n",
       "1  1076        2  0.802455\n",
       "2  1077        2  0.808401\n",
       "3  1125        0  0.789695"
      ]
     },
     "execution_count": 37,
     "metadata": {},
     "output_type": "execute_result"
    }
   ],
   "source": [
    "df_clust.iloc[0:4]"
   ]
  },
  {
   "cell_type": "code",
   "execution_count": 13,
   "metadata": {},
   "outputs": [
    {
     "data": {
      "text/plain": [
       "3648"
      ]
     },
     "execution_count": 13,
     "metadata": {},
     "output_type": "execute_result"
    }
   ],
   "source": [
    "# в data_ostatki буду хранить остатки от регрессии\n",
    "#data_ostatki = pd.DataFrame()\n",
    "data_ostatki = data_06.copy()\n",
    "data_ostatki.drop(data_ostatki[data_ostatki.index > '2016-05-31 23:00:00'].index, inplace=True)\n",
    "len(data_ostatki)"
   ]
  },
  {
   "cell_type": "code",
   "execution_count": 66,
   "metadata": {
    "collapsed": true
   },
   "outputs": [],
   "source": [
    "#data_ostatki.iloc[:3648]  январь - май 2016\n",
    "#data_ostatki.iloc[:2904]  январь - апрель 2016 "
   ]
  },
  {
   "cell_type": "code",
   "execution_count": 172,
   "metadata": {
    "collapsed": true
   },
   "outputs": [],
   "source": [
    "# Создадим регрессионные признаки для учёта сезонностей и трендов.\n",
    "#Si=sin([1,…,T]∗2πi/168),Ci=cos([1,…,T]∗2πi/168),i=1,…,K.\n",
    "# для теста регрессии возьму январь-май 2016 , 2904 длина моделируемого ряда, 20423 по 04.2016, май 744, июнь 720\n",
    "# 21887 всего, 21167 до мая 2016, 17519 до 01.2016\n",
    "# К возьму 111\n",
    "itog_param = []\n",
    "temp_param = []\n",
    "K=111\n",
    "arr_param = np.zeros((21887,222), dtype=float)\n",
    "\n",
    "for j in range(K):\n",
    "    temp_param = []\n",
    "    for i in range(len(arr_param)):    \n",
    "        arr_param[i,j*2] = sin((i+1)*2*np.pi*(j+1)/168.)\n",
    "        arr_param[i,j*2+1] = cos((i+1)*2*np.pi*(j+1)/168.)"
   ]
  },
  {
   "cell_type": "code",
   "execution_count": 173,
   "metadata": {
    "scrolled": true
   },
   "outputs": [
    {
     "name": "stdout",
     "output_type": "stream",
     "text": [
      "зона 0  2018.07.18 17:22:10 Q=10.7077480012\n",
      "зона 1  2018.07.18 17:22:53 Q=13.6241580346\n",
      "зона 2  2018.07.18 17:23:30 Q=13.207365923\n",
      "зона 3  2018.07.18 17:24:16 Q=12.5733945146\n",
      "зона 4  2018.07.18 17:25:10 Q=14.5537056148\n",
      "зона 5  2018.07.18 17:26:02 Q=17.4942691959\n",
      "зона 6  2018.07.18 17:26:56 Q=20.5459574307\n",
      "зона 7  2018.07.18 17:27:48 Q=23.0968600963\n",
      "зона 8  2018.07.18 17:28:34 Q=26.1272042513\n",
      "зона 9  2018.07.18 17:29:33 Q=25.8441542234\n",
      "зона 10  2018.07.18 17:30:05 Q=24.8698495597\n",
      "зона 11  2018.07.18 17:30:56 Q=23.0509108929\n",
      "зона 12  2018.07.18 17:31:41 Q=21.8114258873\n",
      "зона 13  2018.07.18 17:32:36 Q=20.7007914639\n",
      "зона 14  2018.07.18 17:33:30 Q=19.5869166864\n",
      "зона 15  2018.07.18 17:34:14 Q=18.6516886936\n",
      "зона 16  2018.07.18 17:34:45 Q=20.0001312273\n",
      "зона 17  2018.07.18 17:35:37 Q=21.7106657353\n",
      "зона 18  2018.07.18 17:36:33 Q=23.3126380282\n",
      "зона 19  2018.07.18 17:37:28 Q=25.1648557232\n",
      "зона 20  2018.07.18 17:38:18 Q=27.8284409076\n",
      "зона 21  2018.07.18 17:39:05 Q=28.8589430241\n",
      "зона 22  2018.07.18 17:39:40 Q=28.6036689383\n",
      "зона 23  2018.07.18 17:40:21 Q=27.6001368071\n",
      "зона 24  2018.07.18 17:41:08 Q=26.5966593752\n",
      "зона 25  2018.07.18 17:41:53 Q=25.7185039484\n",
      "зона 26  2018.07.18 17:42:37 Q=24.9627673577\n",
      "зона 27  2018.07.18 17:43:22 Q=24.2823520361\n",
      "зона 28  2018.07.18 17:44:07 Q=23.5292909877\n",
      "зона 29  2018.07.18 17:44:54 Q=23.5032077789\n",
      "зона 30  2018.07.18 17:45:42 Q=24.2061494277\n",
      "зона 31  2018.07.18 17:46:35 Q=25.0822926871\n",
      "зона 32  2018.07.18 17:47:29 Q=26.473769674\n",
      "зона 33  2018.07.18 17:48:22 Q=27.7757910318\n",
      "зона 34  2018.07.18 17:49:21 Q=29.125607813\n",
      "зона 35  2018.07.18 17:50:17 Q=29.9431817381\n",
      "зона 36  2018.07.18 17:51:02 Q=30.1911199434\n",
      "зона 37  2018.07.18 17:51:52 Q=29.879625094\n",
      "зона 38  2018.07.18 17:52:42 Q=29.188750911\n",
      "зона 39  2018.07.18 17:53:28 Q=28.5941344242\n",
      "зона 40  2018.07.18 17:54:12 Q=27.9630255611\n",
      "зона 41  2018.07.18 17:54:57 Q=27.3851394707\n",
      "зона 42  2018.07.18 17:55:46 Q=26.8934352078\n",
      "зона 43  2018.07.18 17:56:38 Q=26.8316280772\n",
      "зона 44  2018.07.18 17:57:21 Q=27.754853934\n",
      "зона 45  2018.07.18 17:58:11 Q=29.0953808518\n",
      "зона 46  2018.07.18 17:58:51 Q=29.0995127628\n",
      "зона 47  2018.07.18 17:59:26 Q=28.7628966077\n",
      "зона 48  2018.07.18 18:00:17 Q=28.760355656\n",
      "зона 49  2018.07.18 18:00:59 Q=28.6680946463\n",
      "зона 50  2018.07.18 18:01:48 Q=28.3101123919\n",
      "зона 51  2018.07.18 18:02:34 Q=27.8993056381\n",
      "зона 52  2018.07.18 18:03:24 Q=27.5713360076\n",
      "зона 53  2018.07.18 18:04:14 Q=27.2056940995\n",
      "зона 54  2018.07.18 18:05:06 Q=27.3635193478\n",
      "зона 55  2018.07.18 18:06:00 Q=27.835847104\n",
      "зона 56  2018.07.18 18:06:41 Q=28.1551208751\n",
      "зона 57  2018.07.18 18:07:16 Q=27.9519606989\n",
      "зона 58  2018.07.18 18:08:05 Q=27.6297755742\n",
      "зона 59  2018.07.18 18:08:49 Q=27.3594379657\n",
      "зона 60  2018.07.18 18:09:28 Q=27.1094203471\n",
      "зона 61  2018.07.18 18:10:22 Q=26.7186741151\n",
      "зона 62  2018.07.18 18:11:09 Q=26.3647785003\n",
      "зона 63  2018.07.18 18:11:56 Q=26.0134782786\n",
      "зона 64  2018.07.18 18:12:45 Q=25.6615332398\n",
      "зона 65  2018.07.18 18:13:33 Q=25.318053508\n",
      "зона 66  2018.07.18 18:14:22 Q=25.013199161\n",
      "зона 67  2018.07.18 18:15:13 Q=25.0514706951\n",
      "зона 68  2018.07.18 18:16:01 Q=25.3488181673\n",
      "зона 69  2018.07.18 18:16:41 Q=25.3700656905\n",
      "зона 70  2018.07.18 18:17:27 Q=25.1128839918\n",
      "зона 71  2018.07.18 18:18:16 Q=24.8498359259\n",
      "зона 72  2018.07.18 18:19:01 Q=24.5808030276\n",
      "зона 73  2018.07.18 18:19:53 Q=24.2997547983\n",
      "зона 74  2018.07.18 18:20:45 Q=24.0314081148\n",
      "зона 75  2018.07.18 18:21:35 Q=23.7436699647\n",
      "зона 76  2018.07.18 18:22:30 Q=23.4972516824\n",
      "зона 77  2018.07.18 18:23:18 Q=23.235690619\n",
      "зона 78  2018.07.18 18:24:10 Q=22.9737086681\n",
      "зона 79  2018.07.18 18:24:59 Q=22.7556983944\n",
      "зона 80  2018.07.18 18:25:46 Q=22.5605174027\n",
      "зона 81  2018.07.18 18:26:34 Q=22.3218928874\n",
      "зона 82  2018.07.18 18:27:26 Q=22.083865493\n",
      "зона 83  2018.07.18 18:28:17 Q=21.8463126372\n",
      "зона 84  2018.07.18 18:28:58 Q=21.622076356\n",
      "зона 85  2018.07.18 18:29:51 Q=21.4083100273\n",
      "зона 86  2018.07.18 18:30:36 Q=21.1988263658\n",
      "зона 87  2018.07.18 18:31:28 Q=20.990590034\n",
      "зона 88  2018.07.18 18:32:24 Q=20.7947844311\n",
      "зона 89  2018.07.18 18:33:15 Q=20.5896662345\n",
      "зона 90  2018.07.18 18:34:01 Q=20.398495081\n",
      "зона 91  2018.07.18 18:34:55 Q=20.1992840628\n",
      "зона 92  2018.07.18 18:35:43 Q=20.0030614195\n",
      "зона 93  2018.07.18 18:36:32 Q=19.8485880406\n",
      "зона 94  2018.07.18 18:37:22 Q=19.6635743864\n",
      "зона 95  2018.07.18 18:38:10 Q=19.8065303443\n",
      "зона 96  2018.07.18 18:39:01 Q=19.9856829196\n",
      "зона 97  2018.07.18 18:39:44 Q=19.9632579397\n",
      "зона 98  2018.07.18 18:40:23 Q=19.8038887809\n",
      "зона 99  2018.07.18 18:41:15 Q=19.8270728421\n",
      "зона 100  2018.07.18 18:42:04 Q=19.7423545168\n",
      "зона 101  2018.07.18 18:42:55 Q=19.6987353953\n",
      "Wall time: 1h 21min 25s\n"
     ]
    }
   ],
   "source": [
    "%%time\n",
    "# мега цикл который долго думал как сделать\n",
    "# зададим период времени для цикла 01 мая 2016\n",
    "date_index = pd.date_range('04/30/2016 23:00:00', periods=739, freq='H') \n",
    "\n",
    "Qmay = 0 # ошибка предсказания за май\n",
    "\n",
    "for i in range(df_clust.shape[0]):    # цикл на 102 зоны  df_clust.shape[0]\n",
    "\n",
    "# Обучаем модель на разрешенной выборкe:    \n",
    "# сначала обучаю линейную регрессию 01.2014 - 12.2015 и делаю предсказание на 01-05.2016\n",
    "# трейн сделаю за 2 года, а тест на январь-май 2016\n",
    "    \n",
    "    X_train = arr_param[:17519] # 17519\n",
    "    y_train = data[df_clust.cell[i]].iloc[:17519].values\n",
    "    X_test = arr_param[17519:21167]\n",
    "    y_test = data_06[df_clust.cell[i]].iloc[:3648].values\n",
    "\n",
    "    # Create linear regression object\n",
    "    clf_LIN = linear_model.LinearRegression()\n",
    "    clf_LIN.fit(X_train, y_train)\n",
    "    pred_LIN = clf_LIN.predict(X_test)\n",
    "    score_LIN = clf_LIN.score(X_test, y_test)\n",
    "    data_ostatki[df_clust.cell[i]+'_prLIN'] = pred_LIN\n",
    "    data_ostatki[df_clust.cell[i]+'_ost'] = y_test-pred_LIN  # сохраняем остатки от регрессии\n",
    "    \n",
    "    # обучаем SARIMAX на параметрах зоны своего кластера  до апреля 2016 включительно #.filter(model.params)\n",
    "    model_res = sm.tsa.statespace.SARIMAX(data_ostatki[df_clust.cell[i]+'_ost'][:2904], \n",
    "                                             order=[arr_gip[df_clust.cluster[i]][0],0,arr_gip[df_clust.cluster[i]][1]],\n",
    "                                             seasonal_order=[arr_gip[df_clust.cluster[i]][2],0,\n",
    "                                                             arr_gip[df_clust.cluster[i]][3],24]).fit(disp=False)\n",
    "\n",
    "    # сохраним и сложим с регрессией то что получилось\n",
    "#    data_06[df_clust.cell[i]+'_pred'] = model_res.fittedvalues+pred_LIN[:2904]\n",
    "#    print('Коэффициент детерминации модели зоны '+str(df_clust.cell[i])+ ' : {:.2f}'.format(\n",
    "#        metrics.r2_score(data_06[df_clust.cell[i]+'_pred'][:3648], data_06[df_clust.cell[i]][:3648])))    \n",
    "    \n",
    "#Создаем вторую модель на весь временной интервал выборки\n",
    "    \n",
    "    model_fitted = sm.tsa.statespace.SARIMAX(data_ostatki[df_clust.cell[i]+'_ost'][:3648], \n",
    "                                             order=[arr_gip[df_clust.cluster[i]][0],0,arr_gip[df_clust.cluster[i]][1]],\n",
    "                                             seasonal_order=[arr_gip[df_clust.cluster[i]][2],0,\n",
    "                                                             arr_gip[df_clust.cluster[i]][3],24]\n",
    "                                            ).filter(model_res.params)\n",
    "\n",
    "    j=2904 # индекс для вытаскивания предсказания рeгрессии, начинаем с 1 мая 00:00\n",
    "    for time in date_index:\n",
    "        predicted_data_S = model_fitted.predict(time, time+6, dynamic=True)\n",
    "        pred_all_6 = predicted_data_S[1:] + pred_LIN[j:j+6]\n",
    "        Qmay += sum(abs(data_06[df_clust.cell[i]][time+1:time+6]-pred_all_6))\n",
    "        j+=1\n",
    "\n",
    "    print 'зона '+str(i)+'  '+ datetime.datetime.now().strftime('%Y.%m.%d %H:%M:%S')+' Q='+str(1/((i+1)*739*6.)*Qmay)"
   ]
  },
  {
   "cell_type": "code",
   "execution_count": 175,
   "metadata": {},
   "outputs": [
    {
     "data": {
      "text/plain": [
       "19.698735395339913"
      ]
     },
     "execution_count": 175,
     "metadata": {},
     "output_type": "execute_result"
    }
   ],
   "source": [
    "# считаем ошибку прогноза\n",
    "1/(102*739*6.)*Qmay"
   ]
  },
  {
   "cell_type": "markdown",
   "metadata": {},
   "source": [
    "7.Для каждой из RRR географических зон настройте на данных до мая 2016 включительно модель ARIMA с гиперпараметрами, соответствующими кластеру этой зоны. Для каждого конца истории от 2016.05.31 23:00 до 2016.06.30 17:00 постройте прогноз на 6 часов вперёд и запишите все прогнозы в файл в формате id,y, где столбец id состоит из склеенных через подчёркивание идентификатора географической зоны, даты конца истории, часа конца истории и номера отсчёта, на который делается предсказание (1-6); столбец y — ваш прогноз. "
   ]
  },
  {
   "cell_type": "code",
   "execution_count": 14,
   "metadata": {
    "collapsed": true,
    "scrolled": true
   },
   "outputs": [],
   "source": [
    "# загрузим данные за январь - июнь 2016 года\n",
    "# подготовил предварительно данные по 102 ячейкам за январь - апрель 2016\n",
    "data_06 = pd.read_csv('data2016_m1_m6_102cell.txt', sep=';', header=0, index_col=['date_hour'], \n",
    "                  parse_dates=['date_hour'], dayfirst=True)"
   ]
  },
  {
   "cell_type": "code",
   "execution_count": 15,
   "metadata": {},
   "outputs": [
    {
     "data": {
      "text/html": [
       "<div>\n",
       "<style>\n",
       "    .dataframe thead tr:only-child th {\n",
       "        text-align: right;\n",
       "    }\n",
       "\n",
       "    .dataframe thead th {\n",
       "        text-align: left;\n",
       "    }\n",
       "\n",
       "    .dataframe tbody tr th {\n",
       "        vertical-align: top;\n",
       "    }\n",
       "</style>\n",
       "<table border=\"1\" class=\"dataframe\">\n",
       "  <thead>\n",
       "    <tr style=\"text-align: right;\">\n",
       "      <th></th>\n",
       "      <th>1075</th>\n",
       "      <th>1076</th>\n",
       "      <th>1077</th>\n",
       "      <th>1125</th>\n",
       "      <th>1126</th>\n",
       "      <th>1127</th>\n",
       "      <th>1128</th>\n",
       "      <th>1129</th>\n",
       "      <th>1130</th>\n",
       "      <th>1131</th>\n",
       "      <th>...</th>\n",
       "      <th>1630</th>\n",
       "      <th>1684</th>\n",
       "      <th>1733</th>\n",
       "      <th>1734</th>\n",
       "      <th>1783</th>\n",
       "      <th>2068</th>\n",
       "      <th>2069</th>\n",
       "      <th>2118</th>\n",
       "      <th>2119</th>\n",
       "      <th>2168</th>\n",
       "    </tr>\n",
       "    <tr>\n",
       "      <th>date_hour</th>\n",
       "      <th></th>\n",
       "      <th></th>\n",
       "      <th></th>\n",
       "      <th></th>\n",
       "      <th></th>\n",
       "      <th></th>\n",
       "      <th></th>\n",
       "      <th></th>\n",
       "      <th></th>\n",
       "      <th></th>\n",
       "      <th></th>\n",
       "      <th></th>\n",
       "      <th></th>\n",
       "      <th></th>\n",
       "      <th></th>\n",
       "      <th></th>\n",
       "      <th></th>\n",
       "      <th></th>\n",
       "      <th></th>\n",
       "      <th></th>\n",
       "      <th></th>\n",
       "    </tr>\n",
       "  </thead>\n",
       "  <tbody>\n",
       "    <tr>\n",
       "      <th>2016-05-31 22:00:00</th>\n",
       "      <td>83</td>\n",
       "      <td>98</td>\n",
       "      <td>127</td>\n",
       "      <td>94</td>\n",
       "      <td>174</td>\n",
       "      <td>345</td>\n",
       "      <td>415</td>\n",
       "      <td>411</td>\n",
       "      <td>490</td>\n",
       "      <td>144</td>\n",
       "      <td>...</td>\n",
       "      <td>1</td>\n",
       "      <td>20</td>\n",
       "      <td>9</td>\n",
       "      <td>392</td>\n",
       "      <td>299</td>\n",
       "      <td>123</td>\n",
       "      <td>12</td>\n",
       "      <td>222</td>\n",
       "      <td>53</td>\n",
       "      <td>123</td>\n",
       "    </tr>\n",
       "    <tr>\n",
       "      <th>2016-05-31 23:00:00</th>\n",
       "      <td>34</td>\n",
       "      <td>77</td>\n",
       "      <td>58</td>\n",
       "      <td>53</td>\n",
       "      <td>118</td>\n",
       "      <td>211</td>\n",
       "      <td>331</td>\n",
       "      <td>338</td>\n",
       "      <td>434</td>\n",
       "      <td>121</td>\n",
       "      <td>...</td>\n",
       "      <td>2</td>\n",
       "      <td>12</td>\n",
       "      <td>10</td>\n",
       "      <td>430</td>\n",
       "      <td>153</td>\n",
       "      <td>157</td>\n",
       "      <td>17</td>\n",
       "      <td>192</td>\n",
       "      <td>77</td>\n",
       "      <td>132</td>\n",
       "    </tr>\n",
       "    <tr>\n",
       "      <th>2016-06-01 00:00:00</th>\n",
       "      <td>26</td>\n",
       "      <td>30</td>\n",
       "      <td>19</td>\n",
       "      <td>39</td>\n",
       "      <td>71</td>\n",
       "      <td>163</td>\n",
       "      <td>181</td>\n",
       "      <td>219</td>\n",
       "      <td>326</td>\n",
       "      <td>56</td>\n",
       "      <td>...</td>\n",
       "      <td>1</td>\n",
       "      <td>1</td>\n",
       "      <td>6</td>\n",
       "      <td>262</td>\n",
       "      <td>107</td>\n",
       "      <td>114</td>\n",
       "      <td>7</td>\n",
       "      <td>169</td>\n",
       "      <td>6</td>\n",
       "      <td>85</td>\n",
       "    </tr>\n",
       "    <tr>\n",
       "      <th>2016-06-01 01:00:00</th>\n",
       "      <td>14</td>\n",
       "      <td>21</td>\n",
       "      <td>6</td>\n",
       "      <td>26</td>\n",
       "      <td>49</td>\n",
       "      <td>101</td>\n",
       "      <td>136</td>\n",
       "      <td>144</td>\n",
       "      <td>252</td>\n",
       "      <td>27</td>\n",
       "      <td>...</td>\n",
       "      <td>5</td>\n",
       "      <td>0</td>\n",
       "      <td>0</td>\n",
       "      <td>137</td>\n",
       "      <td>1</td>\n",
       "      <td>27</td>\n",
       "      <td>16</td>\n",
       "      <td>105</td>\n",
       "      <td>4</td>\n",
       "      <td>42</td>\n",
       "    </tr>\n",
       "  </tbody>\n",
       "</table>\n",
       "<p>4 rows × 102 columns</p>\n",
       "</div>"
      ],
      "text/plain": [
       "                     1075  1076  1077  1125  1126  1127  1128  1129  1130  \\\n",
       "date_hour                                                                   \n",
       "2016-05-31 22:00:00    83    98   127    94   174   345   415   411   490   \n",
       "2016-05-31 23:00:00    34    77    58    53   118   211   331   338   434   \n",
       "2016-06-01 00:00:00    26    30    19    39    71   163   181   219   326   \n",
       "2016-06-01 01:00:00    14    21     6    26    49   101   136   144   252   \n",
       "\n",
       "                     1131  ...   1630  1684  1733  1734  1783  2068  2069  \\\n",
       "date_hour                  ...                                              \n",
       "2016-05-31 22:00:00   144  ...      1    20     9   392   299   123    12   \n",
       "2016-05-31 23:00:00   121  ...      2    12    10   430   153   157    17   \n",
       "2016-06-01 00:00:00    56  ...      1     1     6   262   107   114     7   \n",
       "2016-06-01 01:00:00    27  ...      5     0     0   137     1    27    16   \n",
       "\n",
       "                     2118  2119  2168  \n",
       "date_hour                              \n",
       "2016-05-31 22:00:00   222    53   123  \n",
       "2016-05-31 23:00:00   192    77   132  \n",
       "2016-06-01 00:00:00   169     6    85  \n",
       "2016-06-01 01:00:00   105     4    42  \n",
       "\n",
       "[4 rows x 102 columns]"
      ]
     },
     "execution_count": 15,
     "metadata": {},
     "output_type": "execute_result"
    }
   ],
   "source": [
    "data_06.iloc[3646:3650] # 2904 2016-05-01 00:00:00 may  .. june 3648 2016-06-01 00:00:00"
   ]
  },
  {
   "cell_type": "code",
   "execution_count": 16,
   "metadata": {},
   "outputs": [
    {
     "data": {
      "text/html": [
       "<div>\n",
       "<style>\n",
       "    .dataframe thead tr:only-child th {\n",
       "        text-align: right;\n",
       "    }\n",
       "\n",
       "    .dataframe thead th {\n",
       "        text-align: left;\n",
       "    }\n",
       "\n",
       "    .dataframe tbody tr th {\n",
       "        vertical-align: top;\n",
       "    }\n",
       "</style>\n",
       "<table border=\"1\" class=\"dataframe\">\n",
       "  <thead>\n",
       "    <tr style=\"text-align: right;\">\n",
       "      <th></th>\n",
       "      <th>1075</th>\n",
       "      <th>1076</th>\n",
       "      <th>1077</th>\n",
       "      <th>1125</th>\n",
       "      <th>1126</th>\n",
       "      <th>1127</th>\n",
       "      <th>1128</th>\n",
       "      <th>1129</th>\n",
       "      <th>1130</th>\n",
       "      <th>1131</th>\n",
       "      <th>...</th>\n",
       "      <th>1630</th>\n",
       "      <th>1684</th>\n",
       "      <th>1733</th>\n",
       "      <th>1734</th>\n",
       "      <th>1783</th>\n",
       "      <th>2068</th>\n",
       "      <th>2069</th>\n",
       "      <th>2118</th>\n",
       "      <th>2119</th>\n",
       "      <th>2168</th>\n",
       "    </tr>\n",
       "    <tr>\n",
       "      <th>date_hour</th>\n",
       "      <th></th>\n",
       "      <th></th>\n",
       "      <th></th>\n",
       "      <th></th>\n",
       "      <th></th>\n",
       "      <th></th>\n",
       "      <th></th>\n",
       "      <th></th>\n",
       "      <th></th>\n",
       "      <th></th>\n",
       "      <th></th>\n",
       "      <th></th>\n",
       "      <th></th>\n",
       "      <th></th>\n",
       "      <th></th>\n",
       "      <th></th>\n",
       "      <th></th>\n",
       "      <th></th>\n",
       "      <th></th>\n",
       "      <th></th>\n",
       "      <th></th>\n",
       "    </tr>\n",
       "  </thead>\n",
       "  <tbody>\n",
       "    <tr>\n",
       "      <th>2016-04-30 22:00:00</th>\n",
       "      <td>100</td>\n",
       "      <td>97</td>\n",
       "      <td>85</td>\n",
       "      <td>100</td>\n",
       "      <td>217</td>\n",
       "      <td>421</td>\n",
       "      <td>697</td>\n",
       "      <td>955</td>\n",
       "      <td>909</td>\n",
       "      <td>203</td>\n",
       "      <td>...</td>\n",
       "      <td>1</td>\n",
       "      <td>0</td>\n",
       "      <td>2</td>\n",
       "      <td>230</td>\n",
       "      <td>80</td>\n",
       "      <td>132</td>\n",
       "      <td>21</td>\n",
       "      <td>198</td>\n",
       "      <td>23</td>\n",
       "      <td>93</td>\n",
       "    </tr>\n",
       "    <tr>\n",
       "      <th>2016-04-30 23:00:00</th>\n",
       "      <td>92</td>\n",
       "      <td>118</td>\n",
       "      <td>63</td>\n",
       "      <td>86</td>\n",
       "      <td>284</td>\n",
       "      <td>529</td>\n",
       "      <td>733</td>\n",
       "      <td>838</td>\n",
       "      <td>918</td>\n",
       "      <td>185</td>\n",
       "      <td>...</td>\n",
       "      <td>4</td>\n",
       "      <td>0</td>\n",
       "      <td>0</td>\n",
       "      <td>195</td>\n",
       "      <td>54</td>\n",
       "      <td>134</td>\n",
       "      <td>10</td>\n",
       "      <td>181</td>\n",
       "      <td>74</td>\n",
       "      <td>39</td>\n",
       "    </tr>\n",
       "  </tbody>\n",
       "</table>\n",
       "<p>2 rows × 102 columns</p>\n",
       "</div>"
      ],
      "text/plain": [
       "                     1075  1076  1077  1125  1126  1127  1128  1129  1130  \\\n",
       "date_hour                                                                   \n",
       "2016-04-30 22:00:00   100    97    85   100   217   421   697   955   909   \n",
       "2016-04-30 23:00:00    92   118    63    86   284   529   733   838   918   \n",
       "\n",
       "                     1131  ...   1630  1684  1733  1734  1783  2068  2069  \\\n",
       "date_hour                  ...                                              \n",
       "2016-04-30 22:00:00   203  ...      1     0     2   230    80   132    21   \n",
       "2016-04-30 23:00:00   185  ...      4     0     0   195    54   134    10   \n",
       "\n",
       "                     2118  2119  2168  \n",
       "date_hour                              \n",
       "2016-04-30 22:00:00   198    23    93  \n",
       "2016-04-30 23:00:00   181    74    39  \n",
       "\n",
       "[2 rows x 102 columns]"
      ]
     },
     "execution_count": 16,
     "metadata": {},
     "output_type": "execute_result"
    }
   ],
   "source": [
    "# датафрейм для обучения регрессии\n",
    "data.iloc[20421:20423]"
   ]
  },
  {
   "cell_type": "code",
   "execution_count": 17,
   "metadata": {},
   "outputs": [
    {
     "data": {
      "text/plain": [
       "4368"
      ]
     },
     "execution_count": 17,
     "metadata": {},
     "output_type": "execute_result"
    }
   ],
   "source": [
    "# в data_ostatki буду хранить остатки от регрессии\n",
    "#data_ostatki = pd.DataFrame()\n",
    "data_ostatki = data_06.copy()\n",
    "#data_ostatki.drop(data_ostatki[data_ostatki.index > '2016-05-31 23:00:00'].index, inplace=True)\n",
    "len(data_ostatki)"
   ]
  },
  {
   "cell_type": "code",
   "execution_count": 18,
   "metadata": {
    "collapsed": true
   },
   "outputs": [],
   "source": [
    "# Создадим регрессионные признаки для учёта сезонностей и трендов.\n",
    "#Si=sin([1,…,T]∗2πi/168),Ci=cos([1,…,T]∗2πi/168),i=1,…,K.\n",
    "# для теста регрессии возьму январь-июнь 2016 , 4368 длина моделируемого ряда, 20423 по 04.2016, май 744, июнь 720\n",
    "# 21887 всего, 21167 до мая 2016, 17519 до 01.2016\n",
    "# К возьму 111\n",
    "itog_param = []\n",
    "temp_param = []\n",
    "K=111\n",
    "arr_param = np.zeros((21887,222), dtype=float)\n",
    "\n",
    "for j in range(K):\n",
    "    temp_param = []\n",
    "    for i in range(len(arr_param)):    \n",
    "        arr_param[i,j*2] = sin((i+1)*2*np.pi*(j+1)/168.)\n",
    "        arr_param[i,j*2+1] = cos((i+1)*2*np.pi*(j+1)/168.)"
   ]
  },
  {
   "cell_type": "code",
   "execution_count": 19,
   "metadata": {
    "collapsed": true
   },
   "outputs": [],
   "source": [
    "# функция по приведения даты к нкжному формату\n",
    "def date_str(timed):\n",
    "    if (timed).strftime('%H')=='00': \n",
    "        a = str((timed).strftime('%Y_%m_%d_'))+'0' \n",
    "    else: a = str((timed).strftime('%Y-%m-%d_'))+str((timed).strftime('%H')).lstrip(\"0\")\n",
    "    return a"
   ]
  },
  {
   "cell_type": "code",
   "execution_count": 33,
   "metadata": {
    "scrolled": false
   },
   "outputs": [
    {
     "name": "stdout",
     "output_type": "stream",
     "text": [
      "зона 0  2018.07.19 14:57:20 Q=16.7300802493\n",
      "зона 1  2018.07.19 14:58:07 Q=22.8873133375\n",
      "зона 2  2018.07.19 14:58:51 Q=23.4107808332\n",
      "зона 3  2018.07.19 14:59:45 Q=21.6423987406\n",
      "зона 4  2018.07.19 15:00:47 Q=24.9021665744\n",
      "зона 5  2018.07.19 15:01:48 Q=29.7953403966\n",
      "зона 6  2018.07.19 15:02:56 Q=33.994874199\n"
     ]
    },
    {
     "name": "stderr",
     "output_type": "stream",
     "text": [
      "C:\\Users\\JB\\Anaconda2\\lib\\site-packages\\statsmodels\\base\\model.py:496: ConvergenceWarning: Maximum Likelihood optimization failed to converge. Check mle_retvals\n",
      "  \"Check mle_retvals\", ConvergenceWarning)\n"
     ]
    },
    {
     "name": "stdout",
     "output_type": "stream",
     "text": [
      "зона 7  2018.07.19 15:03:41 Q=39.3742948735\n",
      "зона 8  2018.07.19 15:04:39 Q=44.3371886184\n"
     ]
    },
    {
     "name": "stderr",
     "output_type": "stream",
     "text": [
      "C:\\Users\\JB\\Anaconda2\\lib\\site-packages\\statsmodels\\base\\model.py:496: ConvergenceWarning: Maximum Likelihood optimization failed to converge. Check mle_retvals\n",
      "  \"Check mle_retvals\", ConvergenceWarning)\n"
     ]
    },
    {
     "name": "stdout",
     "output_type": "stream",
     "text": [
      "зона 9  2018.07.19 15:05:49 Q=43.4390863033\n",
      "зона 10  2018.07.19 15:06:26 Q=41.1173431295\n",
      "зона 11  2018.07.19 15:07:22 Q=37.9533981532\n",
      "зона 12  2018.07.19 15:08:15 Q=35.7285807838\n"
     ]
    },
    {
     "name": "stderr",
     "output_type": "stream",
     "text": [
      "C:\\Users\\JB\\Anaconda2\\lib\\site-packages\\statsmodels\\base\\model.py:496: ConvergenceWarning: Maximum Likelihood optimization failed to converge. Check mle_retvals\n",
      "  \"Check mle_retvals\", ConvergenceWarning)\n"
     ]
    },
    {
     "name": "stdout",
     "output_type": "stream",
     "text": [
      "зона 13  2018.07.19 15:09:24 Q=33.8690533401\n"
     ]
    },
    {
     "name": "stderr",
     "output_type": "stream",
     "text": [
      "C:\\Users\\JB\\Anaconda2\\lib\\site-packages\\statsmodels\\base\\model.py:496: ConvergenceWarning: Maximum Likelihood optimization failed to converge. Check mle_retvals\n",
      "  \"Check mle_retvals\", ConvergenceWarning)\n"
     ]
    },
    {
     "name": "stdout",
     "output_type": "stream",
     "text": [
      "зона 14  2018.07.19 15:10:26 Q=31.9395902694\n",
      "зона 15  2018.07.19 15:11:17 Q=30.3140194862\n",
      "зона 16  2018.07.19 15:11:54 Q=32.0181989423\n",
      "зона 17  2018.07.19 15:13:08 Q=34.8660821974\n"
     ]
    },
    {
     "name": "stderr",
     "output_type": "stream",
     "text": [
      "C:\\Users\\JB\\Anaconda2\\lib\\site-packages\\statsmodels\\base\\model.py:496: ConvergenceWarning: Maximum Likelihood optimization failed to converge. Check mle_retvals\n",
      "  \"Check mle_retvals\", ConvergenceWarning)\n"
     ]
    },
    {
     "name": "stdout",
     "output_type": "stream",
     "text": [
      "зона 18  2018.07.19 15:14:16 Q=37.7476047318\n"
     ]
    },
    {
     "name": "stderr",
     "output_type": "stream",
     "text": [
      "C:\\Users\\JB\\Anaconda2\\lib\\site-packages\\statsmodels\\base\\model.py:496: ConvergenceWarning: Maximum Likelihood optimization failed to converge. Check mle_retvals\n",
      "  \"Check mle_retvals\", ConvergenceWarning)\n"
     ]
    },
    {
     "name": "stdout",
     "output_type": "stream",
     "text": [
      "зона 19  2018.07.19 15:15:23 Q=41.0891126622\n",
      "зона 20  2018.07.19 15:16:26 Q=45.9155900663\n",
      "зона 21  2018.07.19 15:17:22 Q=48.2402105643\n",
      "зона 22  2018.07.19 15:18:03 Q=47.5142411199\n",
      "зона 23  2018.07.19 15:18:54 Q=45.813909745\n",
      "зона 24  2018.07.19 15:19:50 Q=44.1044955382\n",
      "зона 25  2018.07.19 15:20:46 Q=42.5869882676\n",
      "зона 26  2018.07.19 15:21:42 Q=41.2160637895\n",
      "зона 27  2018.07.19 15:22:37 Q=39.9938408862\n",
      "зона 28  2018.07.19 15:23:33 Q=38.7119235623\n",
      "зона 29  2018.07.19 15:24:31 Q=38.6768731693\n",
      "зона 30  2018.07.19 15:25:33 Q=39.5516942994\n",
      "зона 31  2018.07.19 15:26:37 Q=40.9255817289\n",
      "зона 32  2018.07.19 15:27:38 Q=43.6511637008\n",
      "зона 33  2018.07.19 15:28:38 Q=46.2898961724\n"
     ]
    },
    {
     "name": "stderr",
     "output_type": "stream",
     "text": [
      "C:\\Users\\JB\\Anaconda2\\lib\\site-packages\\statsmodels\\base\\model.py:496: ConvergenceWarning: Maximum Likelihood optimization failed to converge. Check mle_retvals\n",
      "  \"Check mle_retvals\", ConvergenceWarning)\n"
     ]
    },
    {
     "name": "stdout",
     "output_type": "stream",
     "text": [
      "зона 34  2018.07.19 15:29:47 Q=49.1082387545\n"
     ]
    },
    {
     "name": "stderr",
     "output_type": "stream",
     "text": [
      "C:\\Users\\JB\\Anaconda2\\lib\\site-packages\\statsmodels\\base\\model.py:496: ConvergenceWarning: Maximum Likelihood optimization failed to converge. Check mle_retvals\n",
      "  \"Check mle_retvals\", ConvergenceWarning)\n"
     ]
    },
    {
     "name": "stdout",
     "output_type": "stream",
     "text": [
      "зона 35  2018.07.19 15:30:49 Q=50.8161892565\n",
      "зона 36  2018.07.19 15:31:41 Q=51.3299611924\n",
      "зона 37  2018.07.19 15:32:41 Q=50.7623975177\n",
      "зона 38  2018.07.19 15:33:38 Q=49.5611028345\n",
      "зона 39  2018.07.19 15:34:33 Q=48.4773749388\n",
      "зона 40  2018.07.19 15:35:28 Q=47.372685572\n",
      "зона 41  2018.07.19 15:36:23 Q=46.3439721752\n",
      "зона 42  2018.07.19 15:37:23 Q=45.469124607\n",
      "зона 43  2018.07.19 15:38:24 Q=45.4334151843\n",
      "зона 44  2018.07.19 15:39:16 Q=47.7415520307\n",
      "зона 45  2018.07.19 15:40:08 Q=50.8980566465\n",
      "зона 46  2018.07.19 15:40:50 Q=50.9270922099\n",
      "зона 47  2018.07.19 15:41:32 Q=50.3187286267\n",
      "зона 48  2018.07.19 15:42:28 Q=50.257405982\n",
      "зона 49  2018.07.19 15:43:18 Q=50.1076347908\n",
      "зона 50  2018.07.19 15:44:15 Q=49.4345715342\n",
      "зона 51  2018.07.19 15:45:10 Q=48.6581519929\n",
      "зона 52  2018.07.19 15:46:06 Q=47.9812262951\n",
      "зона 53  2018.07.19 15:47:07 Q=47.3477113257\n",
      "зона 54  2018.07.19 15:48:11 Q=47.831052739\n",
      "зона 55  2018.07.19 15:49:15 Q=48.8508188959\n",
      "зона 56  2018.07.19 15:50:01 Q=49.5528467997\n",
      "зона 57  2018.07.19 15:50:44 Q=49.1285992546\n",
      "зона 58  2018.07.19 15:51:46 Q=48.5554623681\n",
      "зона 59  2018.07.19 15:52:38 Q=48.0327163764\n",
      "зона 60  2018.07.19 15:53:20 Q=47.4583899439\n",
      "зона 61  2018.07.19 15:54:25 Q=46.7523206242\n",
      "зона 62  2018.07.19 15:55:22 Q=46.0983084825\n",
      "зона 63  2018.07.19 15:56:19 Q=45.4472074124\n",
      "зона 64  2018.07.19 15:57:16 Q=44.8005320286\n",
      "зона 65  2018.07.19 15:58:14 Q=44.1695553762\n",
      "зона 66  2018.07.19 15:59:04 Q=43.6125430309\n",
      "зона 67  2018.07.19 15:59:51 Q=43.8565254803\n",
      "зона 68  2018.07.19 16:00:51 Q=44.3434288406\n",
      "зона 69  2018.07.19 16:01:37 Q=44.4564421188\n",
      "зона 70  2018.07.19 16:02:32 Q=43.9731639408\n"
     ]
    },
    {
     "name": "stderr",
     "output_type": "stream",
     "text": [
      "C:\\Users\\JB\\Anaconda2\\lib\\site-packages\\statsmodels\\base\\model.py:496: ConvergenceWarning: Maximum Likelihood optimization failed to converge. Check mle_retvals\n",
      "  \"Check mle_retvals\", ConvergenceWarning)\n"
     ]
    },
    {
     "name": "stdout",
     "output_type": "stream",
     "text": [
      "зона 71  2018.07.19 16:03:32 Q=43.4829873682\n",
      "зона 72  2018.07.19 16:04:27 Q=42.9803080404\n",
      "зона 73  2018.07.19 16:05:30 Q=42.4617355312\n",
      "зона 74  2018.07.19 16:06:37 Q=41.9605099599\n",
      "зона 75  2018.07.19 16:07:33 Q=41.4413483726\n",
      "зона 76  2018.07.19 16:08:38 Q=40.9740448222\n",
      "зона 77  2018.07.19 16:09:24 Q=40.492542599\n",
      "зона 78  2018.07.19 16:10:27 Q=40.0215196366\n",
      "зона 79  2018.07.19 16:11:24 Q=39.6100037755\n",
      "зона 80  2018.07.19 16:12:22 Q=39.2579198615\n",
      "зона 81  2018.07.19 16:13:12 Q=38.8326506488\n",
      "зона 82  2018.07.19 16:14:18 Q=38.3987653728\n",
      "зона 83  2018.07.19 16:15:20 Q=37.968785457\n",
      "зона 84  2018.07.19 16:16:08 Q=37.557812197\n",
      "зона 85  2018.07.19 16:17:10 Q=37.1652539962\n",
      "зона 86  2018.07.19 16:18:07 Q=36.7825972623\n",
      "зона 87  2018.07.19 16:19:07 Q=36.4095675227\n",
      "зона 88  2018.07.19 16:20:11 Q=36.0581110148\n",
      "зона 89  2018.07.19 16:21:08 Q=35.6912448417\n",
      "зона 90  2018.07.19 16:22:06 Q=35.3439715953\n",
      "зона 91  2018.07.19 16:23:08 Q=34.9886043229\n",
      "зона 92  2018.07.19 16:24:02 Q=34.6378457437\n",
      "зона 93  2018.07.19 16:24:59 Q=34.3382629386\n",
      "зона 94  2018.07.19 16:26:05 Q=34.0046193311\n",
      "зона 95  2018.07.19 16:27:08 Q=34.1540728541\n",
      "зона 96  2018.07.19 16:28:06 Q=34.3277809485\n",
      "зона 97  2018.07.19 16:28:56 Q=34.2376032743\n",
      "зона 98  2018.07.19 16:29:38 Q=33.9420371478\n",
      "зона 99  2018.07.19 16:30:38 Q=33.9302436185\n",
      "зона 100  2018.07.19 16:31:31 Q=33.8167301528\n",
      "зона 101  2018.07.19 16:32:23 Q=33.6957101343\n",
      "Wall time: 1h 35min 54s\n"
     ]
    }
   ],
   "source": [
    "%%time\n",
    "# мега цикл который долго думал как сделать\n",
    "# зададим период времени для цикла 01 июня 2016\n",
    "date_index = pd.date_range('05/31/2016 23:00:00', periods=715, freq='H') \n",
    "Qjune = 0 # ошибка предсказания за июнь\n",
    "arr_pred_june = [] # итоговый массив\n",
    "\n",
    "for i in range(df_clust.shape[0]):    # цикл на 102 зоны  df_clust.shape[0]\n",
    "\n",
    "# Обучаем модель на разрешенной выборкe:    \n",
    "# сначала обучаю линейную регрессию 01.2014 - 12.2015 и делаю предсказание на 01-06.2016\n",
    "# трейн сделаю за 2 года, а тест на январь-июнь 2016\n",
    "    \n",
    "    X_train = arr_param[:17519] # 17519\n",
    "    y_train = data[df_clust.cell[i]].iloc[:17519].values\n",
    "    X_test = arr_param[17519:]\n",
    "    y_test = data_06[df_clust.cell[i]].values\n",
    "\n",
    "    # Create linear regression object\n",
    "    clf_LIN = linear_model.LinearRegression()\n",
    "    clf_LIN.fit(X_train, y_train)\n",
    "    pred_LIN = clf_LIN.predict(X_test)\n",
    "    score_LIN = clf_LIN.score(X_test, y_test)\n",
    "    data_ostatki[df_clust.cell[i]+'_prLIN'] = pred_LIN\n",
    "    data_ostatki[df_clust.cell[i]+'_ost'] = y_test-pred_LIN  # сохраняем остатки от регрессии\n",
    "    \n",
    "    # обучаем SARIMAX на параметрах зоны своего кластера  до мая 2016 включительно #.filter(model.params)\n",
    "    model_res = sm.tsa.statespace.SARIMAX(data_ostatki[df_clust.cell[i]+'_ost'][:3648], \n",
    "                                             order=[arr_gip[df_clust.cluster[i]][0],0,arr_gip[df_clust.cluster[i]][1]],\n",
    "                                             seasonal_order=[arr_gip[df_clust.cluster[i]][2],0,\n",
    "                                                             arr_gip[df_clust.cluster[i]][3],24]).fit(disp=False)\n",
    "    \n",
    "#Создаем вторую модель на весь временной интервал выборки\n",
    "    \n",
    "    model_fitted = sm.tsa.statespace.SARIMAX(data_ostatki[df_clust.cell[i]+'_ost'], \n",
    "                                             order=[arr_gip[df_clust.cluster[i]][0],0,arr_gip[df_clust.cluster[i]][1]],\n",
    "                                             seasonal_order=[arr_gip[df_clust.cluster[i]][2],0,\n",
    "                                                             arr_gip[df_clust.cluster[i]][3],24]\n",
    "                                            ).filter(model_res.params)\n",
    "\n",
    "    j=3647 # индекс для вытаскивания предсказания рeгрессии, начинаем с 1 июня 00:00\n",
    "    for time in date_index:\n",
    "        predicted_data_S = model_fitted.predict(time, time+6, dynamic=True)\n",
    "        pred_all_6 = predicted_data_S[1:] + pred_LIN[j:j+6]\n",
    "        Qjune += sum(abs(data_06[df_clust.cell[i]][time+1:time+6]-pred_all_6))\n",
    "        \n",
    "        arr_h6 = [df_clust.cell[i]+'_'+date_str(time)+'_1', df_clust.cell[i]+'_'+date_str(time)+'_2', \n",
    "                  df_clust.cell[i]+'_'+date_str(time)+'_3', df_clust.cell[i]+'_'+date_str(time)+'_4', \n",
    "                  df_clust.cell[i]+'_'+date_str(time)+'_5', df_clust.cell[i]+'_'+date_str(time)+'_6']\n",
    "    \n",
    "        for q in range(6): arr_pred_june.append([arr_h6[q],int(abs(pred_all_6.values[q]))])\n",
    "        j+=1\n",
    "\n",
    "    print 'зона '+str(i)+'  '+ datetime.datetime.now().strftime('%Y.%m.%d %H:%M:%S')+' Q='+str(1/((i+1)*715*6.)*Qjune)"
   ]
  },
  {
   "cell_type": "code",
   "execution_count": 35,
   "metadata": {
    "scrolled": true
   },
   "outputs": [
    {
     "data": {
      "text/plain": [
       "437580"
      ]
     },
     "execution_count": 35,
     "metadata": {},
     "output_type": "execute_result"
    }
   ],
   "source": [
    "len(arr_pred_june)"
   ]
  },
  {
   "cell_type": "code",
   "execution_count": 36,
   "metadata": {
    "collapsed": true
   },
   "outputs": [],
   "source": [
    "all_pd = pd.DataFrame(arr_pred_june)"
   ]
  },
  {
   "cell_type": "code",
   "execution_count": 37,
   "metadata": {
    "collapsed": true
   },
   "outputs": [],
   "source": [
    "all_pd.columns = ['id','y']"
   ]
  },
  {
   "cell_type": "code",
   "execution_count": 39,
   "metadata": {
    "collapsed": true
   },
   "outputs": [],
   "source": [
    "all_pd.to_csv('itog3.csv', sep=',', index=False)"
   ]
  },
  {
   "cell_type": "markdown",
   "metadata": {},
   "source": [
    "ссылка на решение https://www.kaggle.com/submissions/7970781/7970781.zip\n",
    "набрал 33% но знаю как улучшить, нужен еще день"
   ]
  }
 ],
 "metadata": {
  "kernelspec": {
   "display_name": "Python 2",
   "language": "python",
   "name": "python2"
  },
  "language_info": {
   "codemirror_mode": {
    "name": "ipython",
    "version": 2
   },
   "file_extension": ".py",
   "mimetype": "text/x-python",
   "name": "python",
   "nbconvert_exporter": "python",
   "pygments_lexer": "ipython2",
   "version": "2.7.14"
  }
 },
 "nbformat": 4,
 "nbformat_minor": 2
}
