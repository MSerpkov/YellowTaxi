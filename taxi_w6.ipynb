{
 "cells": [
  {
   "cell_type": "markdown",
   "metadata": {},
   "source": [
    "### Неделя 6 Дополнительные признаки"
   ]
  },
  {
   "cell_type": "code",
   "execution_count": 1,
   "metadata": {
    "scrolled": true
   },
   "outputs": [
    {
     "name": "stdout",
     "output_type": "stream",
     "text": [
      "Populating the interactive namespace from numpy and matplotlib\n"
     ]
    },
    {
     "name": "stderr",
     "output_type": "stream",
     "text": [
      "C:\\Users\\JB\\Anaconda2\\lib\\site-packages\\statsmodels\\compat\\pandas.py:56: FutureWarning: The pandas.core.datetools module is deprecated and will be removed in a future version. Please use the pandas.tseries module instead.\n",
      "  from pandas.core import datetools\n",
      "C:\\Users\\JB\\Anaconda2\\lib\\site-packages\\sklearn\\cross_validation.py:41: DeprecationWarning: This module was deprecated in version 0.18 in favor of the model_selection module into which all the refactored classes and functions are moved. Also note that the interface of the new CV iterators are different from that of this module. This module will be removed in 0.20.\n",
      "  \"This module will be removed in 0.20.\", DeprecationWarning)\n"
     ]
    }
   ],
   "source": [
    "%pylab inline\n",
    "import pandas as pd\n",
    "import numpy as np\n",
    "from scipy import stats\n",
    "import matplotlib.pyplot as plt\n",
    "import datetime\n",
    "import statsmodels.api as sm\n",
    "from itertools import product\n",
    "from sklearn import cross_validation, linear_model, metrics, ensemble\n",
    "import scipy.cluster.hierarchy as sch"
   ]
  },
  {
   "cell_type": "markdown",
   "metadata": {},
   "source": [
    "1. Загрузите обучающие выборки прошлой недели, перечислите используемые в моделях признаки и посчитайте QmayQ_{may}Qmay​ — качество прогнозов моделей, настроенных на данных до апреля 2016, в мае 2016"
   ]
  },
  {
   "cell_type": "code",
   "execution_count": 2,
   "metadata": {
    "collapsed": true
   },
   "outputs": [],
   "source": [
    "# обучаться будем с 01.2016 по 04.2016\n",
    "train_from = pd.to_datetime('2016-01-01 00:00:00')\n",
    "train_to = pd.to_datetime('2016-04-30 17:00:00')\n",
    "\n",
    "test_from = pd.to_datetime('2016-04-30 23:00:00')\n",
    "test_to = pd.to_datetime('2016-05-31 17:00:00')"
   ]
  },
  {
   "cell_type": "code",
   "execution_count": 3,
   "metadata": {
    "collapsed": true
   },
   "outputs": [],
   "source": [
    "# подготовил предварительно данные по 102 ячейкам за январь 2014 - июнь 2016\n",
    "data = pd.read_csv('data2016_m1_m6_102cell.csv', sep=';', header=0, index_col=['date_hour'], \n",
    "                  parse_dates=['date_hour'], dayfirst=True)"
   ]
  },
  {
   "cell_type": "code",
   "execution_count": 4,
   "metadata": {},
   "outputs": [
    {
     "data": {
      "text/html": [
       "<div>\n",
       "<style>\n",
       "    .dataframe thead tr:only-child th {\n",
       "        text-align: right;\n",
       "    }\n",
       "\n",
       "    .dataframe thead th {\n",
       "        text-align: left;\n",
       "    }\n",
       "\n",
       "    .dataframe tbody tr th {\n",
       "        vertical-align: top;\n",
       "    }\n",
       "</style>\n",
       "<table border=\"1\" class=\"dataframe\">\n",
       "  <thead>\n",
       "    <tr style=\"text-align: right;\">\n",
       "      <th></th>\n",
       "      <th>1075</th>\n",
       "      <th>1076</th>\n",
       "      <th>1077</th>\n",
       "      <th>1125</th>\n",
       "      <th>1126</th>\n",
       "      <th>1127</th>\n",
       "      <th>1128</th>\n",
       "      <th>1129</th>\n",
       "      <th>1130</th>\n",
       "      <th>1131</th>\n",
       "      <th>...</th>\n",
       "      <th>1630</th>\n",
       "      <th>1684</th>\n",
       "      <th>1733</th>\n",
       "      <th>1734</th>\n",
       "      <th>1783</th>\n",
       "      <th>2068</th>\n",
       "      <th>2069</th>\n",
       "      <th>2118</th>\n",
       "      <th>2119</th>\n",
       "      <th>2168</th>\n",
       "    </tr>\n",
       "    <tr>\n",
       "      <th>date_hour</th>\n",
       "      <th></th>\n",
       "      <th></th>\n",
       "      <th></th>\n",
       "      <th></th>\n",
       "      <th></th>\n",
       "      <th></th>\n",
       "      <th></th>\n",
       "      <th></th>\n",
       "      <th></th>\n",
       "      <th></th>\n",
       "      <th></th>\n",
       "      <th></th>\n",
       "      <th></th>\n",
       "      <th></th>\n",
       "      <th></th>\n",
       "      <th></th>\n",
       "      <th></th>\n",
       "      <th></th>\n",
       "      <th></th>\n",
       "      <th></th>\n",
       "      <th></th>\n",
       "    </tr>\n",
       "  </thead>\n",
       "  <tbody>\n",
       "    <tr>\n",
       "      <th>2016-01-01 00:00:00</th>\n",
       "      <td>80</td>\n",
       "      <td>144</td>\n",
       "      <td>50</td>\n",
       "      <td>77</td>\n",
       "      <td>319</td>\n",
       "      <td>402</td>\n",
       "      <td>531</td>\n",
       "      <td>617</td>\n",
       "      <td>846</td>\n",
       "      <td>267</td>\n",
       "      <td>...</td>\n",
       "      <td>12</td>\n",
       "      <td>0</td>\n",
       "      <td>2</td>\n",
       "      <td>44</td>\n",
       "      <td>5</td>\n",
       "      <td>41</td>\n",
       "      <td>4</td>\n",
       "      <td>70</td>\n",
       "      <td>7</td>\n",
       "      <td>66</td>\n",
       "    </tr>\n",
       "    <tr>\n",
       "      <th>2016-01-01 01:00:00</th>\n",
       "      <td>91</td>\n",
       "      <td>211</td>\n",
       "      <td>49</td>\n",
       "      <td>134</td>\n",
       "      <td>404</td>\n",
       "      <td>420</td>\n",
       "      <td>370</td>\n",
       "      <td>453</td>\n",
       "      <td>594</td>\n",
       "      <td>224</td>\n",
       "      <td>...</td>\n",
       "      <td>29</td>\n",
       "      <td>0</td>\n",
       "      <td>5</td>\n",
       "      <td>2</td>\n",
       "      <td>2</td>\n",
       "      <td>4</td>\n",
       "      <td>0</td>\n",
       "      <td>47</td>\n",
       "      <td>1</td>\n",
       "      <td>29</td>\n",
       "    </tr>\n",
       "  </tbody>\n",
       "</table>\n",
       "<p>2 rows × 102 columns</p>\n",
       "</div>"
      ],
      "text/plain": [
       "                     1075  1076  1077  1125  1126  1127  1128  1129  1130  \\\n",
       "date_hour                                                                   \n",
       "2016-01-01 00:00:00    80   144    50    77   319   402   531   617   846   \n",
       "2016-01-01 01:00:00    91   211    49   134   404   420   370   453   594   \n",
       "\n",
       "                     1131  ...   1630  1684  1733  1734  1783  2068  2069  \\\n",
       "date_hour                  ...                                              \n",
       "2016-01-01 00:00:00   267  ...     12     0     2    44     5    41     4   \n",
       "2016-01-01 01:00:00   224  ...     29     0     5     2     2     4     0   \n",
       "\n",
       "                     2118  2119  2168  \n",
       "date_hour                              \n",
       "2016-01-01 00:00:00    70     7    66  \n",
       "2016-01-01 01:00:00    47     1    29  \n",
       "\n",
       "[2 rows x 102 columns]"
      ]
     },
     "execution_count": 4,
     "metadata": {},
     "output_type": "execute_result"
    }
   ],
   "source": [
    "data.head(2)"
   ]
  },
  {
   "cell_type": "code",
   "execution_count": 5,
   "metadata": {
    "scrolled": true
   },
   "outputs": [
    {
     "data": {
      "text/html": [
       "<div>\n",
       "<style>\n",
       "    .dataframe thead tr:only-child th {\n",
       "        text-align: right;\n",
       "    }\n",
       "\n",
       "    .dataframe thead th {\n",
       "        text-align: left;\n",
       "    }\n",
       "\n",
       "    .dataframe tbody tr th {\n",
       "        vertical-align: top;\n",
       "    }\n",
       "</style>\n",
       "<table border=\"1\" class=\"dataframe\">\n",
       "  <thead>\n",
       "    <tr style=\"text-align: right;\">\n",
       "      <th></th>\n",
       "      <th>1075</th>\n",
       "      <th>1076</th>\n",
       "      <th>1077</th>\n",
       "      <th>1125</th>\n",
       "      <th>1126</th>\n",
       "      <th>1127</th>\n",
       "      <th>1128</th>\n",
       "      <th>1129</th>\n",
       "      <th>1130</th>\n",
       "      <th>1131</th>\n",
       "      <th>...</th>\n",
       "      <th>1630</th>\n",
       "      <th>1684</th>\n",
       "      <th>1733</th>\n",
       "      <th>1734</th>\n",
       "      <th>1783</th>\n",
       "      <th>2068</th>\n",
       "      <th>2069</th>\n",
       "      <th>2118</th>\n",
       "      <th>2119</th>\n",
       "      <th>2168</th>\n",
       "    </tr>\n",
       "    <tr>\n",
       "      <th>date_hour</th>\n",
       "      <th></th>\n",
       "      <th></th>\n",
       "      <th></th>\n",
       "      <th></th>\n",
       "      <th></th>\n",
       "      <th></th>\n",
       "      <th></th>\n",
       "      <th></th>\n",
       "      <th></th>\n",
       "      <th></th>\n",
       "      <th></th>\n",
       "      <th></th>\n",
       "      <th></th>\n",
       "      <th></th>\n",
       "      <th></th>\n",
       "      <th></th>\n",
       "      <th></th>\n",
       "      <th></th>\n",
       "      <th></th>\n",
       "      <th></th>\n",
       "      <th></th>\n",
       "    </tr>\n",
       "  </thead>\n",
       "  <tbody>\n",
       "    <tr>\n",
       "      <th>2016-06-30 22:00:00</th>\n",
       "      <td>106</td>\n",
       "      <td>168</td>\n",
       "      <td>103</td>\n",
       "      <td>125</td>\n",
       "      <td>317</td>\n",
       "      <td>476</td>\n",
       "      <td>405</td>\n",
       "      <td>508</td>\n",
       "      <td>578</td>\n",
       "      <td>259</td>\n",
       "      <td>...</td>\n",
       "      <td>3</td>\n",
       "      <td>19</td>\n",
       "      <td>5</td>\n",
       "      <td>358</td>\n",
       "      <td>387</td>\n",
       "      <td>169</td>\n",
       "      <td>12</td>\n",
       "      <td>206</td>\n",
       "      <td>146</td>\n",
       "      <td>0</td>\n",
       "    </tr>\n",
       "    <tr>\n",
       "      <th>2016-06-30 23:00:00</th>\n",
       "      <td>85</td>\n",
       "      <td>130</td>\n",
       "      <td>86</td>\n",
       "      <td>113</td>\n",
       "      <td>256</td>\n",
       "      <td>428</td>\n",
       "      <td>483</td>\n",
       "      <td>531</td>\n",
       "      <td>631</td>\n",
       "      <td>210</td>\n",
       "      <td>...</td>\n",
       "      <td>9</td>\n",
       "      <td>0</td>\n",
       "      <td>7</td>\n",
       "      <td>323</td>\n",
       "      <td>110</td>\n",
       "      <td>147</td>\n",
       "      <td>38</td>\n",
       "      <td>173</td>\n",
       "      <td>119</td>\n",
       "      <td>0</td>\n",
       "    </tr>\n",
       "  </tbody>\n",
       "</table>\n",
       "<p>2 rows × 102 columns</p>\n",
       "</div>"
      ],
      "text/plain": [
       "                     1075  1076  1077  1125  1126  1127  1128  1129  1130  \\\n",
       "date_hour                                                                   \n",
       "2016-06-30 22:00:00   106   168   103   125   317   476   405   508   578   \n",
       "2016-06-30 23:00:00    85   130    86   113   256   428   483   531   631   \n",
       "\n",
       "                     1131  ...   1630  1684  1733  1734  1783  2068  2069  \\\n",
       "date_hour                  ...                                              \n",
       "2016-06-30 22:00:00   259  ...      3    19     5   358   387   169    12   \n",
       "2016-06-30 23:00:00   210  ...      9     0     7   323   110   147    38   \n",
       "\n",
       "                     2118  2119  2168  \n",
       "date_hour                              \n",
       "2016-06-30 22:00:00   206   146     0  \n",
       "2016-06-30 23:00:00   173   119     0  \n",
       "\n",
       "[2 rows x 102 columns]"
      ]
     },
     "execution_count": 5,
     "metadata": {},
     "output_type": "execute_result"
    }
   ],
   "source": [
    "data.tail(2)"
   ]
  },
  {
   "cell_type": "code",
   "execution_count": 6,
   "metadata": {},
   "outputs": [
    {
     "data": {
      "text/plain": [
       "(4368, 102)"
      ]
     },
     "execution_count": 6,
     "metadata": {},
     "output_type": "execute_result"
    }
   ],
   "source": [
    "data.shape"
   ]
  },
  {
   "cell_type": "code",
   "execution_count": 7,
   "metadata": {},
   "outputs": [
    {
     "data": {
      "text/plain": [
       "(4368, 103)"
      ]
     },
     "execution_count": 7,
     "metadata": {},
     "output_type": "execute_result"
    }
   ],
   "source": [
    "# сделаю копию выборки и буду с ней экспериментировать\n",
    "dt_1 = data.copy()\n",
    "dt_1.reset_index(inplace=True) # выведем date_hour из индекса в обычный столбец\n",
    "dt_1.shape"
   ]
  },
  {
   "cell_type": "code",
   "execution_count": 8,
   "metadata": {
    "scrolled": true
   },
   "outputs": [
    {
     "data": {
      "text/html": [
       "<div>\n",
       "<style>\n",
       "    .dataframe thead tr:only-child th {\n",
       "        text-align: right;\n",
       "    }\n",
       "\n",
       "    .dataframe thead th {\n",
       "        text-align: left;\n",
       "    }\n",
       "\n",
       "    .dataframe tbody tr th {\n",
       "        vertical-align: top;\n",
       "    }\n",
       "</style>\n",
       "<table border=\"1\" class=\"dataframe\">\n",
       "  <thead>\n",
       "    <tr style=\"text-align: right;\">\n",
       "      <th></th>\n",
       "      <th>date_hour</th>\n",
       "      <th>1075</th>\n",
       "      <th>1076</th>\n",
       "      <th>1077</th>\n",
       "      <th>1125</th>\n",
       "      <th>1126</th>\n",
       "      <th>1127</th>\n",
       "      <th>1128</th>\n",
       "      <th>1129</th>\n",
       "      <th>1130</th>\n",
       "      <th>...</th>\n",
       "      <th>1630</th>\n",
       "      <th>1684</th>\n",
       "      <th>1733</th>\n",
       "      <th>1734</th>\n",
       "      <th>1783</th>\n",
       "      <th>2068</th>\n",
       "      <th>2069</th>\n",
       "      <th>2118</th>\n",
       "      <th>2119</th>\n",
       "      <th>2168</th>\n",
       "    </tr>\n",
       "  </thead>\n",
       "  <tbody>\n",
       "    <tr>\n",
       "      <th>0</th>\n",
       "      <td>2016-01-01 00:00:00</td>\n",
       "      <td>80</td>\n",
       "      <td>144</td>\n",
       "      <td>50</td>\n",
       "      <td>77</td>\n",
       "      <td>319</td>\n",
       "      <td>402</td>\n",
       "      <td>531</td>\n",
       "      <td>617</td>\n",
       "      <td>846</td>\n",
       "      <td>...</td>\n",
       "      <td>12</td>\n",
       "      <td>0</td>\n",
       "      <td>2</td>\n",
       "      <td>44</td>\n",
       "      <td>5</td>\n",
       "      <td>41</td>\n",
       "      <td>4</td>\n",
       "      <td>70</td>\n",
       "      <td>7</td>\n",
       "      <td>66</td>\n",
       "    </tr>\n",
       "    <tr>\n",
       "      <th>1</th>\n",
       "      <td>2016-01-01 01:00:00</td>\n",
       "      <td>91</td>\n",
       "      <td>211</td>\n",
       "      <td>49</td>\n",
       "      <td>134</td>\n",
       "      <td>404</td>\n",
       "      <td>420</td>\n",
       "      <td>370</td>\n",
       "      <td>453</td>\n",
       "      <td>594</td>\n",
       "      <td>...</td>\n",
       "      <td>29</td>\n",
       "      <td>0</td>\n",
       "      <td>5</td>\n",
       "      <td>2</td>\n",
       "      <td>2</td>\n",
       "      <td>4</td>\n",
       "      <td>0</td>\n",
       "      <td>47</td>\n",
       "      <td>1</td>\n",
       "      <td>29</td>\n",
       "    </tr>\n",
       "  </tbody>\n",
       "</table>\n",
       "<p>2 rows × 103 columns</p>\n",
       "</div>"
      ],
      "text/plain": [
       "            date_hour  1075  1076  1077  1125  1126  1127  1128  1129  1130  \\\n",
       "0 2016-01-01 00:00:00    80   144    50    77   319   402   531   617   846   \n",
       "1 2016-01-01 01:00:00    91   211    49   134   404   420   370   453   594   \n",
       "\n",
       "   ...   1630  1684  1733  1734  1783  2068  2069  2118  2119  2168  \n",
       "0  ...     12     0     2    44     5    41     4    70     7    66  \n",
       "1  ...     29     0     5     2     2     4     0    47     1    29  \n",
       "\n",
       "[2 rows x 103 columns]"
      ]
     },
     "execution_count": 8,
     "metadata": {},
     "output_type": "execute_result"
    }
   ],
   "source": [
    "dt_1.head(2)"
   ]
  },
  {
   "cell_type": "code",
   "execution_count": 9,
   "metadata": {},
   "outputs": [
    {
     "name": "stdout",
     "output_type": "stream",
     "text": [
      "Wall time: 1.97 s\n"
     ]
    }
   ],
   "source": [
    "%%time\n",
    "# разверну данные в длину по зонам\n",
    "dt_long1 = pd.DataFrame(columns=['cell', 'date_hour','val'])\n",
    "for i in xrange(1, len(dt_1.columns)):\n",
    "    dt_temp = pd.DataFrame(columns=['cell', 'date_hour','val'])\n",
    "    dt_temp['date_hour'] = dt_1.date_hour.values\n",
    "    dt_temp['val'] = dt_1[dt_1.columns[i]].values\n",
    "    dt_temp['cell'] = [dt_1.columns[i]] * dt_1.shape[0]\n",
    "    \n",
    "    dt_long1 = dt_long1.append(dt_temp)"
   ]
  },
  {
   "cell_type": "code",
   "execution_count": 10,
   "metadata": {
    "scrolled": true
   },
   "outputs": [
    {
     "name": "stdout",
     "output_type": "stream",
     "text": [
      "(445536, 3)\n"
     ]
    },
    {
     "data": {
      "text/html": [
       "<div>\n",
       "<style>\n",
       "    .dataframe thead tr:only-child th {\n",
       "        text-align: right;\n",
       "    }\n",
       "\n",
       "    .dataframe thead th {\n",
       "        text-align: left;\n",
       "    }\n",
       "\n",
       "    .dataframe tbody tr th {\n",
       "        vertical-align: top;\n",
       "    }\n",
       "</style>\n",
       "<table border=\"1\" class=\"dataframe\">\n",
       "  <thead>\n",
       "    <tr style=\"text-align: right;\">\n",
       "      <th></th>\n",
       "      <th>cell</th>\n",
       "      <th>date_hour</th>\n",
       "      <th>val</th>\n",
       "    </tr>\n",
       "  </thead>\n",
       "  <tbody>\n",
       "    <tr>\n",
       "      <th>0</th>\n",
       "      <td>1075</td>\n",
       "      <td>2016-01-01 00:00:00</td>\n",
       "      <td>80</td>\n",
       "    </tr>\n",
       "    <tr>\n",
       "      <th>1</th>\n",
       "      <td>1075</td>\n",
       "      <td>2016-01-01 01:00:00</td>\n",
       "      <td>91</td>\n",
       "    </tr>\n",
       "    <tr>\n",
       "      <th>2</th>\n",
       "      <td>1075</td>\n",
       "      <td>2016-01-01 02:00:00</td>\n",
       "      <td>90</td>\n",
       "    </tr>\n",
       "  </tbody>\n",
       "</table>\n",
       "</div>"
      ],
      "text/plain": [
       "   cell           date_hour val\n",
       "0  1075 2016-01-01 00:00:00  80\n",
       "1  1075 2016-01-01 01:00:00  91\n",
       "2  1075 2016-01-01 02:00:00  90"
      ]
     },
     "execution_count": 10,
     "metadata": {},
     "output_type": "execute_result"
    }
   ],
   "source": [
    "print dt_long1.shape\n",
    "dt_long1.head(3)"
   ]
  },
  {
   "cell_type": "code",
   "execution_count": 11,
   "metadata": {},
   "outputs": [
    {
     "name": "stdout",
     "output_type": "stream",
     "text": [
      "Wall time: 6.83 s\n"
     ]
    }
   ],
   "source": [
    "%%time\n",
    "# Добавляем признаки дня, месяца, дня недели, часа и года.\n",
    "dt_long1['day'] = dt_long1.date_hour.map(lambda x: x.day)\n",
    "dt_long1['month'] = dt_long1.date_hour.map(lambda x: x.month)\n",
    "dt_long1['weekday'] = dt_long1.date_hour.map(lambda x: x.weekday())\n",
    "dt_long1['hour'] = dt_long1.date_hour.map(lambda x: x.hour)\n",
    "dt_long1['year'] = dt_long1.date_hour.map(lambda x: x.year)\n",
    "# Добавляем признаки числа поездок из этого региона за прошлые часы и дни\n",
    "for i in xrange(1, 32): dt_long1['sh_' + str(i)] = dt_long1['val'] - dt_long1['val'].shift(i)\n",
    "for i in xrange(1, 15): dt_long1['sd_' + str(i)] = dt_long1['val'] - dt_long1['val'].shift(24*i)   \n",
    "#dt_long1['sum_p_12_h'] = [dt_long1['val'][i-12:i].sum() for i in xrange(dt_long1.shape[0])]\n",
    "#dt_long1['sum_p_24_h'] = [dt_long1['val'][i-24:i].sum() for i in xrange(dt_long1.shape[0])]\n",
    "#dt_long1['sum_p_w'] = [dt_long1['val'][i-24*7:i].sum() for i in xrange(dt_long1.shape[0])]\n",
    "\n",
    "# суммарное количество поездок за предшествующие полдня\n",
    "dt_long1['prev_12h_sum'] = dt_long1.val.rolling(12).sum()\n",
    "# суммарное количество поездок за предшествующий день\n",
    "dt_long1['prev_24h_sum'] = dt_long1.val.rolling(24).sum()\n",
    "# суммарное количество поездок за предшествующую неделю\n",
    "dt_long1['prev_Week_sum'] = dt_long1.val.rolling(168).sum()\n",
    "\n",
    "\n",
    "# Добавляем целевые значения для каждой из 6 моделей\n",
    "for i in xrange(1, 7): dt_long1['target_' + str(i)] = dt_long1['val'].shift(-i)\n",
    "   "
   ]
  },
  {
   "cell_type": "code",
   "execution_count": 12,
   "metadata": {
    "scrolled": true
   },
   "outputs": [
    {
     "name": "stdout",
     "output_type": "stream",
     "text": [
      "(445194, 62)\n"
     ]
    },
    {
     "data": {
      "text/html": [
       "<div>\n",
       "<style>\n",
       "    .dataframe thead tr:only-child th {\n",
       "        text-align: right;\n",
       "    }\n",
       "\n",
       "    .dataframe thead th {\n",
       "        text-align: left;\n",
       "    }\n",
       "\n",
       "    .dataframe tbody tr th {\n",
       "        vertical-align: top;\n",
       "    }\n",
       "</style>\n",
       "<table border=\"1\" class=\"dataframe\">\n",
       "  <thead>\n",
       "    <tr style=\"text-align: right;\">\n",
       "      <th></th>\n",
       "      <th>cell</th>\n",
       "      <th>date_hour</th>\n",
       "      <th>val</th>\n",
       "      <th>day</th>\n",
       "      <th>month</th>\n",
       "      <th>weekday</th>\n",
       "      <th>hour</th>\n",
       "      <th>year</th>\n",
       "      <th>sh_1</th>\n",
       "      <th>sh_2</th>\n",
       "      <th>...</th>\n",
       "      <th>sd_14</th>\n",
       "      <th>prev_12h_sum</th>\n",
       "      <th>prev_24h_sum</th>\n",
       "      <th>prev_Week_sum</th>\n",
       "      <th>target_1</th>\n",
       "      <th>target_2</th>\n",
       "      <th>target_3</th>\n",
       "      <th>target_4</th>\n",
       "      <th>target_5</th>\n",
       "      <th>target_6</th>\n",
       "    </tr>\n",
       "  </thead>\n",
       "  <tbody>\n",
       "    <tr>\n",
       "      <th>336</th>\n",
       "      <td>1075</td>\n",
       "      <td>2016-01-15 00:00:00</td>\n",
       "      <td>44</td>\n",
       "      <td>15</td>\n",
       "      <td>1</td>\n",
       "      <td>4</td>\n",
       "      <td>0</td>\n",
       "      <td>2016</td>\n",
       "      <td>-16</td>\n",
       "      <td>-59</td>\n",
       "      <td>...</td>\n",
       "      <td>-36</td>\n",
       "      <td>1021.0</td>\n",
       "      <td>1547.0</td>\n",
       "      <td>9016.0</td>\n",
       "      <td>30</td>\n",
       "      <td>13</td>\n",
       "      <td>6</td>\n",
       "      <td>3</td>\n",
       "      <td>2</td>\n",
       "      <td>19</td>\n",
       "    </tr>\n",
       "    <tr>\n",
       "      <th>337</th>\n",
       "      <td>1075</td>\n",
       "      <td>2016-01-15 01:00:00</td>\n",
       "      <td>30</td>\n",
       "      <td>15</td>\n",
       "      <td>1</td>\n",
       "      <td>4</td>\n",
       "      <td>1</td>\n",
       "      <td>2016</td>\n",
       "      <td>-14</td>\n",
       "      <td>-30</td>\n",
       "      <td>...</td>\n",
       "      <td>-61</td>\n",
       "      <td>971.0</td>\n",
       "      <td>1559.0</td>\n",
       "      <td>9027.0</td>\n",
       "      <td>13</td>\n",
       "      <td>6</td>\n",
       "      <td>3</td>\n",
       "      <td>2</td>\n",
       "      <td>19</td>\n",
       "      <td>36</td>\n",
       "    </tr>\n",
       "    <tr>\n",
       "      <th>338</th>\n",
       "      <td>1075</td>\n",
       "      <td>2016-01-15 02:00:00</td>\n",
       "      <td>13</td>\n",
       "      <td>15</td>\n",
       "      <td>1</td>\n",
       "      <td>4</td>\n",
       "      <td>2</td>\n",
       "      <td>2016</td>\n",
       "      <td>-17</td>\n",
       "      <td>-31</td>\n",
       "      <td>...</td>\n",
       "      <td>-77</td>\n",
       "      <td>891.0</td>\n",
       "      <td>1561.0</td>\n",
       "      <td>9031.0</td>\n",
       "      <td>6</td>\n",
       "      <td>3</td>\n",
       "      <td>2</td>\n",
       "      <td>19</td>\n",
       "      <td>36</td>\n",
       "      <td>78</td>\n",
       "    </tr>\n",
       "    <tr>\n",
       "      <th>339</th>\n",
       "      <td>1075</td>\n",
       "      <td>2016-01-15 03:00:00</td>\n",
       "      <td>6</td>\n",
       "      <td>15</td>\n",
       "      <td>1</td>\n",
       "      <td>4</td>\n",
       "      <td>3</td>\n",
       "      <td>2016</td>\n",
       "      <td>-7</td>\n",
       "      <td>-24</td>\n",
       "      <td>...</td>\n",
       "      <td>-26</td>\n",
       "      <td>813.0</td>\n",
       "      <td>1563.0</td>\n",
       "      <td>9028.0</td>\n",
       "      <td>3</td>\n",
       "      <td>2</td>\n",
       "      <td>19</td>\n",
       "      <td>36</td>\n",
       "      <td>78</td>\n",
       "      <td>70</td>\n",
       "    </tr>\n",
       "  </tbody>\n",
       "</table>\n",
       "<p>4 rows × 62 columns</p>\n",
       "</div>"
      ],
      "text/plain": [
       "     cell           date_hour val  day  month  weekday  hour  year sh_1 sh_2  \\\n",
       "336  1075 2016-01-15 00:00:00  44   15      1        4     0  2016  -16  -59   \n",
       "337  1075 2016-01-15 01:00:00  30   15      1        4     1  2016  -14  -30   \n",
       "338  1075 2016-01-15 02:00:00  13   15      1        4     2  2016  -17  -31   \n",
       "339  1075 2016-01-15 03:00:00   6   15      1        4     3  2016   -7  -24   \n",
       "\n",
       "      ...    sd_14 prev_12h_sum prev_24h_sum prev_Week_sum target_1 target_2  \\\n",
       "336   ...      -36       1021.0       1547.0        9016.0       30       13   \n",
       "337   ...      -61        971.0       1559.0        9027.0       13        6   \n",
       "338   ...      -77        891.0       1561.0        9031.0        6        3   \n",
       "339   ...      -26        813.0       1563.0        9028.0        3        2   \n",
       "\n",
       "    target_3 target_4 target_5 target_6  \n",
       "336        6        3        2       19  \n",
       "337        3        2       19       36  \n",
       "338        2       19       36       78  \n",
       "339       19       36       78       70  \n",
       "\n",
       "[4 rows x 62 columns]"
      ]
     },
     "execution_count": 12,
     "metadata": {},
     "output_type": "execute_result"
    }
   ],
   "source": [
    "# вот что получилось по признакам\n",
    "#dt_long1.fillna(0,inplace=True)\n",
    "dt_long1.dropna(inplace=True)\n",
    "print dt_long1.shape\n",
    "dt_long1.head(4) "
   ]
  },
  {
   "cell_type": "code",
   "execution_count": null,
   "metadata": {
    "collapsed": true
   },
   "outputs": [],
   "source": [
    "#чистка лишних признакоы\n",
    "#for i in range(1):\n",
    "#    dt_long1.drop(dt_long1.columns[len(dt_long1.columns)-1], inplace=True, axis=1)"
   ]
  },
  {
   "cell_type": "code",
   "execution_count": 48,
   "metadata": {},
   "outputs": [
    {
     "name": "stdout",
     "output_type": "stream",
     "text": [
      "Wall time: 6.28 s\n"
     ]
    }
   ],
   "source": [
    "# SIN COS не стал добавлять, ухудшают работу лин-й регрессии\n",
    "#%%time\n",
    "# Создадим регрессионные признаки для учёта сезонностей и трендов.\n",
    "#Si=sin([1,…,T]∗2πi/168),Ci=cos([1,…,T]∗2πi/168),i=1,…,K.\n",
    "# К возьму 7\n",
    "#itog_param = []\n",
    "#temp_param = []\n",
    "#K=7\n",
    "#arr_param = np.zeros((445194,14), dtype=float)\n",
    "\n",
    "#задублирую на все зоны\n",
    "#for j in range(K):\n",
    "#    temp_param = []\n",
    "#    for i in range(len(arr_param)):    \n",
    "#        arr_param[i,j*2] = sin((i+1)*2*np.pi*(j+1)/168.)\n",
    "#        arr_param[i,j*2+1] = cos((i+1)*2*np.pi*(j+1)/168.)\n",
    "        \n",
    "# добавляем синусы и косинусы в итоговый фрейм\n",
    "#for i in range(arr_param.shape[1]/2):\n",
    "#    dt_long1['sin_'+str(i+1)] = arr_param[:,i*2]\n",
    "#    dt_long1['cos_'+str(i+1)] = arr_param[:,i*2+1]"
   ]
  },
  {
   "cell_type": "code",
   "execution_count": 13,
   "metadata": {
    "scrolled": false
   },
   "outputs": [
    {
     "name": "stderr",
     "output_type": "stream",
     "text": [
      "C:\\Users\\JB\\Anaconda2\\lib\\site-packages\\ipykernel_launcher.py:4: SettingWithCopyWarning: \n",
      "A value is trying to be set on a copy of a slice from a DataFrame\n",
      "\n",
      "See the caveats in the documentation: http://pandas.pydata.org/pandas-docs/stable/indexing.html#indexing-view-versus-copy\n",
      "  after removing the cwd from sys.path.\n",
      "C:\\Users\\JB\\Anaconda2\\lib\\site-packages\\ipykernel_launcher.py:7: SettingWithCopyWarning: \n",
      "A value is trying to be set on a copy of a slice from a DataFrame\n",
      "\n",
      "See the caveats in the documentation: http://pandas.pydata.org/pandas-docs/stable/indexing.html#indexing-view-versus-copy\n",
      "  import sys\n"
     ]
    }
   ],
   "source": [
    "# подготовлю тест и трейн\n",
    "X_train = dt_long1[(dt_long1.date_hour >= train_from) & (dt_long1.date_hour <= train_to)]\n",
    "X_train.drop(['weekday','val','date_hour','target_1','target_2','target_3','target_4','target_5','target_6'],\n",
    "             inplace=True, axis=1)\n",
    "X_test = dt_long1[(dt_long1.date_hour >= test_from) & (dt_long1.date_hour <= test_to)]\n",
    "X_test.drop(['weekday','val','date_hour','target_1','target_2','target_3','target_4','target_5','target_6'],\n",
    "             inplace=True, axis=1)\n"
   ]
  },
  {
   "cell_type": "code",
   "execution_count": 14,
   "metadata": {
    "scrolled": true
   },
   "outputs": [
    {
     "name": "stdout",
     "output_type": "stream",
     "text": [
      "точность модели linear regression для Т+1 = 0.971247695145 Q=20.9442050748\n",
      "точность модели linear regression для Т+2 = 0.939615816278 Q=24.8860278308\n",
      "точность модели linear regression для Т+3 = 0.918638211134 Q=27.5130414925\n",
      "точность модели linear regression для Т+4 = 0.906647575342 Q=29.3042643991\n",
      "точность модели linear regression для Т+5 = 0.901692433869 Q=30.4939703541\n",
      "точность модели linear regression для Т+6 = 0.900545615498 Q=31.2961194475\n",
      "Wall time: 15.9 s\n"
     ]
    }
   ],
   "source": [
    "%%time\n",
    "# Create linear regression object для для 6-ти концов истории своя модель\n",
    "# заодно посчитаю ошибку за май\n",
    "models = dict()\n",
    "Qmay = 0 # ошибка предсказания за май\n",
    "\n",
    "for i in xrange(1,7):\n",
    "\n",
    "    # определяю целевые значения, т.е. сдвинутые на 1 - 6 часов\n",
    "    y_train = dt_long1[(dt_long1.date_hour >= train_from) & (dt_long1.date_hour <= train_to)]['target_'+str(i)].values\n",
    "    y_test = dt_long1[(dt_long1.date_hour >= test_from) & (dt_long1.date_hour <= test_to)]['target_'+str(i)].values\n",
    "    \n",
    "    clf_LIN = linear_model.LinearRegression()\n",
    "    clf_LIN.fit(X_train, y_train)\n",
    "    pred_LIN = clf_LIN.predict(X_test)\n",
    "    score_LIN = clf_LIN.score(X_test, y_test)\n",
    "    \n",
    "# занулим отриательные предсказания\n",
    "    pred_LIN[pred_LIN < 0] = 0  # All low values set to 0\n",
    "    \n",
    "    models[i] = (i, clf_LIN)\n",
    "    \n",
    "    Qmay += sum(abs(y_test-pred_LIN))\n",
    "    \n",
    "    print 'точность модели linear regression для Т+'+str(i)+' = '+ str(score_LIN)+' Q=' + str(1/(102*739.*i)*Qmay) "
   ]
  },
  {
   "cell_type": "code",
   "execution_count": 15,
   "metadata": {
    "scrolled": true
   },
   "outputs": [
    {
     "data": {
      "text/plain": [
       "31.296119447519295"
      ]
     },
     "execution_count": 15,
     "metadata": {},
     "output_type": "execute_result"
    }
   ],
   "source": [
    "# считаем ошибку прогноза\n",
    "1/(102*739*6.)*Qmay"
   ]
  },
  {
   "cell_type": "code",
   "execution_count": 17,
   "metadata": {},
   "outputs": [
    {
     "name": "stdout",
     "output_type": "stream",
     "text": [
      "точность модели linear regression для Т+1 = 0.983534546076 Q=15.6707620261\n",
      "MAE = 15.6707620261\n",
      "точность модели linear regression для Т+2 = 0.97430455028 Q=17.1855904337\n",
      "MAE = 17.1855904337\n",
      "точность модели linear regression для Т+3 = 0.969007249402 Q=18.2376825245\n",
      "MAE = 18.2376825245\n",
      "точность модели linear regression для Т+4 = 0.965473004548 Q=19.0024867051\n",
      "MAE = 19.0024867051\n",
      "точность модели linear regression для Т+5 = 0.963357372282 Q=19.5598521357\n",
      "MAE = 19.5598521357\n",
      "точность модели linear regression для Т+6 = 0.962798471268 Q=19.9761247756\n",
      "MAE = 19.9761247756\n",
      "Wall time: 8min 32s\n"
     ]
    }
   ],
   "source": [
    "%%time\n",
    "# попробую RandomForest\n",
    "Qmay_mae = 0 # ошибка предсказания за май\n",
    "Qmay = 0 # ошибка предсказания за май\n",
    "\n",
    "for i in xrange(1,7):\n",
    "\n",
    "    # определяю целевые значения, т.е. сдвинутые на 1 - 6 часов\n",
    "    y_train = dt_long1[(dt_long1.date_hour >= train_from) & (dt_long1.date_hour <= train_to)]['target_'+str(i)].values\n",
    "    y_test = dt_long1[(dt_long1.date_hour >= test_from) & (dt_long1.date_hour <= test_to)]['target_'+str(i)].values\n",
    "    \n",
    "    clf_RF = ensemble.RandomForestRegressor(n_estimators=70,max_features=30,n_jobs=16)\n",
    "    clf_RF.fit(X_train, y_train)\n",
    "    pred_RF = clf_RF.predict(X_test)\n",
    "    score_RF = clf_RF.score(X_test, y_test)\n",
    "    \n",
    "# занулим отриательные предсказания\n",
    "    pred_RF[pred_LIN < 0] = 0  # All low values set to 0\n",
    "    \n",
    "    models[i] = (i, clf_RF)\n",
    "    \n",
    "    Qmay += sum(abs(y_test-pred_RF))\n",
    "    Qmay_mae += metrics.mean_absolute_error(y_test, pred_RF)  \n",
    "    \n",
    "    print 'точность модели linear regression для Т+'+str(i)+' = '+ str(score_RF)+' Q=' + str(1/(102*739.*i)*Qmay) \n",
    "    print 'MAE = ' + str(Qmay_mae/i)   "
   ]
  },
  {
   "cell_type": "markdown",
   "metadata": {},
   "source": [
    "2 Попробуйте добавить признаки. Используйте идеи, которые мы предложили, или какие-то свои. Обучайте обновлённые модели на данных до апреля 2016 включительно и считайте качество новых прогнозов на мае. Удаётся ли вам улучшить качество? Не нужно ли увеличить сложность регрессионной модели? Если добавляемый признак не улучшает качество, всё равно оставьте доказательства этому в ноутбуке, чтобы ваши коллеги это видели при проверке. "
   ]
  },
  {
   "cell_type": "markdown",
   "metadata": {},
   "source": [
    "на 6-й неделе посмотрел влияние признаков на регрессию по графику весов, оказалось что значение поездок в момент времени Т и день недели ухудшают прогноз, после их удаления ошибка стала меньше на 1,5% "
   ]
  },
  {
   "cell_type": "code",
   "execution_count": null,
   "metadata": {
    "collapsed": true
   },
   "outputs": [],
   "source": [
    "#plt.figure(figsize=(16,10))\n",
    "#plt.barh(X_test_tmp.columns, models[1][1].coef_, align='center',log=False)\n",
    "#plt.show()"
   ]
  },
  {
   "cell_type": "markdown",
   "metadata": {},
   "source": [
    "подготовил заранее файл с признаками из сырых данных:\n",
    "1. fare_amount \tВремя и расстояние проезда рассчитывается по счетчику\n",
    "2. passenger_count \tКоличество пассажиров\n",
    "3. total_amount \tОбщая сумма, взимаемая с пассажиров\n",
    "4. trip_distance    Прошедшее расстояние в милях сообщает таксометр\n",
    "\n",
    "за 01-06.2016, попробую за счет них улучшить регрессию"
   ]
  },
  {
   "cell_type": "code",
   "execution_count": 18,
   "metadata": {
    "collapsed": true
   },
   "outputs": [],
   "source": [
    "dt_feat = pd.read_csv('feat_2016-01-06.csv', sep=';', header=0)"
   ]
  },
  {
   "cell_type": "code",
   "execution_count": 19,
   "metadata": {
    "scrolled": false
   },
   "outputs": [
    {
     "name": "stdout",
     "output_type": "stream",
     "text": [
      "(499697, 6)\n"
     ]
    },
    {
     "data": {
      "text/html": [
       "<div>\n",
       "<style>\n",
       "    .dataframe thead tr:only-child th {\n",
       "        text-align: right;\n",
       "    }\n",
       "\n",
       "    .dataframe thead th {\n",
       "        text-align: left;\n",
       "    }\n",
       "\n",
       "    .dataframe tbody tr th {\n",
       "        vertical-align: top;\n",
       "    }\n",
       "</style>\n",
       "<table border=\"1\" class=\"dataframe\">\n",
       "  <thead>\n",
       "    <tr style=\"text-align: right;\">\n",
       "      <th></th>\n",
       "      <th>date_hour</th>\n",
       "      <th>cell</th>\n",
       "      <th>fare_amount</th>\n",
       "      <th>passenger_count</th>\n",
       "      <th>total_amount</th>\n",
       "      <th>trip_distance</th>\n",
       "    </tr>\n",
       "  </thead>\n",
       "  <tbody>\n",
       "    <tr>\n",
       "      <th>0</th>\n",
       "      <td>2016-01-01 00:00:00</td>\n",
       "      <td>1075</td>\n",
       "      <td>1190.5</td>\n",
       "      <td>163</td>\n",
       "      <td>1407.25</td>\n",
       "      <td>317.81</td>\n",
       "    </tr>\n",
       "    <tr>\n",
       "      <th>1</th>\n",
       "      <td>2016-01-01 00:00:00</td>\n",
       "      <td>1076</td>\n",
       "      <td>2119.5</td>\n",
       "      <td>301</td>\n",
       "      <td>2667.25</td>\n",
       "      <td>566.41</td>\n",
       "    </tr>\n",
       "  </tbody>\n",
       "</table>\n",
       "</div>"
      ],
      "text/plain": [
       "             date_hour  cell  fare_amount  passenger_count  total_amount  \\\n",
       "0  2016-01-01 00:00:00  1075       1190.5              163       1407.25   \n",
       "1  2016-01-01 00:00:00  1076       2119.5              301       2667.25   \n",
       "\n",
       "   trip_distance  \n",
       "0         317.81  \n",
       "1         566.41  "
      ]
     },
     "execution_count": 19,
     "metadata": {},
     "output_type": "execute_result"
    }
   ],
   "source": [
    "print dt_feat.shape\n",
    "#dt_feat.date_hour.astype(str)\n",
    "#dt_long1.date_hour.astype(str)\n",
    "dt_feat.head(2)"
   ]
  },
  {
   "cell_type": "code",
   "execution_count": 20,
   "metadata": {
    "collapsed": true
   },
   "outputs": [],
   "source": [
    "dt_feat['dt_cell'] = dt_feat.date_hour.astype(str) + '_' + dt_feat.cell.astype(str)\n",
    "dt_long1['dt_cell'] = dt_long1.date_hour.astype(str) + '_' + dt_long1.cell.astype(str)"
   ]
  },
  {
   "cell_type": "code",
   "execution_count": 67,
   "metadata": {
    "collapsed": true
   },
   "outputs": [],
   "source": [
    "#dt_feat.set_index(['date_hour','cell'],inplace=True)\n",
    "#dt_long1.set_index(['date_hour','cell'],inplace=True)\n",
    "#dt_long1.reset_index(inplace=True) # выведем date_hour из индекса в обычный столбец\n",
    "#dt_feat.reset_index(inplace=True) # выведем date_hour из индекса в обычный столбец"
   ]
  },
  {
   "cell_type": "code",
   "execution_count": 21,
   "metadata": {},
   "outputs": [
    {
     "data": {
      "text/html": [
       "<div>\n",
       "<style>\n",
       "    .dataframe thead tr:only-child th {\n",
       "        text-align: right;\n",
       "    }\n",
       "\n",
       "    .dataframe thead th {\n",
       "        text-align: left;\n",
       "    }\n",
       "\n",
       "    .dataframe tbody tr th {\n",
       "        vertical-align: top;\n",
       "    }\n",
       "</style>\n",
       "<table border=\"1\" class=\"dataframe\">\n",
       "  <thead>\n",
       "    <tr style=\"text-align: right;\">\n",
       "      <th></th>\n",
       "      <th>cell</th>\n",
       "      <th>date_hour</th>\n",
       "      <th>val</th>\n",
       "      <th>day</th>\n",
       "      <th>month</th>\n",
       "      <th>weekday</th>\n",
       "      <th>hour</th>\n",
       "      <th>year</th>\n",
       "      <th>sh_1</th>\n",
       "      <th>sh_2</th>\n",
       "      <th>...</th>\n",
       "      <th>prev_12h_sum</th>\n",
       "      <th>prev_24h_sum</th>\n",
       "      <th>prev_Week_sum</th>\n",
       "      <th>target_1</th>\n",
       "      <th>target_2</th>\n",
       "      <th>target_3</th>\n",
       "      <th>target_4</th>\n",
       "      <th>target_5</th>\n",
       "      <th>target_6</th>\n",
       "      <th>dt_cell</th>\n",
       "    </tr>\n",
       "  </thead>\n",
       "  <tbody>\n",
       "    <tr>\n",
       "      <th>336</th>\n",
       "      <td>1075</td>\n",
       "      <td>2016-01-15 00:00:00</td>\n",
       "      <td>44</td>\n",
       "      <td>15</td>\n",
       "      <td>1</td>\n",
       "      <td>4</td>\n",
       "      <td>0</td>\n",
       "      <td>2016</td>\n",
       "      <td>-16</td>\n",
       "      <td>-59</td>\n",
       "      <td>...</td>\n",
       "      <td>1021.0</td>\n",
       "      <td>1547.0</td>\n",
       "      <td>9016.0</td>\n",
       "      <td>30</td>\n",
       "      <td>13</td>\n",
       "      <td>6</td>\n",
       "      <td>3</td>\n",
       "      <td>2</td>\n",
       "      <td>19</td>\n",
       "      <td>2016-01-15 00:00:00_1075</td>\n",
       "    </tr>\n",
       "    <tr>\n",
       "      <th>337</th>\n",
       "      <td>1075</td>\n",
       "      <td>2016-01-15 01:00:00</td>\n",
       "      <td>30</td>\n",
       "      <td>15</td>\n",
       "      <td>1</td>\n",
       "      <td>4</td>\n",
       "      <td>1</td>\n",
       "      <td>2016</td>\n",
       "      <td>-14</td>\n",
       "      <td>-30</td>\n",
       "      <td>...</td>\n",
       "      <td>971.0</td>\n",
       "      <td>1559.0</td>\n",
       "      <td>9027.0</td>\n",
       "      <td>13</td>\n",
       "      <td>6</td>\n",
       "      <td>3</td>\n",
       "      <td>2</td>\n",
       "      <td>19</td>\n",
       "      <td>36</td>\n",
       "      <td>2016-01-15 01:00:00_1075</td>\n",
       "    </tr>\n",
       "  </tbody>\n",
       "</table>\n",
       "<p>2 rows × 63 columns</p>\n",
       "</div>"
      ],
      "text/plain": [
       "     cell           date_hour val  day  month  weekday  hour  year sh_1 sh_2  \\\n",
       "336  1075 2016-01-15 00:00:00  44   15      1        4     0  2016  -16  -59   \n",
       "337  1075 2016-01-15 01:00:00  30   15      1        4     1  2016  -14  -30   \n",
       "\n",
       "               ...            prev_12h_sum prev_24h_sum prev_Week_sum  \\\n",
       "336            ...                  1021.0       1547.0        9016.0   \n",
       "337            ...                   971.0       1559.0        9027.0   \n",
       "\n",
       "    target_1 target_2 target_3 target_4 target_5 target_6  \\\n",
       "336       30       13        6        3        2       19   \n",
       "337       13        6        3        2       19       36   \n",
       "\n",
       "                      dt_cell  \n",
       "336  2016-01-15 00:00:00_1075  \n",
       "337  2016-01-15 01:00:00_1075  \n",
       "\n",
       "[2 rows x 63 columns]"
      ]
     },
     "execution_count": 21,
     "metadata": {},
     "output_type": "execute_result"
    }
   ],
   "source": [
    "dt_long1.head(2) "
   ]
  },
  {
   "cell_type": "code",
   "execution_count": 22,
   "metadata": {
    "collapsed": true,
    "scrolled": true
   },
   "outputs": [],
   "source": [
    "# сливаем фреймы по дате и ячейке\n",
    "dt_new_feat = dt_long1.merge(dt_feat, how='left', left_on=['dt_cell'],right_on=['dt_cell'])"
   ]
  },
  {
   "cell_type": "code",
   "execution_count": 23,
   "metadata": {},
   "outputs": [
    {
     "name": "stdout",
     "output_type": "stream",
     "text": [
      "(445194, 69)\n"
     ]
    },
    {
     "data": {
      "text/html": [
       "<div>\n",
       "<style>\n",
       "    .dataframe thead tr:only-child th {\n",
       "        text-align: right;\n",
       "    }\n",
       "\n",
       "    .dataframe thead th {\n",
       "        text-align: left;\n",
       "    }\n",
       "\n",
       "    .dataframe tbody tr th {\n",
       "        vertical-align: top;\n",
       "    }\n",
       "</style>\n",
       "<table border=\"1\" class=\"dataframe\">\n",
       "  <thead>\n",
       "    <tr style=\"text-align: right;\">\n",
       "      <th></th>\n",
       "      <th>cell_x</th>\n",
       "      <th>date_hour_x</th>\n",
       "      <th>val</th>\n",
       "      <th>day</th>\n",
       "      <th>month</th>\n",
       "      <th>weekday</th>\n",
       "      <th>hour</th>\n",
       "      <th>year</th>\n",
       "      <th>sh_1</th>\n",
       "      <th>sh_2</th>\n",
       "      <th>...</th>\n",
       "      <th>target_4</th>\n",
       "      <th>target_5</th>\n",
       "      <th>target_6</th>\n",
       "      <th>dt_cell</th>\n",
       "      <th>date_hour_y</th>\n",
       "      <th>cell_y</th>\n",
       "      <th>fare_amount</th>\n",
       "      <th>passenger_count</th>\n",
       "      <th>total_amount</th>\n",
       "      <th>trip_distance</th>\n",
       "    </tr>\n",
       "  </thead>\n",
       "  <tbody>\n",
       "    <tr>\n",
       "      <th>445192</th>\n",
       "      <td>2168</td>\n",
       "      <td>2016-06-30 16:00:00</td>\n",
       "      <td>2</td>\n",
       "      <td>30</td>\n",
       "      <td>6</td>\n",
       "      <td>3</td>\n",
       "      <td>16</td>\n",
       "      <td>2016</td>\n",
       "      <td>2</td>\n",
       "      <td>2</td>\n",
       "      <td>...</td>\n",
       "      <td>0</td>\n",
       "      <td>1</td>\n",
       "      <td>0</td>\n",
       "      <td>2016-06-30 16:00:00_2168</td>\n",
       "      <td>2016-06-30 16:00:00</td>\n",
       "      <td>2168.0</td>\n",
       "      <td>104.0</td>\n",
       "      <td>2.0</td>\n",
       "      <td>150.44</td>\n",
       "      <td>0.86</td>\n",
       "    </tr>\n",
       "    <tr>\n",
       "      <th>445193</th>\n",
       "      <td>2168</td>\n",
       "      <td>2016-06-30 17:00:00</td>\n",
       "      <td>1</td>\n",
       "      <td>30</td>\n",
       "      <td>6</td>\n",
       "      <td>3</td>\n",
       "      <td>17</td>\n",
       "      <td>2016</td>\n",
       "      <td>-1</td>\n",
       "      <td>1</td>\n",
       "      <td>...</td>\n",
       "      <td>1</td>\n",
       "      <td>0</td>\n",
       "      <td>0</td>\n",
       "      <td>2016-06-30 17:00:00_2168</td>\n",
       "      <td>2016-06-30 17:00:00</td>\n",
       "      <td>2168.0</td>\n",
       "      <td>52.0</td>\n",
       "      <td>6.0</td>\n",
       "      <td>57.30</td>\n",
       "      <td>0.01</td>\n",
       "    </tr>\n",
       "  </tbody>\n",
       "</table>\n",
       "<p>2 rows × 69 columns</p>\n",
       "</div>"
      ],
      "text/plain": [
       "       cell_x         date_hour_x val  day  month  weekday  hour  year sh_1  \\\n",
       "445192   2168 2016-06-30 16:00:00   2   30      6        3    16  2016    2   \n",
       "445193   2168 2016-06-30 17:00:00   1   30      6        3    17  2016   -1   \n",
       "\n",
       "       sh_2      ...      target_4 target_5 target_6  \\\n",
       "445192    2      ...             0        1        0   \n",
       "445193    1      ...             1        0        0   \n",
       "\n",
       "                         dt_cell          date_hour_y  cell_y fare_amount  \\\n",
       "445192  2016-06-30 16:00:00_2168  2016-06-30 16:00:00  2168.0       104.0   \n",
       "445193  2016-06-30 17:00:00_2168  2016-06-30 17:00:00  2168.0        52.0   \n",
       "\n",
       "       passenger_count total_amount trip_distance  \n",
       "445192             2.0       150.44          0.86  \n",
       "445193             6.0        57.30          0.01  \n",
       "\n",
       "[2 rows x 69 columns]"
      ]
     },
     "execution_count": 23,
     "metadata": {},
     "output_type": "execute_result"
    }
   ],
   "source": [
    "print dt_new_feat.shape\n",
    "dt_new_feat.tail(2) "
   ]
  },
  {
   "cell_type": "code",
   "execution_count": 24,
   "metadata": {
    "scrolled": true
   },
   "outputs": [
    {
     "name": "stdout",
     "output_type": "stream",
     "text": [
      "(445194, 66)\n"
     ]
    },
    {
     "data": {
      "text/html": [
       "<div>\n",
       "<style>\n",
       "    .dataframe thead tr:only-child th {\n",
       "        text-align: right;\n",
       "    }\n",
       "\n",
       "    .dataframe thead th {\n",
       "        text-align: left;\n",
       "    }\n",
       "\n",
       "    .dataframe tbody tr th {\n",
       "        vertical-align: top;\n",
       "    }\n",
       "</style>\n",
       "<table border=\"1\" class=\"dataframe\">\n",
       "  <thead>\n",
       "    <tr style=\"text-align: right;\">\n",
       "      <th></th>\n",
       "      <th>cell_x</th>\n",
       "      <th>date_hour_x</th>\n",
       "      <th>val</th>\n",
       "      <th>day</th>\n",
       "      <th>month</th>\n",
       "      <th>weekday</th>\n",
       "      <th>hour</th>\n",
       "      <th>year</th>\n",
       "      <th>sh_1</th>\n",
       "      <th>sh_2</th>\n",
       "      <th>...</th>\n",
       "      <th>target_1</th>\n",
       "      <th>target_2</th>\n",
       "      <th>target_3</th>\n",
       "      <th>target_4</th>\n",
       "      <th>target_5</th>\n",
       "      <th>target_6</th>\n",
       "      <th>fare_amount</th>\n",
       "      <th>passenger_count</th>\n",
       "      <th>total_amount</th>\n",
       "      <th>trip_distance</th>\n",
       "    </tr>\n",
       "  </thead>\n",
       "  <tbody>\n",
       "    <tr>\n",
       "      <th>0</th>\n",
       "      <td>1075</td>\n",
       "      <td>2016-01-15 00:00:00</td>\n",
       "      <td>44</td>\n",
       "      <td>15</td>\n",
       "      <td>1</td>\n",
       "      <td>4</td>\n",
       "      <td>0</td>\n",
       "      <td>2016</td>\n",
       "      <td>-16</td>\n",
       "      <td>-59</td>\n",
       "      <td>...</td>\n",
       "      <td>30</td>\n",
       "      <td>13</td>\n",
       "      <td>6</td>\n",
       "      <td>3</td>\n",
       "      <td>2</td>\n",
       "      <td>19</td>\n",
       "      <td>813.0</td>\n",
       "      <td>84.0</td>\n",
       "      <td>1016.37</td>\n",
       "      <td>233.72</td>\n",
       "    </tr>\n",
       "    <tr>\n",
       "      <th>1</th>\n",
       "      <td>1075</td>\n",
       "      <td>2016-01-15 01:00:00</td>\n",
       "      <td>30</td>\n",
       "      <td>15</td>\n",
       "      <td>1</td>\n",
       "      <td>4</td>\n",
       "      <td>1</td>\n",
       "      <td>2016</td>\n",
       "      <td>-14</td>\n",
       "      <td>-30</td>\n",
       "      <td>...</td>\n",
       "      <td>13</td>\n",
       "      <td>6</td>\n",
       "      <td>3</td>\n",
       "      <td>2</td>\n",
       "      <td>19</td>\n",
       "      <td>36</td>\n",
       "      <td>547.5</td>\n",
       "      <td>49.0</td>\n",
       "      <td>681.75</td>\n",
       "      <td>183.11</td>\n",
       "    </tr>\n",
       "    <tr>\n",
       "      <th>2</th>\n",
       "      <td>1075</td>\n",
       "      <td>2016-01-15 02:00:00</td>\n",
       "      <td>13</td>\n",
       "      <td>15</td>\n",
       "      <td>1</td>\n",
       "      <td>4</td>\n",
       "      <td>2</td>\n",
       "      <td>2016</td>\n",
       "      <td>-17</td>\n",
       "      <td>-31</td>\n",
       "      <td>...</td>\n",
       "      <td>6</td>\n",
       "      <td>3</td>\n",
       "      <td>2</td>\n",
       "      <td>19</td>\n",
       "      <td>36</td>\n",
       "      <td>78</td>\n",
       "      <td>237.0</td>\n",
       "      <td>17.0</td>\n",
       "      <td>289.67</td>\n",
       "      <td>71.99</td>\n",
       "    </tr>\n",
       "  </tbody>\n",
       "</table>\n",
       "<p>3 rows × 66 columns</p>\n",
       "</div>"
      ],
      "text/plain": [
       "  cell_x         date_hour_x  val  day  month  weekday  hour  year  sh_1  \\\n",
       "0   1075 2016-01-15 00:00:00   44   15      1        4     0  2016   -16   \n",
       "1   1075 2016-01-15 01:00:00   30   15      1        4     1  2016   -14   \n",
       "2   1075 2016-01-15 02:00:00   13   15      1        4     2  2016   -17   \n",
       "\n",
       "   sh_2      ...        target_1  target_2  target_3  target_4  target_5  \\\n",
       "0   -59      ...              30        13         6         3         2   \n",
       "1   -30      ...              13         6         3         2        19   \n",
       "2   -31      ...               6         3         2        19        36   \n",
       "\n",
       "   target_6  fare_amount  passenger_count  total_amount  trip_distance  \n",
       "0        19        813.0             84.0       1016.37         233.72  \n",
       "1        36        547.5             49.0        681.75         183.11  \n",
       "2        78        237.0             17.0        289.67          71.99  \n",
       "\n",
       "[3 rows x 66 columns]"
      ]
     },
     "execution_count": 24,
     "metadata": {},
     "output_type": "execute_result"
    }
   ],
   "source": [
    "# вот что получилось по признакам\n",
    "dt_new_feat.fillna(0,inplace=True)\n",
    "dt_new_feat.drop(['date_hour_y','cell_y', 'dt_cell'], inplace=True, axis=1)\n",
    "#dt_new_feat.columns[0] = 'date_hour'\n",
    "print dt_new_feat.shape\n",
    "dt_new_feat.head(3) "
   ]
  },
  {
   "cell_type": "code",
   "execution_count": 25,
   "metadata": {
    "scrolled": true
   },
   "outputs": [
    {
     "name": "stdout",
     "output_type": "stream",
     "text": [
      "(445194, 70)\n"
     ]
    },
    {
     "data": {
      "text/html": [
       "<div>\n",
       "<style>\n",
       "    .dataframe thead tr:only-child th {\n",
       "        text-align: right;\n",
       "    }\n",
       "\n",
       "    .dataframe thead th {\n",
       "        text-align: left;\n",
       "    }\n",
       "\n",
       "    .dataframe tbody tr th {\n",
       "        vertical-align: top;\n",
       "    }\n",
       "</style>\n",
       "<table border=\"1\" class=\"dataframe\">\n",
       "  <thead>\n",
       "    <tr style=\"text-align: right;\">\n",
       "      <th></th>\n",
       "      <th>cell_x</th>\n",
       "      <th>date_hour_x</th>\n",
       "      <th>val</th>\n",
       "      <th>day</th>\n",
       "      <th>month</th>\n",
       "      <th>weekday</th>\n",
       "      <th>hour</th>\n",
       "      <th>year</th>\n",
       "      <th>sh_1</th>\n",
       "      <th>sh_2</th>\n",
       "      <th>...</th>\n",
       "      <th>target_5</th>\n",
       "      <th>target_6</th>\n",
       "      <th>fare_amount</th>\n",
       "      <th>passenger_count</th>\n",
       "      <th>total_amount</th>\n",
       "      <th>trip_distance</th>\n",
       "      <th>fare_amount_mean</th>\n",
       "      <th>passenger_count_mean</th>\n",
       "      <th>total_amount_mean</th>\n",
       "      <th>trip_distance_mean</th>\n",
       "    </tr>\n",
       "  </thead>\n",
       "  <tbody>\n",
       "    <tr>\n",
       "      <th>0</th>\n",
       "      <td>1075</td>\n",
       "      <td>2016-01-15 00:00:00</td>\n",
       "      <td>44</td>\n",
       "      <td>15</td>\n",
       "      <td>1</td>\n",
       "      <td>4</td>\n",
       "      <td>0</td>\n",
       "      <td>2016</td>\n",
       "      <td>-16</td>\n",
       "      <td>-59</td>\n",
       "      <td>...</td>\n",
       "      <td>2</td>\n",
       "      <td>19</td>\n",
       "      <td>813.0</td>\n",
       "      <td>84.0</td>\n",
       "      <td>1016.37</td>\n",
       "      <td>233.72</td>\n",
       "      <td>18.477273</td>\n",
       "      <td>1.909091</td>\n",
       "      <td>23.099318</td>\n",
       "      <td>5.311818</td>\n",
       "    </tr>\n",
       "    <tr>\n",
       "      <th>1</th>\n",
       "      <td>1075</td>\n",
       "      <td>2016-01-15 01:00:00</td>\n",
       "      <td>30</td>\n",
       "      <td>15</td>\n",
       "      <td>1</td>\n",
       "      <td>4</td>\n",
       "      <td>1</td>\n",
       "      <td>2016</td>\n",
       "      <td>-14</td>\n",
       "      <td>-30</td>\n",
       "      <td>...</td>\n",
       "      <td>19</td>\n",
       "      <td>36</td>\n",
       "      <td>547.5</td>\n",
       "      <td>49.0</td>\n",
       "      <td>681.75</td>\n",
       "      <td>183.11</td>\n",
       "      <td>18.250000</td>\n",
       "      <td>1.633333</td>\n",
       "      <td>22.725000</td>\n",
       "      <td>6.103667</td>\n",
       "    </tr>\n",
       "    <tr>\n",
       "      <th>2</th>\n",
       "      <td>1075</td>\n",
       "      <td>2016-01-15 02:00:00</td>\n",
       "      <td>13</td>\n",
       "      <td>15</td>\n",
       "      <td>1</td>\n",
       "      <td>4</td>\n",
       "      <td>2</td>\n",
       "      <td>2016</td>\n",
       "      <td>-17</td>\n",
       "      <td>-31</td>\n",
       "      <td>...</td>\n",
       "      <td>36</td>\n",
       "      <td>78</td>\n",
       "      <td>237.0</td>\n",
       "      <td>17.0</td>\n",
       "      <td>289.67</td>\n",
       "      <td>71.99</td>\n",
       "      <td>18.230769</td>\n",
       "      <td>1.307692</td>\n",
       "      <td>22.282308</td>\n",
       "      <td>5.537692</td>\n",
       "    </tr>\n",
       "  </tbody>\n",
       "</table>\n",
       "<p>3 rows × 70 columns</p>\n",
       "</div>"
      ],
      "text/plain": [
       "  cell_x         date_hour_x  val  day  month  weekday  hour  year  sh_1  \\\n",
       "0   1075 2016-01-15 00:00:00   44   15      1        4     0  2016   -16   \n",
       "1   1075 2016-01-15 01:00:00   30   15      1        4     1  2016   -14   \n",
       "2   1075 2016-01-15 02:00:00   13   15      1        4     2  2016   -17   \n",
       "\n",
       "   sh_2         ...          target_5  target_6  fare_amount  passenger_count  \\\n",
       "0   -59         ...                 2        19        813.0             84.0   \n",
       "1   -30         ...                19        36        547.5             49.0   \n",
       "2   -31         ...                36        78        237.0             17.0   \n",
       "\n",
       "   total_amount  trip_distance  fare_amount_mean  passenger_count_mean  \\\n",
       "0       1016.37         233.72         18.477273              1.909091   \n",
       "1        681.75         183.11         18.250000              1.633333   \n",
       "2        289.67          71.99         18.230769              1.307692   \n",
       "\n",
       "   total_amount_mean  trip_distance_mean  \n",
       "0          23.099318            5.311818  \n",
       "1          22.725000            6.103667  \n",
       "2          22.282308            5.537692  \n",
       "\n",
       "[3 rows x 70 columns]"
      ]
     },
     "execution_count": 25,
     "metadata": {},
     "output_type": "execute_result"
    }
   ],
   "source": [
    "# посчитаем средние по добавленным признакам\n",
    "dt_new_feat['fare_amount_mean'] = dt_new_feat['fare_amount'] / dt_new_feat['val']\n",
    "dt_new_feat['passenger_count_mean'] = dt_new_feat['passenger_count'] / dt_new_feat['val']\n",
    "dt_new_feat['total_amount_mean'] = dt_new_feat['total_amount'] / dt_new_feat['val']\n",
    "dt_new_feat['trip_distance_mean'] = dt_new_feat['trip_distance'] / dt_new_feat['val']\n",
    "print dt_new_feat.shape\n",
    "dt_new_feat.head(3) "
   ]
  },
  {
   "cell_type": "code",
   "execution_count": 28,
   "metadata": {
    "collapsed": true
   },
   "outputs": [],
   "source": [
    "dt_new_feat.fillna(0,inplace=True)"
   ]
  },
  {
   "cell_type": "code",
   "execution_count": 29,
   "metadata": {},
   "outputs": [
    {
     "name": "stderr",
     "output_type": "stream",
     "text": [
      "C:\\Users\\JB\\Anaconda2\\lib\\site-packages\\ipykernel_launcher.py:4: SettingWithCopyWarning: \n",
      "A value is trying to be set on a copy of a slice from a DataFrame\n",
      "\n",
      "See the caveats in the documentation: http://pandas.pydata.org/pandas-docs/stable/indexing.html#indexing-view-versus-copy\n",
      "  after removing the cwd from sys.path.\n",
      "C:\\Users\\JB\\Anaconda2\\lib\\site-packages\\ipykernel_launcher.py:7: SettingWithCopyWarning: \n",
      "A value is trying to be set on a copy of a slice from a DataFrame\n",
      "\n",
      "See the caveats in the documentation: http://pandas.pydata.org/pandas-docs/stable/indexing.html#indexing-view-versus-copy\n",
      "  import sys\n"
     ]
    }
   ],
   "source": [
    "# подготовлю тест и трейн\n",
    "X_train = dt_new_feat[(dt_new_feat.date_hour_x >= train_from) & (dt_new_feat.date_hour_x <= train_to)]\n",
    "X_train.drop(['weekday','val','date_hour_x','target_1','target_2','target_3','target_4','target_5','target_6'],\n",
    "             inplace=True, axis=1)\n",
    "X_test = dt_new_feat[(dt_new_feat.date_hour_x >= test_from) & (dt_new_feat.date_hour_x <= test_to)]\n",
    "X_test.drop(['weekday','val','date_hour_x','target_1','target_2','target_3','target_4','target_5','target_6'],\n",
    "             inplace=True, axis=1)"
   ]
  },
  {
   "cell_type": "code",
   "execution_count": 32,
   "metadata": {
    "scrolled": true
   },
   "outputs": [
    {
     "name": "stdout",
     "output_type": "stream",
     "text": [
      "точность модели linear regression для Т+1 = 0.97171376732 Q=20.8553231816\n",
      "MAE = 20.8553231816\n",
      "точность модели linear regression для Т+2 = 0.940781485885 Q=24.7564453386\n",
      "MAE = 24.7564453386\n",
      "точность модели linear regression для Т+3 = 0.920048744142 Q=27.3956722552\n",
      "MAE = 27.3956722552\n",
      "точность модели linear regression для Т+4 = 0.908087857172 Q=29.1992311789\n",
      "MAE = 29.1992311789\n",
      "точность модели linear regression для Т+5 = 0.903167094942 Q=30.4012866637\n",
      "MAE = 30.4012866637\n",
      "точность модели linear regression для Т+6 = 0.902236561992 Q=31.2089287214\n",
      "MAE = 31.2089287214\n",
      "Wall time: 18 s\n"
     ]
    }
   ],
   "source": [
    "%%time\n",
    "# Create linear regression object для для 6-ти концов истории своя модель\n",
    "# заодно посчитаю ошибку за май\n",
    "models = dict()\n",
    "Qmay = 0 # ошибка предсказания за май\n",
    "Qmay_mae = 0 # ошибка предсказания за май\n",
    "\n",
    "for i in xrange(1,7):\n",
    "\n",
    "    # определяю целевые значения, т.е. сдвинутые на 1 - 6 часов\n",
    "    y_train = dt_new_feat[(dt_new_feat.date_hour_x >= train_from) & (dt_new_feat.date_hour_x <= train_to)]['target_'+str(i)].values\n",
    "    y_test = dt_new_feat[(dt_new_feat.date_hour_x >= test_from) & (dt_new_feat.date_hour_x <= test_to)]['target_'+str(i)].values\n",
    "    \n",
    "    clf_LIN = linear_model.LinearRegression()\n",
    "    clf_LIN.fit(X_train, y_train)\n",
    "    pred_LIN = clf_LIN.predict(X_test)\n",
    "    score_LIN = clf_LIN.score(X_test, y_test)\n",
    "    \n",
    "# занулим отриательные предсказания\n",
    "    pred_LIN[pred_LIN < 0] = 0  # All low values set to 0\n",
    "    \n",
    "    models[i] = (i, clf_LIN)\n",
    "    \n",
    "    Qmay += sum(abs(y_test-pred_LIN))\n",
    "    Qmay_mae += metrics.mean_absolute_error(y_test, pred_LIN)\n",
    "    \n",
    "    print 'точность модели linear regression для Т+'+str(i)+' = '+ str(score_LIN)+' Q=' + str(1/(102*739.*i)*Qmay) \n",
    "    print 'MAE = ' + str(Qmay_mae/i)    "
   ]
  },
  {
   "cell_type": "code",
   "execution_count": 33,
   "metadata": {},
   "outputs": [
    {
     "data": {
      "text/plain": [
       "31.208928721418193"
      ]
     },
     "execution_count": 33,
     "metadata": {},
     "output_type": "execute_result"
    }
   ],
   "source": [
    "# считаем ошибку прогноза  было 31.296, ошибка уменьшилсь очень незначительно\n",
    "1/(102*739*6.)*Qmay"
   ]
  },
  {
   "cell_type": "code",
   "execution_count": null,
   "metadata": {
    "collapsed": true
   },
   "outputs": [],
   "source": [
    "#plt.figure(figsize=(16,10))\n",
    "#plt.barh(X_test.columns, models[2][1].coef_, align='center',log=False)\n",
    "#plt.show()"
   ]
  },
  {
   "cell_type": "code",
   "execution_count": 36,
   "metadata": {},
   "outputs": [
    {
     "name": "stderr",
     "output_type": "stream",
     "text": [
      "C:\\Users\\JB\\Anaconda2\\lib\\site-packages\\ipykernel_launcher.py:4: SettingWithCopyWarning: \n",
      "A value is trying to be set on a copy of a slice from a DataFrame\n",
      "\n",
      "See the caveats in the documentation: http://pandas.pydata.org/pandas-docs/stable/indexing.html#indexing-view-versus-copy\n",
      "  after removing the cwd from sys.path.\n",
      "C:\\Users\\JB\\Anaconda2\\lib\\site-packages\\ipykernel_launcher.py:7: SettingWithCopyWarning: \n",
      "A value is trying to be set on a copy of a slice from a DataFrame\n",
      "\n",
      "See the caveats in the documentation: http://pandas.pydata.org/pandas-docs/stable/indexing.html#indexing-view-versus-copy\n",
      "  import sys\n"
     ]
    }
   ],
   "source": [
    "# подготовлю тест и трейн\n",
    "X_train = dt_new_feat[(dt_new_feat.date_hour_x >= train_from) & (dt_new_feat.date_hour_x <= train_to)]\n",
    "X_train.drop(['date_hour_x','target_1','target_2','target_3','target_4','target_5','target_6'],\n",
    "             inplace=True, axis=1)\n",
    "X_test = dt_new_feat[(dt_new_feat.date_hour_x >= test_from) & (dt_new_feat.date_hour_x <= test_to)]\n",
    "X_test.drop(['date_hour_x','target_1','target_2','target_3','target_4','target_5','target_6'],\n",
    "             inplace=True, axis=1)"
   ]
  },
  {
   "cell_type": "code",
   "execution_count": 37,
   "metadata": {
    "scrolled": true
   },
   "outputs": [
    {
     "name": "stdout",
     "output_type": "stream",
     "text": [
      "точность модели linear regression для Т+1 = 0.983555839894 Q=15.6774617831\n",
      "MAE = 15.6774617831\n",
      "точность модели linear regression для Т+2 = 0.975525617656 Q=17.0784796056\n",
      "MAE = 17.0784796056\n",
      "точность модели linear regression для Т+3 = 0.971943414865 Q=17.8994169702\n",
      "MAE = 17.8994169702\n",
      "точность модели linear regression для Т+4 = 0.970030239922 Q=18.4574783567\n",
      "MAE = 18.4574783567\n",
      "точность модели linear regression для Т+5 = 0.96842878245 Q=18.8606461529\n",
      "MAE = 18.8606461529\n",
      "точность модели linear regression для Т+6 = 0.967917702773 Q=19.1592253771\n",
      "MAE = 19.1592253771\n",
      "Wall time: 9min 10s\n"
     ]
    }
   ],
   "source": [
    "%%time\n",
    "# попробую RandomForest\n",
    "Qmay_mae = 0 # ошибка предсказания за май\n",
    "Qmay = 0 # ошибка предсказания за май\n",
    "\n",
    "for i in xrange(1,7):\n",
    "\n",
    "    # определяю целевые значения, т.е. сдвинутые на 1 - 6 часов\n",
    "    y_train = dt_new_feat[(dt_new_feat.date_hour_x >= train_from) & (dt_new_feat.date_hour_x <= train_to)]['target_'+str(i)].values\n",
    "    y_test = dt_new_feat[(dt_new_feat.date_hour_x >= test_from) & (dt_new_feat.date_hour_x <= test_to)]['target_'+str(i)].values\n",
    "    \n",
    "    clf_RF = ensemble.RandomForestRegressor(n_estimators=70,max_features=30,n_jobs=16)\n",
    "    clf_RF.fit(X_train, y_train)\n",
    "    pred_RF = clf_RF.predict(X_test)\n",
    "    score_RF = clf_RF.score(X_test, y_test)\n",
    "    \n",
    "# занулим отриательные предсказания\n",
    "    pred_RF[pred_RF < 0] = 0  # All low values set to 0\n",
    "    \n",
    "    models[i] = (i, clf_RF)\n",
    "    \n",
    "    Qmay += sum(abs(y_test-pred_RF))\n",
    "    Qmay_mae += metrics.mean_absolute_error(y_test, pred_RF)  \n",
    "    \n",
    "    print 'точность модели linear regression для Т+'+str(i)+' = '+ str(score_RF)+' Q=' + str(1/(102*739.*i)*Qmay) \n",
    "    print 'MAE = ' + str(Qmay_mae/i)   "
   ]
  },
  {
   "cell_type": "code",
   "execution_count": 28,
   "metadata": {},
   "outputs": [
    {
     "data": {
      "text/plain": [
       "(295260, 57)"
      ]
     },
     "execution_count": 28,
     "metadata": {},
     "output_type": "execute_result"
    }
   ],
   "source": [
    "#19.9761247756 MAE для RndFor без доп признаков ошибка стала немного меньше"
   ]
  },
  {
   "cell_type": "markdown",
   "metadata": {},
   "source": [
    "ок, посчитаем июнь"
   ]
  },
  {
   "cell_type": "code",
   "execution_count": 40,
   "metadata": {
    "scrolled": true
   },
   "outputs": [
    {
     "name": "stderr",
     "output_type": "stream",
     "text": [
      "C:\\Users\\JB\\Anaconda2\\lib\\site-packages\\ipykernel_launcher.py:11: SettingWithCopyWarning: \n",
      "A value is trying to be set on a copy of a slice from a DataFrame\n",
      "\n",
      "See the caveats in the documentation: http://pandas.pydata.org/pandas-docs/stable/indexing.html#indexing-view-versus-copy\n",
      "  # This is added back by InteractiveShellApp.init_path()\n",
      "C:\\Users\\JB\\Anaconda2\\lib\\site-packages\\ipykernel_launcher.py:14: SettingWithCopyWarning: \n",
      "A value is trying to be set on a copy of a slice from a DataFrame\n",
      "\n",
      "See the caveats in the documentation: http://pandas.pydata.org/pandas-docs/stable/indexing.html#indexing-view-versus-copy\n",
      "  \n"
     ]
    }
   ],
   "source": [
    "# для предсказания июня обучаться будем с 2014 по 05.2016\n",
    "train_from = pd.to_datetime('2014-01-01 00:00:00')\n",
    "train_to = pd.to_datetime('2016-05-31 23:00:00')\n",
    "\n",
    "test_from = pd.to_datetime('2016-05-31 23:00:00')\n",
    "test_to = pd.to_datetime('2016-06-30 17:00:00')\n",
    "\n",
    "# подготовлю тест и трейн\n",
    "X_train = dt_new_feat[(dt_new_feat.date_hour_x >= train_from) & (dt_new_feat.date_hour_x <= train_to)]\n",
    "X_train.drop(['date_hour_x','target_1','target_2','target_3','target_4','target_5','target_6'],\n",
    "             inplace=True, axis=1)\n",
    "X_test = dt_new_feat[(dt_new_feat.date_hour_x >= test_from) & (dt_new_feat.date_hour_x <= test_to)]\n",
    "X_test.drop(['date_hour_x','target_1','target_2','target_3','target_4','target_5','target_6'],\n",
    "             inplace=True, axis=1)\n",
    "\n",
    "# итоговый фрейм для кэгла\n",
    "dt_itog = pd.DataFrame(dt_new_feat[(dt_new_feat.date_hour_x >= test_from) & \n",
    "                                (dt_new_feat.date_hour_x <= test_to)][['date_hour_x','cell_x']])"
   ]
  },
  {
   "cell_type": "code",
   "execution_count": 48,
   "metadata": {
    "scrolled": true
   },
   "outputs": [
    {
     "name": "stdout",
     "output_type": "stream",
     "text": [
      "точность модели linear regression для Т+1 = 0.981707174442 Q=15.608550665\n",
      "MAE = 15.608550665\n",
      "точность модели linear regression для Т+2 = 0.973995891979 Q=16.8698183189\n",
      "MAE = 16.8698183189\n",
      "точность модели linear regression для Т+3 = 0.97097765467 Q=17.5714178632\n",
      "MAE = 17.5714178632\n",
      "точность модели linear regression для Т+4 = 0.970373658679 Q=17.9974842315\n",
      "MAE = 17.9974842315\n",
      "точность модели linear regression для Т+5 = 0.96868333558 Q=18.3009177881\n",
      "MAE = 18.3009177881\n",
      "точность модели linear regression для Т+6 = 0.968461958469 Q=18.5355930671\n",
      "MAE = 18.5355930671\n",
      "Wall time: 11min 42s\n"
     ]
    }
   ],
   "source": [
    "%%time\n",
    "# попробую RandomForest\n",
    "Qmay_mae = 0 # ошибка предсказания за май\n",
    "Qmay = 0 # ошибка предсказания за май\n",
    "\n",
    "for i in xrange(1,7):\n",
    "\n",
    "    # определяю целевые значения, т.е. сдвинутые на 1 - 6 часов\n",
    "    y_train = dt_new_feat[(dt_new_feat.date_hour_x >= train_from) & (dt_new_feat.date_hour_x <= train_to)]['target_'+str(i)].values\n",
    "    y_test = dt_new_feat[(dt_new_feat.date_hour_x >= test_from) & (dt_new_feat.date_hour_x <= test_to)]['target_'+str(i)].values\n",
    "    \n",
    "    clf_RF = ensemble.RandomForestRegressor(n_estimators=70,max_features=30,n_jobs=16)\n",
    "    clf_RF.fit(X_train, y_train)\n",
    "    pred_RF = clf_RF.predict(X_test)\n",
    "    score_RF = clf_RF.score(X_test, y_test)\n",
    "    \n",
    "# занулим отриательные предсказания\n",
    "    pred_RF[pred_RF < 0] = 0  # All low values set to 0\n",
    "    \n",
    "    models[i] = (i, clf_RF)\n",
    "    \n",
    "    Qmay += sum(abs(y_test-pred_RF))\n",
    "    Qmay_mae += metrics.mean_absolute_error(y_test, pred_RF)  \n",
    "    \n",
    "    dt_itog[str(i)] = pred_RF\n",
    "    \n",
    "    print 'точность модели linear regression для Т+'+str(i)+' = '+ str(score_RF)+' Q=' + str(1/(102*715.*i)*Qmay) \n",
    "    print 'MAE = ' + str(Qmay_mae/i)   "
   ]
  },
  {
   "cell_type": "code",
   "execution_count": 49,
   "metadata": {
    "collapsed": true
   },
   "outputs": [],
   "source": [
    "# функция по приведения даты к нкжному формату\n",
    "def date_str(timed):\n",
    "    if (timed).strftime('%H')=='00': \n",
    "        a = str((timed).strftime('%Y-%m-%d_'))+'0' \n",
    "    else: a = str((timed).strftime('%Y-%m-%d_'))+str((timed).strftime('%H')).lstrip(\"0\")\n",
    "    return a"
   ]
  },
  {
   "cell_type": "code",
   "execution_count": 50,
   "metadata": {
    "scrolled": true
   },
   "outputs": [
    {
     "data": {
      "text/html": [
       "<div>\n",
       "<style>\n",
       "    .dataframe thead tr:only-child th {\n",
       "        text-align: right;\n",
       "    }\n",
       "\n",
       "    .dataframe thead th {\n",
       "        text-align: left;\n",
       "    }\n",
       "\n",
       "    .dataframe tbody tr th {\n",
       "        vertical-align: top;\n",
       "    }\n",
       "</style>\n",
       "<table border=\"1\" class=\"dataframe\">\n",
       "  <thead>\n",
       "    <tr style=\"text-align: right;\">\n",
       "      <th></th>\n",
       "      <th>date_hour_x</th>\n",
       "      <th>cell_x</th>\n",
       "      <th>1</th>\n",
       "      <th>2</th>\n",
       "      <th>3</th>\n",
       "      <th>4</th>\n",
       "      <th>5</th>\n",
       "      <th>6</th>\n",
       "    </tr>\n",
       "  </thead>\n",
       "  <tbody>\n",
       "    <tr>\n",
       "      <th>3311</th>\n",
       "      <td>2016-05-31 23:00:00</td>\n",
       "      <td>1075</td>\n",
       "      <td>26.142857</td>\n",
       "      <td>13.885714</td>\n",
       "      <td>5.928571</td>\n",
       "      <td>3.628571</td>\n",
       "      <td>2.300000</td>\n",
       "      <td>7.757143</td>\n",
       "    </tr>\n",
       "    <tr>\n",
       "      <th>3312</th>\n",
       "      <td>2016-06-01 00:00:00</td>\n",
       "      <td>1075</td>\n",
       "      <td>18.128571</td>\n",
       "      <td>8.800000</td>\n",
       "      <td>5.257143</td>\n",
       "      <td>4.914286</td>\n",
       "      <td>10.742857</td>\n",
       "      <td>28.042857</td>\n",
       "    </tr>\n",
       "  </tbody>\n",
       "</table>\n",
       "</div>"
      ],
      "text/plain": [
       "             date_hour_x cell_x          1          2         3         4  \\\n",
       "3311 2016-05-31 23:00:00   1075  26.142857  13.885714  5.928571  3.628571   \n",
       "3312 2016-06-01 00:00:00   1075  18.128571   8.800000  5.257143  4.914286   \n",
       "\n",
       "              5          6  \n",
       "3311   2.300000   7.757143  \n",
       "3312  10.742857  28.042857  "
      ]
     },
     "execution_count": 50,
     "metadata": {},
     "output_type": "execute_result"
    }
   ],
   "source": [
    "dt_itog.head(2)"
   ]
  },
  {
   "cell_type": "code",
   "execution_count": 52,
   "metadata": {
    "scrolled": true
   },
   "outputs": [
    {
     "name": "stdout",
     "output_type": "stream",
     "text": [
      "Wall time: 21.7 s\n"
     ]
    }
   ],
   "source": [
    "%%time\n",
    "# соберем теперь файл для кэгла\n",
    "arr_pred_june = [] # итоговый массив\n",
    "dt_Kaggle = pd.DataFrame()\n",
    "for i in range(dt_itog.shape[0]):\n",
    "    for j in xrange(1,7):\n",
    "        arr_pred_june.append([str(dt_itog.cell_x.iloc[i]) + '_' + date_str(dt_itog.date_hour_x.iloc[i]) + '_' + str(j),\n",
    "                            int(round(dt_itog[str(j)].iloc[i]))])"
   ]
  },
  {
   "cell_type": "code",
   "execution_count": 53,
   "metadata": {
    "collapsed": true
   },
   "outputs": [],
   "source": [
    "all_pd = pd.DataFrame(arr_pred_june)\n",
    "all_pd.columns = ['id','y']"
   ]
  },
  {
   "cell_type": "code",
   "execution_count": 55,
   "metadata": {
    "scrolled": true
   },
   "outputs": [
    {
     "name": "stdout",
     "output_type": "stream",
     "text": [
      "(437580, 2)\n"
     ]
    },
    {
     "data": {
      "text/html": [
       "<div>\n",
       "<style>\n",
       "    .dataframe thead tr:only-child th {\n",
       "        text-align: right;\n",
       "    }\n",
       "\n",
       "    .dataframe thead th {\n",
       "        text-align: left;\n",
       "    }\n",
       "\n",
       "    .dataframe tbody tr th {\n",
       "        vertical-align: top;\n",
       "    }\n",
       "</style>\n",
       "<table border=\"1\" class=\"dataframe\">\n",
       "  <thead>\n",
       "    <tr style=\"text-align: right;\">\n",
       "      <th></th>\n",
       "      <th>id</th>\n",
       "      <th>y</th>\n",
       "    </tr>\n",
       "  </thead>\n",
       "  <tbody>\n",
       "    <tr>\n",
       "      <th>0</th>\n",
       "      <td>1075_2016-05-31_23_1</td>\n",
       "      <td>26</td>\n",
       "    </tr>\n",
       "    <tr>\n",
       "      <th>1</th>\n",
       "      <td>1075_2016-05-31_23_2</td>\n",
       "      <td>14</td>\n",
       "    </tr>\n",
       "  </tbody>\n",
       "</table>\n",
       "</div>"
      ],
      "text/plain": [
       "                     id   y\n",
       "0  1075_2016-05-31_23_1  26\n",
       "1  1075_2016-05-31_23_2  14"
      ]
     },
     "execution_count": 55,
     "metadata": {},
     "output_type": "execute_result"
    }
   ],
   "source": [
    "print all_pd.shape\n",
    "all_pd.head(2)"
   ]
  },
  {
   "cell_type": "code",
   "execution_count": 56,
   "metadata": {
    "collapsed": true
   },
   "outputs": [],
   "source": [
    "all_pd.to_csv('itog6.csv', sep=',', index=False)"
   ]
  },
  {
   "cell_type": "markdown",
   "metadata": {},
   "source": [
    "Score на kaggle стал лучше на 11% благодаря перехода от линейной регрессии на случайный лес, доп признаки тоже помогли примерно на 1%\n",
    "https://yadi.sk/i/gWlyzanz3Zu8nu  вошел в топ 50 считаю неплохо =)"
   ]
  },
  {
   "cell_type": "markdown",
   "metadata": {},
   "source": [
    "ссылка на решение https://www.kaggle.com/submissions/8089857/8089857.zip"
   ]
  }
 ],
 "metadata": {
  "kernelspec": {
   "display_name": "Python 2",
   "language": "python",
   "name": "python2"
  },
  "language_info": {
   "codemirror_mode": {
    "name": "ipython",
    "version": 2
   },
   "file_extension": ".py",
   "mimetype": "text/x-python",
   "name": "python",
   "nbconvert_exporter": "python",
   "pygments_lexer": "ipython2",
   "version": "2.7.14"
  }
 },
 "nbformat": 4,
 "nbformat_minor": 2
}
