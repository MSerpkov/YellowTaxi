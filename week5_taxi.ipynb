{
 "cells": [
  {
   "cell_type": "markdown",
   "metadata": {},
   "source": [
    "### Неделя 5 Прогнозирование с помощью регрессии"
   ]
  },
  {
   "cell_type": "code",
   "execution_count": 1,
   "metadata": {},
   "outputs": [
    {
     "name": "stdout",
     "output_type": "stream",
     "text": [
      "Populating the interactive namespace from numpy and matplotlib\n"
     ]
    },
    {
     "name": "stderr",
     "output_type": "stream",
     "text": [
      "C:\\Users\\JB\\Anaconda2\\lib\\site-packages\\statsmodels\\compat\\pandas.py:56: FutureWarning: The pandas.core.datetools module is deprecated and will be removed in a future version. Please use the pandas.tseries module instead.\n",
      "  from pandas.core import datetools\n",
      "C:\\Users\\JB\\Anaconda2\\lib\\site-packages\\sklearn\\cross_validation.py:41: DeprecationWarning: This module was deprecated in version 0.18 in favor of the model_selection module into which all the refactored classes and functions are moved. Also note that the interface of the new CV iterators are different from that of this module. This module will be removed in 0.20.\n",
      "  \"This module will be removed in 0.20.\", DeprecationWarning)\n"
     ]
    }
   ],
   "source": [
    "%pylab inline\n",
    "import pandas as pd\n",
    "import numpy as np\n",
    "from scipy import stats\n",
    "import matplotlib.pyplot as plt\n",
    "import datetime\n",
    "import statsmodels.api as sm\n",
    "from itertools import product\n",
    "from sklearn import cross_validation, linear_model, metrics\n",
    "import scipy.cluster.hierarchy as sch"
   ]
  },
  {
   "cell_type": "markdown",
   "metadata": {
    "collapsed": true
   },
   "source": [
    " Для каждой из шести задач прогнозирования $^​T+i∣T​,i=1,…,6$ сформируйте выборки. \n",
    "Откликом будет $yT+i​$​ при всевозможных значениях T, а признаки можно использовать следующие:\n",
    "\n",
    "1. идентификатор географической зоны — категориальный\n",
    "2. год, месяц, день месяца, день недели, час — эти признаки можно пробовать брать и категориальными, и непрерывными, можно даже и так, и так\n",
    "3. синусы, косинусы и тренды, которые вы использовали внутри регрессионной компоненты ARIMA\n",
    "4. сами значения прогнозов ARIMA \n",
    "5. количество поездок из рассматриваемого района в моменты времени $yT​,yT−1​,…,yT−K$ (параметр KKK можно подбирать; попробуйте начать, например, с 6)\n",
    "6. количество поездок из рассматриваемого района в моменты времени $yT−24​,yT−48​,…,yT−24∗Kd​​$ (параметр KdK_dKd​ можно подбирать; попробуйте начать, например, с 2)\n",
    "7. суммарное количество поездок из рассматриваемого района за предшествующие полдня, сутки, неделю, месяц\n",
    "\n",
    "Будьте внимательны при создании признаков — все факторы должны быть рассчитаны без использования информации из будущего: при прогнозировании $^T+i∣T,i=1,…,6$ вы можете учитывать только значения yyy до момента времени TTT включительно."
   ]
  },
  {
   "cell_type": "code",
   "execution_count": 2,
   "metadata": {
    "collapsed": true
   },
   "outputs": [],
   "source": [
    "# обучаться будем с 2014 по 04.2016\n",
    "train_from = pd.to_datetime('2014-01-01 00:00:00')\n",
    "train_to = pd.to_datetime('2016-04-30 17:00:00')\n",
    "\n",
    "test_from = pd.to_datetime('2016-04-30 23:00:00')\n",
    "test_to = pd.to_datetime('2016-05-31 17:00:00')"
   ]
  },
  {
   "cell_type": "code",
   "execution_count": 3,
   "metadata": {
    "collapsed": true
   },
   "outputs": [],
   "source": [
    "# подготовил предварительно данные по 102 ячейкам за январь 2014 - июнь 2016\n",
    "data = pd.read_csv('data2014-2016_m6_102cell.csv', sep=';', header=0, index_col=['date_hour'], \n",
    "                  parse_dates=['date_hour'], dayfirst=True)"
   ]
  },
  {
   "cell_type": "code",
   "execution_count": 4,
   "metadata": {
    "scrolled": true
   },
   "outputs": [
    {
     "data": {
      "text/html": [
       "<div>\n",
       "<style>\n",
       "    .dataframe thead tr:only-child th {\n",
       "        text-align: right;\n",
       "    }\n",
       "\n",
       "    .dataframe thead th {\n",
       "        text-align: left;\n",
       "    }\n",
       "\n",
       "    .dataframe tbody tr th {\n",
       "        vertical-align: top;\n",
       "    }\n",
       "</style>\n",
       "<table border=\"1\" class=\"dataframe\">\n",
       "  <thead>\n",
       "    <tr style=\"text-align: right;\">\n",
       "      <th></th>\n",
       "      <th>1075</th>\n",
       "      <th>1076</th>\n",
       "      <th>1077</th>\n",
       "      <th>1125</th>\n",
       "      <th>1126</th>\n",
       "      <th>1127</th>\n",
       "      <th>1128</th>\n",
       "      <th>1129</th>\n",
       "      <th>1130</th>\n",
       "      <th>1131</th>\n",
       "      <th>...</th>\n",
       "      <th>1630</th>\n",
       "      <th>1684</th>\n",
       "      <th>1733</th>\n",
       "      <th>1734</th>\n",
       "      <th>1783</th>\n",
       "      <th>2068</th>\n",
       "      <th>2069</th>\n",
       "      <th>2118</th>\n",
       "      <th>2119</th>\n",
       "      <th>2168</th>\n",
       "    </tr>\n",
       "    <tr>\n",
       "      <th>date_hour</th>\n",
       "      <th></th>\n",
       "      <th></th>\n",
       "      <th></th>\n",
       "      <th></th>\n",
       "      <th></th>\n",
       "      <th></th>\n",
       "      <th></th>\n",
       "      <th></th>\n",
       "      <th></th>\n",
       "      <th></th>\n",
       "      <th></th>\n",
       "      <th></th>\n",
       "      <th></th>\n",
       "      <th></th>\n",
       "      <th></th>\n",
       "      <th></th>\n",
       "      <th></th>\n",
       "      <th></th>\n",
       "      <th></th>\n",
       "      <th></th>\n",
       "      <th></th>\n",
       "    </tr>\n",
       "  </thead>\n",
       "  <tbody>\n",
       "    <tr>\n",
       "      <th>2014-01-01 00:00:00</th>\n",
       "      <td>87</td>\n",
       "      <td>146</td>\n",
       "      <td>70</td>\n",
       "      <td>113</td>\n",
       "      <td>367</td>\n",
       "      <td>645</td>\n",
       "      <td>589</td>\n",
       "      <td>799</td>\n",
       "      <td>948</td>\n",
       "      <td>321</td>\n",
       "      <td>...</td>\n",
       "      <td>9</td>\n",
       "      <td>0</td>\n",
       "      <td>5</td>\n",
       "      <td>89</td>\n",
       "      <td>10</td>\n",
       "      <td>35</td>\n",
       "      <td>9</td>\n",
       "      <td>106</td>\n",
       "      <td>22</td>\n",
       "      <td>71</td>\n",
       "    </tr>\n",
       "    <tr>\n",
       "      <th>2014-01-01 01:00:00</th>\n",
       "      <td>92</td>\n",
       "      <td>184</td>\n",
       "      <td>93</td>\n",
       "      <td>153</td>\n",
       "      <td>539</td>\n",
       "      <td>604</td>\n",
       "      <td>490</td>\n",
       "      <td>635</td>\n",
       "      <td>667</td>\n",
       "      <td>225</td>\n",
       "      <td>...</td>\n",
       "      <td>24</td>\n",
       "      <td>0</td>\n",
       "      <td>3</td>\n",
       "      <td>22</td>\n",
       "      <td>2</td>\n",
       "      <td>5</td>\n",
       "      <td>0</td>\n",
       "      <td>87</td>\n",
       "      <td>0</td>\n",
       "      <td>44</td>\n",
       "    </tr>\n",
       "  </tbody>\n",
       "</table>\n",
       "<p>2 rows × 102 columns</p>\n",
       "</div>"
      ],
      "text/plain": [
       "                     1075  1076  1077  1125  1126  1127  1128  1129  1130  \\\n",
       "date_hour                                                                   \n",
       "2014-01-01 00:00:00    87   146    70   113   367   645   589   799   948   \n",
       "2014-01-01 01:00:00    92   184    93   153   539   604   490   635   667   \n",
       "\n",
       "                     1131  ...   1630  1684  1733  1734  1783  2068  2069  \\\n",
       "date_hour                  ...                                              \n",
       "2014-01-01 00:00:00   321  ...      9     0     5    89    10    35     9   \n",
       "2014-01-01 01:00:00   225  ...     24     0     3    22     2     5     0   \n",
       "\n",
       "                     2118  2119  2168  \n",
       "date_hour                              \n",
       "2014-01-01 00:00:00   106    22    71  \n",
       "2014-01-01 01:00:00    87     0    44  \n",
       "\n",
       "[2 rows x 102 columns]"
      ]
     },
     "execution_count": 4,
     "metadata": {},
     "output_type": "execute_result"
    }
   ],
   "source": [
    "data.head(2)"
   ]
  },
  {
   "cell_type": "code",
   "execution_count": 5,
   "metadata": {
    "scrolled": false
   },
   "outputs": [
    {
     "data": {
      "text/html": [
       "<div>\n",
       "<style>\n",
       "    .dataframe thead tr:only-child th {\n",
       "        text-align: right;\n",
       "    }\n",
       "\n",
       "    .dataframe thead th {\n",
       "        text-align: left;\n",
       "    }\n",
       "\n",
       "    .dataframe tbody tr th {\n",
       "        vertical-align: top;\n",
       "    }\n",
       "</style>\n",
       "<table border=\"1\" class=\"dataframe\">\n",
       "  <thead>\n",
       "    <tr style=\"text-align: right;\">\n",
       "      <th></th>\n",
       "      <th>1075</th>\n",
       "      <th>1076</th>\n",
       "      <th>1077</th>\n",
       "      <th>1125</th>\n",
       "      <th>1126</th>\n",
       "      <th>1127</th>\n",
       "      <th>1128</th>\n",
       "      <th>1129</th>\n",
       "      <th>1130</th>\n",
       "      <th>1131</th>\n",
       "      <th>...</th>\n",
       "      <th>1630</th>\n",
       "      <th>1684</th>\n",
       "      <th>1733</th>\n",
       "      <th>1734</th>\n",
       "      <th>1783</th>\n",
       "      <th>2068</th>\n",
       "      <th>2069</th>\n",
       "      <th>2118</th>\n",
       "      <th>2119</th>\n",
       "      <th>2168</th>\n",
       "    </tr>\n",
       "    <tr>\n",
       "      <th>date_hour</th>\n",
       "      <th></th>\n",
       "      <th></th>\n",
       "      <th></th>\n",
       "      <th></th>\n",
       "      <th></th>\n",
       "      <th></th>\n",
       "      <th></th>\n",
       "      <th></th>\n",
       "      <th></th>\n",
       "      <th></th>\n",
       "      <th></th>\n",
       "      <th></th>\n",
       "      <th></th>\n",
       "      <th></th>\n",
       "      <th></th>\n",
       "      <th></th>\n",
       "      <th></th>\n",
       "      <th></th>\n",
       "      <th></th>\n",
       "      <th></th>\n",
       "      <th></th>\n",
       "    </tr>\n",
       "  </thead>\n",
       "  <tbody>\n",
       "    <tr>\n",
       "      <th>2016-06-30 22:00:00</th>\n",
       "      <td>106</td>\n",
       "      <td>168</td>\n",
       "      <td>103</td>\n",
       "      <td>125</td>\n",
       "      <td>317</td>\n",
       "      <td>476</td>\n",
       "      <td>405</td>\n",
       "      <td>508</td>\n",
       "      <td>578</td>\n",
       "      <td>259</td>\n",
       "      <td>...</td>\n",
       "      <td>3</td>\n",
       "      <td>19</td>\n",
       "      <td>5</td>\n",
       "      <td>358</td>\n",
       "      <td>387</td>\n",
       "      <td>169</td>\n",
       "      <td>12</td>\n",
       "      <td>206</td>\n",
       "      <td>146</td>\n",
       "      <td>0</td>\n",
       "    </tr>\n",
       "    <tr>\n",
       "      <th>2016-06-30 23:00:00</th>\n",
       "      <td>85</td>\n",
       "      <td>130</td>\n",
       "      <td>86</td>\n",
       "      <td>113</td>\n",
       "      <td>256</td>\n",
       "      <td>428</td>\n",
       "      <td>483</td>\n",
       "      <td>531</td>\n",
       "      <td>631</td>\n",
       "      <td>210</td>\n",
       "      <td>...</td>\n",
       "      <td>9</td>\n",
       "      <td>0</td>\n",
       "      <td>7</td>\n",
       "      <td>323</td>\n",
       "      <td>110</td>\n",
       "      <td>147</td>\n",
       "      <td>38</td>\n",
       "      <td>173</td>\n",
       "      <td>119</td>\n",
       "      <td>0</td>\n",
       "    </tr>\n",
       "  </tbody>\n",
       "</table>\n",
       "<p>2 rows × 102 columns</p>\n",
       "</div>"
      ],
      "text/plain": [
       "                     1075  1076  1077  1125  1126  1127  1128  1129  1130  \\\n",
       "date_hour                                                                   \n",
       "2016-06-30 22:00:00   106   168   103   125   317   476   405   508   578   \n",
       "2016-06-30 23:00:00    85   130    86   113   256   428   483   531   631   \n",
       "\n",
       "                     1131  ...   1630  1684  1733  1734  1783  2068  2069  \\\n",
       "date_hour                  ...                                              \n",
       "2016-06-30 22:00:00   259  ...      3    19     5   358   387   169    12   \n",
       "2016-06-30 23:00:00   210  ...      9     0     7   323   110   147    38   \n",
       "\n",
       "                     2118  2119  2168  \n",
       "date_hour                              \n",
       "2016-06-30 22:00:00   206   146     0  \n",
       "2016-06-30 23:00:00   173   119     0  \n",
       "\n",
       "[2 rows x 102 columns]"
      ]
     },
     "execution_count": 5,
     "metadata": {},
     "output_type": "execute_result"
    }
   ],
   "source": [
    "data.tail(2)"
   ]
  },
  {
   "cell_type": "code",
   "execution_count": 6,
   "metadata": {},
   "outputs": [
    {
     "data": {
      "text/plain": [
       "(21887, 102)"
      ]
     },
     "execution_count": 6,
     "metadata": {},
     "output_type": "execute_result"
    }
   ],
   "source": [
    "data.shape"
   ]
  },
  {
   "cell_type": "code",
   "execution_count": 7,
   "metadata": {},
   "outputs": [
    {
     "data": {
      "text/plain": [
       "(21887, 103)"
      ]
     },
     "execution_count": 7,
     "metadata": {},
     "output_type": "execute_result"
    }
   ],
   "source": [
    "# сделаю копию выборки и буду с ней экспериментировать\n",
    "dt_1 = data.copy()\n",
    "dt_1.reset_index(inplace=True) # выведем date_hour из индекса в обычный столбец\n",
    "dt_1.shape"
   ]
  },
  {
   "cell_type": "code",
   "execution_count": 8,
   "metadata": {},
   "outputs": [
    {
     "data": {
      "text/html": [
       "<div>\n",
       "<style>\n",
       "    .dataframe thead tr:only-child th {\n",
       "        text-align: right;\n",
       "    }\n",
       "\n",
       "    .dataframe thead th {\n",
       "        text-align: left;\n",
       "    }\n",
       "\n",
       "    .dataframe tbody tr th {\n",
       "        vertical-align: top;\n",
       "    }\n",
       "</style>\n",
       "<table border=\"1\" class=\"dataframe\">\n",
       "  <thead>\n",
       "    <tr style=\"text-align: right;\">\n",
       "      <th></th>\n",
       "      <th>date_hour</th>\n",
       "      <th>1075</th>\n",
       "      <th>1076</th>\n",
       "      <th>1077</th>\n",
       "      <th>1125</th>\n",
       "      <th>1126</th>\n",
       "      <th>1127</th>\n",
       "      <th>1128</th>\n",
       "      <th>1129</th>\n",
       "      <th>1130</th>\n",
       "      <th>...</th>\n",
       "      <th>1630</th>\n",
       "      <th>1684</th>\n",
       "      <th>1733</th>\n",
       "      <th>1734</th>\n",
       "      <th>1783</th>\n",
       "      <th>2068</th>\n",
       "      <th>2069</th>\n",
       "      <th>2118</th>\n",
       "      <th>2119</th>\n",
       "      <th>2168</th>\n",
       "    </tr>\n",
       "  </thead>\n",
       "  <tbody>\n",
       "    <tr>\n",
       "      <th>0</th>\n",
       "      <td>2014-01-01 00:00:00</td>\n",
       "      <td>87</td>\n",
       "      <td>146</td>\n",
       "      <td>70</td>\n",
       "      <td>113</td>\n",
       "      <td>367</td>\n",
       "      <td>645</td>\n",
       "      <td>589</td>\n",
       "      <td>799</td>\n",
       "      <td>948</td>\n",
       "      <td>...</td>\n",
       "      <td>9</td>\n",
       "      <td>0</td>\n",
       "      <td>5</td>\n",
       "      <td>89</td>\n",
       "      <td>10</td>\n",
       "      <td>35</td>\n",
       "      <td>9</td>\n",
       "      <td>106</td>\n",
       "      <td>22</td>\n",
       "      <td>71</td>\n",
       "    </tr>\n",
       "    <tr>\n",
       "      <th>1</th>\n",
       "      <td>2014-01-01 01:00:00</td>\n",
       "      <td>92</td>\n",
       "      <td>184</td>\n",
       "      <td>93</td>\n",
       "      <td>153</td>\n",
       "      <td>539</td>\n",
       "      <td>604</td>\n",
       "      <td>490</td>\n",
       "      <td>635</td>\n",
       "      <td>667</td>\n",
       "      <td>...</td>\n",
       "      <td>24</td>\n",
       "      <td>0</td>\n",
       "      <td>3</td>\n",
       "      <td>22</td>\n",
       "      <td>2</td>\n",
       "      <td>5</td>\n",
       "      <td>0</td>\n",
       "      <td>87</td>\n",
       "      <td>0</td>\n",
       "      <td>44</td>\n",
       "    </tr>\n",
       "  </tbody>\n",
       "</table>\n",
       "<p>2 rows × 103 columns</p>\n",
       "</div>"
      ],
      "text/plain": [
       "            date_hour  1075  1076  1077  1125  1126  1127  1128  1129  1130  \\\n",
       "0 2014-01-01 00:00:00    87   146    70   113   367   645   589   799   948   \n",
       "1 2014-01-01 01:00:00    92   184    93   153   539   604   490   635   667   \n",
       "\n",
       "   ...   1630  1684  1733  1734  1783  2068  2069  2118  2119  2168  \n",
       "0  ...      9     0     5    89    10    35     9   106    22    71  \n",
       "1  ...     24     0     3    22     2     5     0    87     0    44  \n",
       "\n",
       "[2 rows x 103 columns]"
      ]
     },
     "execution_count": 8,
     "metadata": {},
     "output_type": "execute_result"
    }
   ],
   "source": [
    "dt_1.head(2)"
   ]
  },
  {
   "cell_type": "code",
   "execution_count": 9,
   "metadata": {},
   "outputs": [
    {
     "name": "stdout",
     "output_type": "stream",
     "text": [
      "Wall time: 8.69 s\n"
     ]
    }
   ],
   "source": [
    "%%time\n",
    "# разверну данные в длину по зонам\n",
    "dt_long1 = pd.DataFrame(columns=['cell', 'date_hour','val'])\n",
    "for i in xrange(1, len(dt_1.columns)):\n",
    "    dt_temp = pd.DataFrame(columns=['cell', 'date_hour','val'])\n",
    "    dt_temp['date_hour'] = dt_1.date_hour.values\n",
    "    dt_temp['val'] = dt_1[dt_1.columns[i]].values\n",
    "    dt_temp['cell'] = [dt_1.columns[i]] * dt_1.shape[0]\n",
    "    \n",
    "    dt_long1 = dt_long1.append(dt_temp)\n",
    "    "
   ]
  },
  {
   "cell_type": "code",
   "execution_count": 10,
   "metadata": {
    "collapsed": true
   },
   "outputs": [],
   "source": [
    "dt_long1.reset_index(inplace=True)\n",
    "dt_long1.drop(dt_long1.columns[0], inplace=True, axis=1)"
   ]
  },
  {
   "cell_type": "code",
   "execution_count": 27,
   "metadata": {},
   "outputs": [
    {
     "name": "stdout",
     "output_type": "stream",
     "text": [
      "(2232474, 68)\n"
     ]
    },
    {
     "data": {
      "text/html": [
       "<div>\n",
       "<style>\n",
       "    .dataframe thead tr:only-child th {\n",
       "        text-align: right;\n",
       "    }\n",
       "\n",
       "    .dataframe thead th {\n",
       "        text-align: left;\n",
       "    }\n",
       "\n",
       "    .dataframe tbody tr th {\n",
       "        vertical-align: top;\n",
       "    }\n",
       "</style>\n",
       "<table border=\"1\" class=\"dataframe\">\n",
       "  <thead>\n",
       "    <tr style=\"text-align: right;\">\n",
       "      <th></th>\n",
       "      <th>cell</th>\n",
       "      <th>date_hour</th>\n",
       "      <th>val</th>\n",
       "      <th>day</th>\n",
       "      <th>month</th>\n",
       "      <th>weekday</th>\n",
       "      <th>hour</th>\n",
       "      <th>year</th>\n",
       "      <th>sh_1</th>\n",
       "      <th>sh_2</th>\n",
       "      <th>...</th>\n",
       "      <th>sin_6</th>\n",
       "      <th>cos_6</th>\n",
       "      <th>sin_7</th>\n",
       "      <th>cos_7</th>\n",
       "      <th>target_1</th>\n",
       "      <th>target_2</th>\n",
       "      <th>target_3</th>\n",
       "      <th>target_4</th>\n",
       "      <th>target_5</th>\n",
       "      <th>target_6</th>\n",
       "    </tr>\n",
       "  </thead>\n",
       "  <tbody>\n",
       "    <tr>\n",
       "      <th>0</th>\n",
       "      <td>1075</td>\n",
       "      <td>2014-01-01 00:00:00</td>\n",
       "      <td>87</td>\n",
       "      <td>1</td>\n",
       "      <td>1</td>\n",
       "      <td>2</td>\n",
       "      <td>0</td>\n",
       "      <td>2014</td>\n",
       "      <td>0.0</td>\n",
       "      <td>0.0</td>\n",
       "      <td>...</td>\n",
       "      <td>0.222521</td>\n",
       "      <td>0.974928</td>\n",
       "      <td>0.258819</td>\n",
       "      <td>0.965926</td>\n",
       "      <td>92.0</td>\n",
       "      <td>108.0</td>\n",
       "      <td>77.0</td>\n",
       "      <td>47.0</td>\n",
       "      <td>22.0</td>\n",
       "      <td>10.0</td>\n",
       "    </tr>\n",
       "    <tr>\n",
       "      <th>1</th>\n",
       "      <td>1075</td>\n",
       "      <td>2014-01-01 01:00:00</td>\n",
       "      <td>92</td>\n",
       "      <td>1</td>\n",
       "      <td>1</td>\n",
       "      <td>2</td>\n",
       "      <td>1</td>\n",
       "      <td>2014</td>\n",
       "      <td>5.0</td>\n",
       "      <td>0.0</td>\n",
       "      <td>...</td>\n",
       "      <td>0.433884</td>\n",
       "      <td>0.900969</td>\n",
       "      <td>0.500000</td>\n",
       "      <td>0.866025</td>\n",
       "      <td>108.0</td>\n",
       "      <td>77.0</td>\n",
       "      <td>47.0</td>\n",
       "      <td>22.0</td>\n",
       "      <td>10.0</td>\n",
       "      <td>18.0</td>\n",
       "    </tr>\n",
       "    <tr>\n",
       "      <th>2</th>\n",
       "      <td>1075</td>\n",
       "      <td>2014-01-01 02:00:00</td>\n",
       "      <td>108</td>\n",
       "      <td>1</td>\n",
       "      <td>1</td>\n",
       "      <td>2</td>\n",
       "      <td>2</td>\n",
       "      <td>2014</td>\n",
       "      <td>16.0</td>\n",
       "      <td>21.0</td>\n",
       "      <td>...</td>\n",
       "      <td>0.623490</td>\n",
       "      <td>0.781831</td>\n",
       "      <td>0.707107</td>\n",
       "      <td>0.707107</td>\n",
       "      <td>77.0</td>\n",
       "      <td>47.0</td>\n",
       "      <td>22.0</td>\n",
       "      <td>10.0</td>\n",
       "      <td>18.0</td>\n",
       "      <td>19.0</td>\n",
       "    </tr>\n",
       "  </tbody>\n",
       "</table>\n",
       "<p>3 rows × 68 columns</p>\n",
       "</div>"
      ],
      "text/plain": [
       "   cell           date_hour  val  day  month  weekday  hour  year  sh_1  sh_2  \\\n",
       "0  1075 2014-01-01 00:00:00   87    1      1        2     0  2014   0.0   0.0   \n",
       "1  1075 2014-01-01 01:00:00   92    1      1        2     1  2014   5.0   0.0   \n",
       "2  1075 2014-01-01 02:00:00  108    1      1        2     2  2014  16.0  21.0   \n",
       "\n",
       "     ...        sin_6     cos_6     sin_7     cos_7  target_1  target_2  \\\n",
       "0    ...     0.222521  0.974928  0.258819  0.965926      92.0     108.0   \n",
       "1    ...     0.433884  0.900969  0.500000  0.866025     108.0      77.0   \n",
       "2    ...     0.623490  0.781831  0.707107  0.707107      77.0      47.0   \n",
       "\n",
       "   target_3  target_4  target_5  target_6  \n",
       "0      77.0      47.0      22.0      10.0  \n",
       "1      47.0      22.0      10.0      18.0  \n",
       "2      22.0      10.0      18.0      19.0  \n",
       "\n",
       "[3 rows x 68 columns]"
      ]
     },
     "execution_count": 27,
     "metadata": {},
     "output_type": "execute_result"
    }
   ],
   "source": [
    "#%%time\n",
    "print dt_long1.shape\n",
    "dt_long1.fillna(0,inplace=True)\n",
    "dt_long1.head(3)"
   ]
  },
  {
   "cell_type": "code",
   "execution_count": 28,
   "metadata": {},
   "outputs": [
    {
     "data": {
      "text/html": [
       "<div>\n",
       "<style>\n",
       "    .dataframe thead tr:only-child th {\n",
       "        text-align: right;\n",
       "    }\n",
       "\n",
       "    .dataframe thead th {\n",
       "        text-align: left;\n",
       "    }\n",
       "\n",
       "    .dataframe tbody tr th {\n",
       "        vertical-align: top;\n",
       "    }\n",
       "</style>\n",
       "<table border=\"1\" class=\"dataframe\">\n",
       "  <thead>\n",
       "    <tr style=\"text-align: right;\">\n",
       "      <th></th>\n",
       "      <th>cell</th>\n",
       "      <th>date_hour</th>\n",
       "      <th>val</th>\n",
       "      <th>day</th>\n",
       "      <th>month</th>\n",
       "      <th>weekday</th>\n",
       "      <th>hour</th>\n",
       "      <th>year</th>\n",
       "      <th>sh_1</th>\n",
       "      <th>sh_2</th>\n",
       "      <th>...</th>\n",
       "      <th>sin_6</th>\n",
       "      <th>cos_6</th>\n",
       "      <th>sin_7</th>\n",
       "      <th>cos_7</th>\n",
       "      <th>target_1</th>\n",
       "      <th>target_2</th>\n",
       "      <th>target_3</th>\n",
       "      <th>target_4</th>\n",
       "      <th>target_5</th>\n",
       "      <th>target_6</th>\n",
       "    </tr>\n",
       "  </thead>\n",
       "  <tbody>\n",
       "    <tr>\n",
       "      <th>2232472</th>\n",
       "      <td>2168</td>\n",
       "      <td>2016-06-30 22:00:00</td>\n",
       "      <td>0</td>\n",
       "      <td>30</td>\n",
       "      <td>6</td>\n",
       "      <td>3</td>\n",
       "      <td>22</td>\n",
       "      <td>2016</td>\n",
       "      <td>-1.0</td>\n",
       "      <td>0.0</td>\n",
       "      <td>...</td>\n",
       "      <td>0.900969</td>\n",
       "      <td>0.433884</td>\n",
       "      <td>-0.965926</td>\n",
       "      <td>-2.588190e-01</td>\n",
       "      <td>0.0</td>\n",
       "      <td>0.0</td>\n",
       "      <td>0.0</td>\n",
       "      <td>0.0</td>\n",
       "      <td>0.0</td>\n",
       "      <td>0.0</td>\n",
       "    </tr>\n",
       "    <tr>\n",
       "      <th>2232473</th>\n",
       "      <td>2168</td>\n",
       "      <td>2016-06-30 23:00:00</td>\n",
       "      <td>0</td>\n",
       "      <td>30</td>\n",
       "      <td>6</td>\n",
       "      <td>3</td>\n",
       "      <td>23</td>\n",
       "      <td>2016</td>\n",
       "      <td>0.0</td>\n",
       "      <td>-1.0</td>\n",
       "      <td>...</td>\n",
       "      <td>0.974928</td>\n",
       "      <td>0.222521</td>\n",
       "      <td>-1.000000</td>\n",
       "      <td>-3.400451e-11</td>\n",
       "      <td>0.0</td>\n",
       "      <td>0.0</td>\n",
       "      <td>0.0</td>\n",
       "      <td>0.0</td>\n",
       "      <td>0.0</td>\n",
       "      <td>0.0</td>\n",
       "    </tr>\n",
       "  </tbody>\n",
       "</table>\n",
       "<p>2 rows × 68 columns</p>\n",
       "</div>"
      ],
      "text/plain": [
       "         cell           date_hour  val  day  month  weekday  hour  year  sh_1  \\\n",
       "2232472  2168 2016-06-30 22:00:00    0   30      6        3    22  2016  -1.0   \n",
       "2232473  2168 2016-06-30 23:00:00    0   30      6        3    23  2016   0.0   \n",
       "\n",
       "         sh_2    ...        sin_6     cos_6     sin_7         cos_7  target_1  \\\n",
       "2232472   0.0    ...     0.900969  0.433884 -0.965926 -2.588190e-01       0.0   \n",
       "2232473  -1.0    ...     0.974928  0.222521 -1.000000 -3.400451e-11       0.0   \n",
       "\n",
       "         target_2  target_3  target_4  target_5  target_6  \n",
       "2232472       0.0       0.0       0.0       0.0       0.0  \n",
       "2232473       0.0       0.0       0.0       0.0       0.0  \n",
       "\n",
       "[2 rows x 68 columns]"
      ]
     },
     "execution_count": 28,
     "metadata": {},
     "output_type": "execute_result"
    }
   ],
   "source": [
    "dt_long1.tail(2)"
   ]
  },
  {
   "cell_type": "code",
   "execution_count": 13,
   "metadata": {},
   "outputs": [
    {
     "name": "stdout",
     "output_type": "stream",
     "text": [
      "Wall time: 26 s\n"
     ]
    }
   ],
   "source": [
    "%%time\n",
    "# Добавляем признаки дня, месяца, дня недели, часа и года.\n",
    "dt_long1['day'] = dt_long1.date_hour.map(lambda x: x.day)\n",
    "dt_long1['month'] = dt_long1.date_hour.map(lambda x: x.month)\n",
    "dt_long1['weekday'] = dt_long1.date_hour.map(lambda x: x.weekday())\n",
    "dt_long1['hour'] = dt_long1.date_hour.map(lambda x: x.hour)\n",
    "dt_long1['year'] = dt_long1.date_hour.map(lambda x: x.year)"
   ]
  },
  {
   "cell_type": "code",
   "execution_count": 15,
   "metadata": {},
   "outputs": [
    {
     "name": "stdout",
     "output_type": "stream",
     "text": [
      "Wall time: 593 ms\n"
     ]
    }
   ],
   "source": [
    "%%time\n",
    "# Добавляем признаки числа поездок из этого региона за прошлые часы и дни\n",
    "for i in xrange(1, 24):\n",
    "    dt_long1['sh_' + str(i)] = dt_long1['val'] - dt_long1['val'].shift(i)"
   ]
  },
  {
   "cell_type": "code",
   "execution_count": 17,
   "metadata": {},
   "outputs": [
    {
     "name": "stdout",
     "output_type": "stream",
     "text": [
      "Wall time: 375 ms\n"
     ]
    }
   ],
   "source": [
    "%%time\n",
    "for i in xrange(1, 15):\n",
    "    dt_long1['sd_' + str(i)] = dt_long1['val'] - dt_long1['val'].shift(24*i)"
   ]
  },
  {
   "cell_type": "code",
   "execution_count": 18,
   "metadata": {},
   "outputs": [
    {
     "name": "stdout",
     "output_type": "stream",
     "text": [
      "Wall time: 8min 54s\n"
     ]
    }
   ],
   "source": [
    "%%time\n",
    "dt_long1['sum_p_12_h'] = [dt_long1['val'][i-12:i].sum() for i in xrange(dt_long1.shape[0])]\n",
    "dt_long1['sum_p_24_h'] = [dt_long1['val'][i-24:i].sum() for i in xrange(dt_long1.shape[0])]\n",
    "dt_long1['sum_p_w'] = [dt_long1['val'][i-24*7:i].sum() for i in xrange(dt_long1.shape[0])]"
   ]
  },
  {
   "cell_type": "code",
   "execution_count": 19,
   "metadata": {},
   "outputs": [
    {
     "name": "stdout",
     "output_type": "stream",
     "text": [
      "Wall time: 32.7 s\n"
     ]
    }
   ],
   "source": [
    "%%time\n",
    "# Создадим регрессионные признаки для учёта сезонностей и трендов.\n",
    "#Si=sin([1,…,T]∗2πi/168),Ci=cos([1,…,T]∗2πi/168),i=1,…,K.\n",
    "# К возьму 7\n",
    "itog_param = []\n",
    "temp_param = []\n",
    "K=7\n",
    "arr_param = np.zeros((2232474,14), dtype=float)\n",
    "\n",
    "#задублирую на все зоны\n",
    "for j in range(K):\n",
    "    temp_param = []\n",
    "    for i in range(len(arr_param)):    \n",
    "        arr_param[i,j*2] = sin((i+1)*2*np.pi*(j+1)/168.)\n",
    "        arr_param[i,j*2+1] = cos((i+1)*2*np.pi*(j+1)/168.)\n",
    "        \n",
    "# добавляем синусы и косинусы в итоговый фрейм\n",
    "for i in range(arr_param.shape[1]/2):\n",
    "    dt_long1['sin_'+str(i+1)] = arr_param[:,i*2]\n",
    "    dt_long1['cos_'+str(i+1)] = arr_param[:,i*2+1]"
   ]
  },
  {
   "cell_type": "code",
   "execution_count": 22,
   "metadata": {
    "collapsed": true
   },
   "outputs": [],
   "source": [
    "# Добавляем целевые значения для каждой из 6 моделей\n",
    "for i in xrange(1, 7):\n",
    "    dt_long1['target_' + str(i)] = dt_long1['val'].shift(-i)"
   ]
  },
  {
   "cell_type": "code",
   "execution_count": 25,
   "metadata": {
    "scrolled": true
   },
   "outputs": [
    {
     "data": {
      "text/plain": [
       "2082534"
      ]
     },
     "execution_count": 25,
     "metadata": {},
     "output_type": "execute_result"
    }
   ],
   "source": [
    "len(X_train)"
   ]
  },
  {
   "cell_type": "code",
   "execution_count": 24,
   "metadata": {},
   "outputs": [
    {
     "name": "stderr",
     "output_type": "stream",
     "text": [
      "C:\\Users\\JB\\Anaconda2\\lib\\site-packages\\ipykernel_launcher.py:4: SettingWithCopyWarning: \n",
      "A value is trying to be set on a copy of a slice from a DataFrame\n",
      "\n",
      "See the caveats in the documentation: http://pandas.pydata.org/pandas-docs/stable/indexing.html#indexing-view-versus-copy\n",
      "  after removing the cwd from sys.path.\n",
      "C:\\Users\\JB\\Anaconda2\\lib\\site-packages\\ipykernel_launcher.py:7: SettingWithCopyWarning: \n",
      "A value is trying to be set on a copy of a slice from a DataFrame\n",
      "\n",
      "See the caveats in the documentation: http://pandas.pydata.org/pandas-docs/stable/indexing.html#indexing-view-versus-copy\n",
      "  import sys\n"
     ]
    }
   ],
   "source": [
    "# подготовлю тест и трейн\n",
    "X_train = dt_long1[(dt_long1.date_hour >= train_from) & (dt_long1.date_hour <= train_to)]\n",
    "X_train.drop(['date_hour','target_1','target_2','target_3','target_4','target_5','target_6'],\n",
    "             inplace=True, axis=1)\n",
    "X_test = dt_long1[(dt_long1.date_hour >= test_from) & (dt_long1.date_hour <= test_to)]\n",
    "X_test.drop(['date_hour','target_1','target_2','target_3','target_4','target_5','target_6'],\n",
    "             inplace=True, axis=1)\n"
   ]
  },
  {
   "cell_type": "code",
   "execution_count": 52,
   "metadata": {
    "scrolled": true
   },
   "outputs": [
    {
     "name": "stdout",
     "output_type": "stream",
     "text": [
      "точность модели linear regression для Т+1 = 0.971145365098\n",
      "точность модели linear regression для Т+2 = 0.938406286643\n",
      "точность модели linear regression для Т+3 = 0.916505151295\n",
      "точность модели linear regression для Т+4 = 0.903575242355\n",
      "точность модели linear regression для Т+5 = 0.897442676005\n",
      "точность модели linear regression для Т+6 = 0.895283338759\n",
      "Wall time: 1min 5s\n"
     ]
    }
   ],
   "source": [
    "%%time\n",
    "# Create linear regression object для для 6-ти концов истории своя модель\n",
    "# заодно посчитаю ошибку за май\n",
    "models = dict()\n",
    "Qmay = 0 # ошибка предсказания за май\n",
    "\n",
    "for i in xrange(1,7):\n",
    "    \n",
    "    # определяю целевые значения, т.е. сдвинутые на 1 - 6 часов\n",
    "    y_train = dt_long1[(dt_long1.date_hour >= train_from) & (dt_long1.date_hour <= train_to)]['target_'+str(i)].values\n",
    "    y_test = dt_long1[(dt_long1.date_hour >= test_from) & (dt_long1.date_hour <= test_to)]['target_'+str(i)].values\n",
    "    \n",
    "    clf_LIN = linear_model.LinearRegression()\n",
    "    clf_LIN.fit(X_train, y_train)\n",
    "    pred_LIN = clf_LIN.predict(X_test)\n",
    "    score_LIN = clf_LIN.score(X_test, y_test)\n",
    "    \n",
    "# занулим отриательные предсказания\n",
    "    pred_LIN[pred_LIN < 0] = 0  # All low values set to 0\n",
    "    \n",
    "    models[i] = (i, clf_LIN)\n",
    "    \n",
    "    Qmay += sum(abs(y_test-pred_LIN))\n",
    "\n",
    "    print 'точность модели linear regression для Т+' + str(i) + ' = ' + str(score_LIN)"
   ]
  },
  {
   "cell_type": "markdown",
   "metadata": {},
   "source": [
    "точность падает чем дальше в будущее строится модель, хотелось бы понять почему"
   ]
  },
  {
   "cell_type": "markdown",
   "metadata": {
    "collapsed": true
   },
   "source": [
    "Выбранными моделями постройте для каждой географической зоны и каждого конца истории от 2016.04.30 23:00 до 2016.05.31 17:00 прогнозы на 6 часов вперёд; посчитайте в ноутбуке ошибку прогноза"
   ]
  },
  {
   "cell_type": "code",
   "execution_count": 53,
   "metadata": {
    "scrolled": true
   },
   "outputs": [
    {
     "data": {
      "text/plain": [
       "33.25634368080204"
      ]
     },
     "execution_count": 53,
     "metadata": {},
     "output_type": "execute_result"
    }
   ],
   "source": [
    "# считаем ошибку прогноза\n",
    "1/(102*739*6.)*Qmay"
   ]
  },
  {
   "cell_type": "markdown",
   "metadata": {},
   "source": [
    "ошибка стала меньше, на 4-й неделе была 42"
   ]
  },
  {
   "cell_type": "markdown",
   "metadata": {},
   "source": [
    " Итоговыми моделями постройте прогнозы для каждого конца истории от 2016.05.31 23:00 до 2016.06.30 17:00 и запишите все результаты в один файл "
   ]
  },
  {
   "cell_type": "code",
   "execution_count": 73,
   "metadata": {},
   "outputs": [
    {
     "name": "stderr",
     "output_type": "stream",
     "text": [
      "C:\\Users\\JB\\Anaconda2\\lib\\site-packages\\ipykernel_launcher.py:10: SettingWithCopyWarning: \n",
      "A value is trying to be set on a copy of a slice from a DataFrame\n",
      "\n",
      "See the caveats in the documentation: http://pandas.pydata.org/pandas-docs/stable/indexing.html#indexing-view-versus-copy\n",
      "  # Remove the CWD from sys.path while we load stuff.\n",
      "C:\\Users\\JB\\Anaconda2\\lib\\site-packages\\ipykernel_launcher.py:13: SettingWithCopyWarning: \n",
      "A value is trying to be set on a copy of a slice from a DataFrame\n",
      "\n",
      "See the caveats in the documentation: http://pandas.pydata.org/pandas-docs/stable/indexing.html#indexing-view-versus-copy\n",
      "  del sys.path[0]\n"
     ]
    }
   ],
   "source": [
    "# для предсказания июня обучаться будем с 2014 по 05.2016\n",
    "train_from = pd.to_datetime('2014-01-01 00:00:00')\n",
    "train_to = pd.to_datetime('2016-05-31 23:00:00')\n",
    "\n",
    "test_from = pd.to_datetime('2016-05-31 23:00:00')\n",
    "test_to = pd.to_datetime('2016-06-30 17:00:00')\n",
    "\n",
    "X_train = dt_long1[(dt_long1.date_hour >= train_from) & (dt_long1.date_hour <= train_to)]\n",
    "X_train.drop(['date_hour','target_1','target_2','target_3','target_4','target_5','target_6'],\n",
    "             inplace=True, axis=1)\n",
    "X_test = dt_long1[(dt_long1.date_hour >= test_from) & (dt_long1.date_hour <= test_to)]\n",
    "X_test.drop(['date_hour','target_1','target_2','target_3','target_4','target_5','target_6'],\n",
    "             inplace=True, axis=1)\n",
    "\n",
    "# итоговый фрейм для кэгла\n",
    "dt_itog = pd.DataFrame(dt_long1[(dt_long1.date_hour >= test_from) & \n",
    "                                (dt_long1.date_hour <= test_to)][['date_hour','cell']])"
   ]
  },
  {
   "cell_type": "code",
   "execution_count": 75,
   "metadata": {
    "scrolled": true
   },
   "outputs": [
    {
     "name": "stdout",
     "output_type": "stream",
     "text": [
      "точность модели linear regression для Т+1 = 0.971175310047\n",
      "точность модели linear regression для Т+2 = 0.942189909525\n",
      "точность модели linear regression для Т+3 = 0.923310005596\n",
      "точность модели linear regression для Т+4 = 0.912912125571\n",
      "точность модели linear regression для Т+5 = 0.907807002161\n",
      "точность модели linear regression для Т+6 = 0.906099920836\n",
      "Wall time: 1min 10s\n"
     ]
    }
   ],
   "source": [
    "%%time\n",
    "# Create linear regression object для для 6-ти концов истории своя модель\n",
    "# заодно посчитаю ошибку за июнь\n",
    "models = dict()\n",
    "Qjune = 0 # ошибка предсказания за май\n",
    "\n",
    "for i in xrange(1,7):\n",
    "    \n",
    "    # определяю целевые значения, т.е. сдвинутые на 1 - 6 часов\n",
    "    y_train = dt_long1[(dt_long1.date_hour >= train_from) & (dt_long1.date_hour <= train_to)]['target_'+str(i)].values\n",
    "    y_test = dt_long1[(dt_long1.date_hour >= test_from) & (dt_long1.date_hour <= test_to)]['target_'+str(i)].values\n",
    "    \n",
    "    clf_LIN = linear_model.LinearRegression()\n",
    "    clf_LIN.fit(X_train, y_train)\n",
    "    pred_LIN = clf_LIN.predict(X_test)\n",
    "    score_LIN = clf_LIN.score(X_test, y_test)\n",
    "    \n",
    "# занулим отриательные предсказания\n",
    "    pred_LIN[pred_LIN < 0] = 0  # All low values set to 0\n",
    "    \n",
    "    models[i] = (i, clf_LIN)\n",
    "    \n",
    "    Qjune += sum(abs(y_test-pred_LIN))\n",
    "    \n",
    "    dt_itog[str(i)] = pred_LIN\n",
    "\n",
    "    print 'точность модели linear regression для Т+' + str(i) + ' = ' + str(score_LIN)"
   ]
  },
  {
   "cell_type": "code",
   "execution_count": 76,
   "metadata": {},
   "outputs": [
    {
     "data": {
      "text/plain": [
       "29.834049423253042"
      ]
     },
     "execution_count": 76,
     "metadata": {},
     "output_type": "execute_result"
    }
   ],
   "source": [
    "# считаем ошибку прогноза\n",
    "1/(102*739*6.)*Qjune"
   ]
  },
  {
   "cell_type": "code",
   "execution_count": 102,
   "metadata": {
    "collapsed": true
   },
   "outputs": [],
   "source": [
    "# функция по приведения даты к нкжному формату\n",
    "def date_str(timed):\n",
    "    if (timed).strftime('%H')=='00': \n",
    "        a = str((timed).strftime('%Y-%m-%d_'))+'0' \n",
    "    else: a = str((timed).strftime('%Y-%m-%d_'))+str((timed).strftime('%H')).lstrip(\"0\")\n",
    "    return a"
   ]
  },
  {
   "cell_type": "code",
   "execution_count": 77,
   "metadata": {
    "scrolled": false
   },
   "outputs": [
    {
     "data": {
      "text/html": [
       "<div>\n",
       "<style>\n",
       "    .dataframe thead tr:only-child th {\n",
       "        text-align: right;\n",
       "    }\n",
       "\n",
       "    .dataframe thead th {\n",
       "        text-align: left;\n",
       "    }\n",
       "\n",
       "    .dataframe tbody tr th {\n",
       "        vertical-align: top;\n",
       "    }\n",
       "</style>\n",
       "<table border=\"1\" class=\"dataframe\">\n",
       "  <thead>\n",
       "    <tr style=\"text-align: right;\">\n",
       "      <th></th>\n",
       "      <th>date_hour</th>\n",
       "      <th>cell</th>\n",
       "      <th>1</th>\n",
       "      <th>2</th>\n",
       "      <th>3</th>\n",
       "      <th>4</th>\n",
       "      <th>5</th>\n",
       "      <th>6</th>\n",
       "    </tr>\n",
       "  </thead>\n",
       "  <tbody>\n",
       "    <tr>\n",
       "      <th>21166</th>\n",
       "      <td>2016-05-31 23:00:00</td>\n",
       "      <td>1075</td>\n",
       "      <td>20.022723</td>\n",
       "      <td>17.930056</td>\n",
       "      <td>11.820684</td>\n",
       "      <td>5.557862</td>\n",
       "      <td>5.114939</td>\n",
       "      <td>7.472430</td>\n",
       "    </tr>\n",
       "    <tr>\n",
       "      <th>21167</th>\n",
       "      <td>2016-06-01 00:00:00</td>\n",
       "      <td>1075</td>\n",
       "      <td>25.525291</td>\n",
       "      <td>16.832089</td>\n",
       "      <td>9.975382</td>\n",
       "      <td>11.347308</td>\n",
       "      <td>18.415621</td>\n",
       "      <td>31.084236</td>\n",
       "    </tr>\n",
       "  </tbody>\n",
       "</table>\n",
       "</div>"
      ],
      "text/plain": [
       "                date_hour  cell          1          2          3          4  \\\n",
       "21166 2016-05-31 23:00:00  1075  20.022723  17.930056  11.820684   5.557862   \n",
       "21167 2016-06-01 00:00:00  1075  25.525291  16.832089   9.975382  11.347308   \n",
       "\n",
       "               5          6  \n",
       "21166   5.114939   7.472430  \n",
       "21167  18.415621  31.084236  "
      ]
     },
     "execution_count": 77,
     "metadata": {},
     "output_type": "execute_result"
    }
   ],
   "source": [
    "dt_itog.head(2)"
   ]
  },
  {
   "cell_type": "code",
   "execution_count": 104,
   "metadata": {
    "scrolled": true
   },
   "outputs": [
    {
     "name": "stdout",
     "output_type": "stream",
     "text": [
      "Wall time: 21.1 s\n"
     ]
    }
   ],
   "source": [
    "%%time\n",
    "# соберем теперь файл для кэгла\n",
    "arr_pred_june = [] # итоговый массив\n",
    "dt_Kaggle = pd.DataFrame()\n",
    "for i in range(dt_itog.shape[0]):\n",
    "    for j in xrange(1,7):\n",
    "        arr_pred_june.append([str(dt_itog.cell.iloc[i]) + '_' + date_str(dt_itog.date_hour.iloc[i]) + '_' + str(j),\n",
    "                            int(round(dt_itog[str(j)].iloc[i]))])"
   ]
  },
  {
   "cell_type": "code",
   "execution_count": 97,
   "metadata": {
    "scrolled": true
   },
   "outputs": [
    {
     "data": {
      "text/plain": [
       "437580"
      ]
     },
     "execution_count": 97,
     "metadata": {},
     "output_type": "execute_result"
    }
   ],
   "source": [
    "len(arr_pred_june)"
   ]
  },
  {
   "cell_type": "code",
   "execution_count": 105,
   "metadata": {
    "collapsed": true
   },
   "outputs": [],
   "source": [
    "all_pd = pd.DataFrame(arr_pred_june)\n",
    "all_pd.columns = ['id','y']"
   ]
  },
  {
   "cell_type": "code",
   "execution_count": 107,
   "metadata": {
    "scrolled": true
   },
   "outputs": [
    {
     "data": {
      "text/html": [
       "<div>\n",
       "<style>\n",
       "    .dataframe thead tr:only-child th {\n",
       "        text-align: right;\n",
       "    }\n",
       "\n",
       "    .dataframe thead th {\n",
       "        text-align: left;\n",
       "    }\n",
       "\n",
       "    .dataframe tbody tr th {\n",
       "        vertical-align: top;\n",
       "    }\n",
       "</style>\n",
       "<table border=\"1\" class=\"dataframe\">\n",
       "  <thead>\n",
       "    <tr style=\"text-align: right;\">\n",
       "      <th></th>\n",
       "      <th>id</th>\n",
       "      <th>y</th>\n",
       "    </tr>\n",
       "  </thead>\n",
       "  <tbody>\n",
       "    <tr>\n",
       "      <th>0</th>\n",
       "      <td>1075_2016-05-31_23_1</td>\n",
       "      <td>20</td>\n",
       "    </tr>\n",
       "    <tr>\n",
       "      <th>1</th>\n",
       "      <td>1075_2016-05-31_23_2</td>\n",
       "      <td>18</td>\n",
       "    </tr>\n",
       "  </tbody>\n",
       "</table>\n",
       "</div>"
      ],
      "text/plain": [
       "                     id   y\n",
       "0  1075_2016-05-31_23_1  20\n",
       "1  1075_2016-05-31_23_2  18"
      ]
     },
     "execution_count": 107,
     "metadata": {},
     "output_type": "execute_result"
    }
   ],
   "source": [
    "all_pd.head(2)"
   ]
  },
  {
   "cell_type": "code",
   "execution_count": 108,
   "metadata": {
    "collapsed": true
   },
   "outputs": [],
   "source": [
    "all_pd.to_csv('itog5.csv', sep=',', index=False)"
   ]
  },
  {
   "cell_type": "markdown",
   "metadata": {},
   "source": [
    "Score на kaggle стал лучше на 3% благодаря регрессии  https://yadi.sk/i/Rp8l-JG23Zouni"
   ]
  },
  {
   "cell_type": "markdown",
   "metadata": {},
   "source": [
    "ссылка на решение https://www.kaggle.com/submissions/8069139/8069139.zip"
   ]
  }
 ],
 "metadata": {
  "kernelspec": {
   "display_name": "Python 2",
   "language": "python",
   "name": "python2"
  },
  "language_info": {
   "codemirror_mode": {
    "name": "ipython",
    "version": 2
   },
   "file_extension": ".py",
   "mimetype": "text/x-python",
   "name": "python",
   "nbconvert_exporter": "python",
   "pygments_lexer": "ipython2",
   "version": "2.7.14"
  }
 },
 "nbformat": 4,
 "nbformat_minor": 2
}
